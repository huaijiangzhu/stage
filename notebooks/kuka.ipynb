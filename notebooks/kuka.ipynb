{
 "cells": [
  {
   "cell_type": "code",
   "execution_count": 1,
   "metadata": {},
   "outputs": [],
   "source": [
    "%matplotlib inline\n",
    "%load_ext autoreload\n",
    "%autoreload 2"
   ]
  },
  {
   "cell_type": "code",
   "execution_count": 2,
   "metadata": {},
   "outputs": [],
   "source": [
    "import os\n",
    "import inspect\n",
    "currentdir = os.path.dirname(os.path.abspath(\n",
    "    inspect.getfile(inspect.currentframe())))\n",
    "parentdir = os.path.dirname(currentdir)\n",
    "os.sys.path.insert(1, parentdir+'/src')\n",
    "import torch\n",
    "import numpy as np\n",
    "import time\n",
    "from tqdm import trange\n",
    "import matplotlib.pyplot as plt"
   ]
  },
  {
   "cell_type": "code",
   "execution_count": 3,
   "metadata": {},
   "outputs": [],
   "source": [
    "import gym\n",
    "import pybullet as p\n",
    "import stage.envs\n",
    "from stage.tasks.kuka import KukaPETS\n",
    "from stage.utils.nn import use_gpu\n",
    "use_gpu()"
   ]
  },
  {
   "cell_type": "code",
   "execution_count": 4,
   "metadata": {},
   "outputs": [],
   "source": [
    "savepath = parentdir + '/data/kuka/'"
   ]
  },
  {
   "cell_type": "code",
   "execution_count": 5,
   "metadata": {},
   "outputs": [],
   "source": [
    "costs = torch.Tensor([])"
   ]
  },
  {
   "cell_type": "code",
   "execution_count": 6,
   "metadata": {
    "scrolled": false
   },
   "outputs": [],
   "source": [
    "kuka = KukaPETS(render=False, \n",
    "                   action_parameterization='pd')\n",
    "nq, nv, nu, nx, na = kuka.nq, kuka.nv, kuka.nu, kuka.nx, kuka.na"
   ]
  },
  {
   "cell_type": "code",
   "execution_count": 7,
   "metadata": {
    "scrolled": false
   },
   "outputs": [
    {
     "name": "stderr",
     "output_type": "stream",
     "text": [
      "Network training: 100%|██████████| 10/10 [00:00<00:00, 26.62epoch(s)/s, Training loss MSE=25.177876]\n"
     ]
    },
    {
     "name": "stdout",
     "output_type": "stream",
     "text": [
      "Iteration:  0\n",
      "avg. decision time:  0.004633801778157552\n",
      "obs. reward:  -1049.6711\n",
      "act. reward:  -2.3127959\n"
     ]
    },
    {
     "name": "stderr",
     "output_type": "stream",
     "text": [
      "Network training: 100%|██████████| 10/10 [00:00<00:00, 17.61epoch(s)/s, Training loss MSE=22.94724]\n"
     ]
    },
    {
     "name": "stdout",
     "output_type": "stream",
     "text": [
      "Iteration:  1\n",
      "avg. decision time:  0.14044910113016765\n",
      "obs. reward:  -712.5591\n",
      "act. reward:  -3.1438015\n"
     ]
    },
    {
     "name": "stderr",
     "output_type": "stream",
     "text": [
      "Network training: 100%|██████████| 10/10 [00:00<00:00, 17.11epoch(s)/s, Training loss MSE=12.64312] \n"
     ]
    },
    {
     "name": "stdout",
     "output_type": "stream",
     "text": [
      "Iteration:  2\n",
      "avg. decision time:  0.13956781228383383\n",
      "obs. reward:  -704.6019\n",
      "act. reward:  -0.012805265\n"
     ]
    },
    {
     "name": "stderr",
     "output_type": "stream",
     "text": [
      "Network training: 100%|██████████| 10/10 [00:00<00:00, 14.23epoch(s)/s, Training loss MSE=8.869279]\n"
     ]
    },
    {
     "name": "stdout",
     "output_type": "stream",
     "text": [
      "Iteration:  3\n",
      "avg. decision time:  0.13916935602823893\n",
      "obs. reward:  -750.2272\n",
      "act. reward:  -0.29436955\n"
     ]
    },
    {
     "name": "stderr",
     "output_type": "stream",
     "text": [
      "Network training: 100%|██████████| 10/10 [00:02<00:00,  4.63epoch(s)/s, Training loss MSE=6.3990984]\n"
     ]
    },
    {
     "name": "stdout",
     "output_type": "stream",
     "text": [
      "Iteration:  4\n",
      "avg. decision time:  0.14111220200856528\n",
      "obs. reward:  -567.8983\n",
      "act. reward:  -0.008097673\n"
     ]
    },
    {
     "name": "stderr",
     "output_type": "stream",
     "text": [
      "Network training: 100%|██████████| 10/10 [00:03<00:00,  2.81epoch(s)/s, Training loss MSE=4.5158553]\n"
     ]
    },
    {
     "name": "stdout",
     "output_type": "stream",
     "text": [
      "Iteration:  5\n",
      "avg. decision time:  0.14137084484100343\n",
      "obs. reward:  -611.9739\n",
      "act. reward:  -0.009925319\n"
     ]
    },
    {
     "name": "stderr",
     "output_type": "stream",
     "text": [
      "Network training: 100%|██████████| 10/10 [00:04<00:00,  2.46epoch(s)/s, Training loss MSE=3.6202576]\n"
     ]
    },
    {
     "name": "stdout",
     "output_type": "stream",
     "text": [
      "Iteration:  6\n",
      "avg. decision time:  0.1406394624710083\n",
      "obs. reward:  -595.0714\n",
      "act. reward:  -1.0440419\n"
     ]
    },
    {
     "name": "stderr",
     "output_type": "stream",
     "text": [
      "Network training: 100%|██████████| 10/10 [00:04<00:00,  2.15epoch(s)/s, Training loss MSE=2.7142496]\n"
     ]
    },
    {
     "name": "stdout",
     "output_type": "stream",
     "text": [
      "Iteration:  7\n",
      "avg. decision time:  0.14058027744293214\n",
      "obs. reward:  -689.42126\n",
      "act. reward:  -0.034259476\n"
     ]
    },
    {
     "name": "stderr",
     "output_type": "stream",
     "text": [
      "Network training: 100%|██████████| 10/10 [00:05<00:00,  1.87epoch(s)/s, Training loss MSE=2.3553898]\n"
     ]
    },
    {
     "name": "stdout",
     "output_type": "stream",
     "text": [
      "Iteration:  8\n",
      "avg. decision time:  0.15219966411590577\n",
      "obs. reward:  -381.1032\n",
      "act. reward:  -0.4950761\n"
     ]
    },
    {
     "name": "stderr",
     "output_type": "stream",
     "text": [
      "Network training: 100%|██████████| 10/10 [00:04<00:00,  2.02epoch(s)/s, Training loss MSE=2.2911847]\n"
     ]
    },
    {
     "name": "stdout",
     "output_type": "stream",
     "text": [
      "Iteration:  9\n",
      "avg. decision time:  0.1391723903020223\n",
      "obs. reward:  -262.66602\n",
      "act. reward:  -0.32892948\n"
     ]
    },
    {
     "name": "stderr",
     "output_type": "stream",
     "text": [
      "Network training: 100%|██████████| 10/10 [00:03<00:00,  2.62epoch(s)/s, Training loss MSE=2.2033675]\n"
     ]
    },
    {
     "name": "stdout",
     "output_type": "stream",
     "text": [
      "Iteration:  10\n",
      "avg. decision time:  0.1389141050974528\n",
      "obs. reward:  -186.32877\n",
      "act. reward:  -0.040570986\n"
     ]
    },
    {
     "name": "stderr",
     "output_type": "stream",
     "text": [
      "Network training: 100%|██████████| 10/10 [00:06<00:00,  1.58epoch(s)/s, Training loss MSE=2.182587]\n"
     ]
    },
    {
     "name": "stdout",
     "output_type": "stream",
     "text": [
      "Iteration:  11\n",
      "avg. decision time:  0.1390470012029012\n",
      "obs. reward:  -187.8501\n",
      "act. reward:  -0.04467162\n"
     ]
    },
    {
     "name": "stderr",
     "output_type": "stream",
     "text": [
      "Network training: 100%|██████████| 10/10 [00:05<00:00,  1.75epoch(s)/s, Training loss MSE=1.3906353]\n"
     ]
    },
    {
     "name": "stdout",
     "output_type": "stream",
     "text": [
      "Iteration:  12\n",
      "avg. decision time:  0.13994776248931884\n",
      "obs. reward:  -186.0079\n",
      "act. reward:  -0.036579557\n"
     ]
    },
    {
     "name": "stderr",
     "output_type": "stream",
     "text": [
      "Network training: 100%|██████████| 10/10 [00:08<00:00,  1.24epoch(s)/s, Training loss MSE=1.2291458]\n"
     ]
    },
    {
     "name": "stdout",
     "output_type": "stream",
     "text": [
      "Iteration:  13\n",
      "avg. decision time:  0.1394701321919759\n",
      "obs. reward:  -182.9719\n",
      "act. reward:  -0.037224967\n"
     ]
    },
    {
     "name": "stderr",
     "output_type": "stream",
     "text": [
      "Network training: 100%|██████████| 10/10 [00:08<00:00,  1.15epoch(s)/s, Training loss MSE=1.5008515]\n"
     ]
    },
    {
     "name": "stdout",
     "output_type": "stream",
     "text": [
      "Iteration:  14\n",
      "avg. decision time:  0.1395726792017619\n",
      "obs. reward:  -182.73793\n",
      "act. reward:  -0.03356987\n"
     ]
    },
    {
     "name": "stderr",
     "output_type": "stream",
     "text": [
      "Network training: 100%|██████████| 10/10 [00:02<00:00,  3.68epoch(s)/s, Training loss MSE=1.2680978]\n"
     ]
    },
    {
     "name": "stdout",
     "output_type": "stream",
     "text": [
      "Iteration:  15\n",
      "avg. decision time:  0.13910467624664308\n",
      "obs. reward:  -173.31519\n",
      "act. reward:  -0.034371264\n"
     ]
    },
    {
     "name": "stderr",
     "output_type": "stream",
     "text": [
      "Network training: 100%|██████████| 10/10 [00:07<00:00,  1.38epoch(s)/s, Training loss MSE=1.1089493]\n"
     ]
    },
    {
     "name": "stdout",
     "output_type": "stream",
     "text": [
      "Iteration:  16\n",
      "avg. decision time:  0.13912630081176758\n",
      "obs. reward:  -164.47343\n",
      "act. reward:  -0.033739954\n"
     ]
    },
    {
     "name": "stderr",
     "output_type": "stream",
     "text": [
      "Network training: 100%|██████████| 10/10 [00:10<00:00,  1.03s/epoch(s), Training loss MSE=0.830196] \n"
     ]
    },
    {
     "name": "stdout",
     "output_type": "stream",
     "text": [
      "Iteration:  17\n",
      "avg. decision time:  0.13970343430836996\n",
      "obs. reward:  -154.54085\n",
      "act. reward:  -0.047920458\n"
     ]
    },
    {
     "name": "stderr",
     "output_type": "stream",
     "text": [
      "Network training: 100%|██████████| 10/10 [00:05<00:00,  1.79epoch(s)/s, Training loss MSE=0.6753714]\n"
     ]
    },
    {
     "name": "stdout",
     "output_type": "stream",
     "text": [
      "Iteration:  18\n",
      "avg. decision time:  0.13958600680033365\n",
      "obs. reward:  -158.95601\n",
      "act. reward:  -0.0744424\n"
     ]
    },
    {
     "name": "stderr",
     "output_type": "stream",
     "text": [
      "Network training: 100%|██████████| 10/10 [00:03<00:00,  2.93epoch(s)/s, Training loss MSE=1.0015132]\n"
     ]
    },
    {
     "name": "stdout",
     "output_type": "stream",
     "text": [
      "Iteration:  19\n",
      "avg. decision time:  0.13926610946655274\n",
      "obs. reward:  -144.25482\n",
      "act. reward:  -0.07743053\n"
     ]
    },
    {
     "name": "stderr",
     "output_type": "stream",
     "text": [
      "Network training: 100%|██████████| 10/10 [00:03<00:00,  2.77epoch(s)/s, Training loss MSE=0.89044803]\n"
     ]
    },
    {
     "name": "stdout",
     "output_type": "stream",
     "text": [
      "Iteration:  20\n",
      "avg. decision time:  0.13952134450276693\n",
      "obs. reward:  -134.79582\n",
      "act. reward:  -0.076371536\n"
     ]
    },
    {
     "name": "stderr",
     "output_type": "stream",
     "text": [
      "Network training: 100%|██████████| 10/10 [00:05<00:00,  1.80epoch(s)/s, Training loss MSE=1.1793495]\n"
     ]
    },
    {
     "name": "stdout",
     "output_type": "stream",
     "text": [
      "Iteration:  21\n",
      "avg. decision time:  0.14029624621073405\n",
      "obs. reward:  -145.73756\n",
      "act. reward:  -0.16293016\n"
     ]
    },
    {
     "name": "stderr",
     "output_type": "stream",
     "text": [
      "Network training: 100%|██████████| 10/10 [00:06<00:00,  1.62epoch(s)/s, Training loss MSE=0.9890762]\n"
     ]
    },
    {
     "name": "stdout",
     "output_type": "stream",
     "text": [
      "Iteration:  22\n",
      "avg. decision time:  0.14514816919962564\n",
      "obs. reward:  -188.04459\n",
      "act. reward:  -0.025815655\n"
     ]
    },
    {
     "name": "stderr",
     "output_type": "stream",
     "text": [
      "Network training: 100%|██████████| 10/10 [00:13<00:00,  1.38s/epoch(s), Training loss MSE=0.9709899]\n"
     ]
    },
    {
     "name": "stdout",
     "output_type": "stream",
     "text": [
      "Iteration:  23\n",
      "avg. decision time:  0.1409125550587972\n",
      "obs. reward:  -169.02257\n",
      "act. reward:  -0.06730233\n"
     ]
    },
    {
     "name": "stderr",
     "output_type": "stream",
     "text": [
      "Network training: 100%|██████████| 10/10 [00:14<00:00,  1.44s/epoch(s), Training loss MSE=1.0112948]\n"
     ]
    },
    {
     "name": "stdout",
     "output_type": "stream",
     "text": [
      "Iteration:  24\n",
      "avg. decision time:  0.13988189220428468\n",
      "obs. reward:  -149.52165\n",
      "act. reward:  -0.08594513\n"
     ]
    },
    {
     "name": "stderr",
     "output_type": "stream",
     "text": [
      "Network training: 100%|██████████| 10/10 [00:14<00:00,  1.49s/epoch(s), Training loss MSE=0.90023977]\n"
     ]
    },
    {
     "name": "stdout",
     "output_type": "stream",
     "text": [
      "Iteration:  25\n",
      "avg. decision time:  0.13976731936136882\n",
      "obs. reward:  -137.5463\n",
      "act. reward:  -0.096535355\n"
     ]
    },
    {
     "name": "stderr",
     "output_type": "stream",
     "text": [
      "Network training: 100%|██████████| 10/10 [00:13<00:00,  1.38s/epoch(s), Training loss MSE=0.8331198]\n"
     ]
    },
    {
     "name": "stdout",
     "output_type": "stream",
     "text": [
      "Iteration:  26\n",
      "avg. decision time:  0.14102394898732504\n",
      "obs. reward:  -126.44796\n",
      "act. reward:  -0.100819536\n"
     ]
    },
    {
     "name": "stderr",
     "output_type": "stream",
     "text": [
      "Network training: 100%|██████████| 10/10 [00:16<00:00,  1.61s/epoch(s), Training loss MSE=1.7110347]\n"
     ]
    },
    {
     "name": "stdout",
     "output_type": "stream",
     "text": [
      "Iteration:  27\n",
      "avg. decision time:  0.14232221921284993\n",
      "obs. reward:  -125.60358\n",
      "act. reward:  -0.086002775\n"
     ]
    },
    {
     "name": "stderr",
     "output_type": "stream",
     "text": [
      "Network training: 100%|██████████| 10/10 [00:16<00:00,  1.66s/epoch(s), Training loss MSE=1.3192518]\n"
     ]
    },
    {
     "name": "stdout",
     "output_type": "stream",
     "text": [
      "Iteration:  28\n",
      "avg. decision time:  0.14043976624806723\n",
      "obs. reward:  -185.61719\n",
      "act. reward:  -0.030029058\n"
     ]
    },
    {
     "name": "stderr",
     "output_type": "stream",
     "text": [
      "Network training: 100%|██████████| 10/10 [00:17<00:00,  1.71s/epoch(s), Training loss MSE=1.1504887]"
     ]
    },
    {
     "name": "stdout",
     "output_type": "stream",
     "text": [
      "Iteration:  29\n",
      "avg. decision time:  0.13896193027496337\n",
      "obs. reward:  -128.1422\n",
      "act. reward:  -0.07530102\n"
     ]
    },
    {
     "name": "stderr",
     "output_type": "stream",
     "text": [
      "\n"
     ]
    }
   ],
   "source": [
    "_ = kuka.learn(30, verbose=True)\n",
    "kuka.save_training_data(savepath+'data_pd_reg_2')"
   ]
  },
  {
   "cell_type": "code",
   "execution_count": 10,
   "metadata": {},
   "outputs": [
    {
     "name": "stdout",
     "output_type": "stream",
     "text": [
      "avg. decision time:  0.14192584037780762\n",
      "obs. reward:  -128.33168\n",
      "act. reward:  -0.0881113\n",
      "tensor(5.7500, grad_fn=<MeanBackward0>)\n",
      "tensor(25.4676, grad_fn=<StdBackward0>)\n"
     ]
    }
   ],
   "source": [
    "traj, log = kuka.perform(kuka.goal)\n",
    "act_seq = traj[:, 14:28]\n",
    "initial_obs = traj[0, :14]\n",
    "final_obs = traj[-1, :14]\n",
    "\n",
    "n_sample = 50\n",
    "obs_traj = kuka.dynamics.unroll(initial_obs, \n",
    "                                act_seq, \n",
    "                                n_sample)\n",
    "\n",
    "predicted_err = torch.norm(obs_traj[-1, :, :]-final_obs.expand(n_sample, -1), p=2, dim=1)\n",
    "print (predicted_err.mean())\n",
    "print (predicted_err.std())"
   ]
  },
  {
   "cell_type": "code",
   "execution_count": null,
   "metadata": {},
   "outputs": [],
   "source": []
  }
 ],
 "metadata": {
  "kernelspec": {
   "display_name": "Python 3",
   "language": "python",
   "name": "python3"
  },
  "language_info": {
   "codemirror_mode": {
    "name": "ipython",
    "version": 3
   },
   "file_extension": ".py",
   "mimetype": "text/x-python",
   "name": "python",
   "nbconvert_exporter": "python",
   "pygments_lexer": "ipython3",
   "version": "3.6.8"
  }
 },
 "nbformat": 4,
 "nbformat_minor": 2
}
