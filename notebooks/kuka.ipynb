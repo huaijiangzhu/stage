{
 "cells": [
  {
   "cell_type": "code",
   "execution_count": 1,
   "metadata": {},
   "outputs": [],
   "source": [
    "%matplotlib inline\n",
    "%load_ext autoreload\n",
    "%autoreload 2"
   ]
  },
  {
   "cell_type": "code",
   "execution_count": 2,
   "metadata": {},
   "outputs": [],
   "source": [
    "import os\n",
    "import inspect\n",
    "currentdir = os.path.dirname(os.path.abspath(\n",
    "    inspect.getfile(inspect.currentframe())))\n",
    "parentdir = os.path.dirname(currentdir)\n",
    "os.sys.path.insert(1, parentdir+'/src')\n",
    "import torch\n",
    "import numpy as np\n",
    "import time\n",
    "from tqdm import trange\n",
    "import matplotlib.pyplot as plt"
   ]
  },
  {
   "cell_type": "code",
   "execution_count": 3,
   "metadata": {},
   "outputs": [],
   "source": [
    "import gym\n",
    "import pybullet as p\n",
    "import stage.envs\n",
    "from stage.tasks.kuka import KukaPETS\n",
    "from stage.utils.nn import use_gpu\n",
    "use_gpu()"
   ]
  },
  {
   "cell_type": "code",
   "execution_count": 4,
   "metadata": {},
   "outputs": [],
   "source": [
    "savepath = parentdir + '/data/kuka/'"
   ]
  },
  {
   "cell_type": "code",
   "execution_count": 5,
   "metadata": {
    "scrolled": false
   },
   "outputs": [],
   "source": [
    "kuka = KukaPETS(render=False, \n",
    "                   action_parameterization='pd')\n",
    "nq, nv, nu, nx, na = kuka.nq, kuka.nv, kuka.nu, kuka.nx, kuka.na"
   ]
  },
  {
   "cell_type": "code",
   "execution_count": null,
   "metadata": {
    "scrolled": false
   },
   "outputs": [
    {
     "name": "stderr",
     "output_type": "stream",
     "text": [
      "Network training: 100%|██████████| 10/10 [00:00<00:00, 25.68epoch(s)/s, Training loss MSE=21.162756]\n"
     ]
    },
    {
     "name": "stdout",
     "output_type": "stream",
     "text": [
      "Iteration:  0\n",
      "avg. decision time:  0.004625129699707031\n",
      "obs. reward:  -816.42584\n",
      "act. reward:  -1.6509734\n"
     ]
    },
    {
     "name": "stderr",
     "output_type": "stream",
     "text": [
      "Network training: 100%|██████████| 10/10 [00:01<00:00,  8.21epoch(s)/s, Training loss MSE=20.76179]\n"
     ]
    },
    {
     "name": "stdout",
     "output_type": "stream",
     "text": [
      "Iteration:  1\n",
      "avg. decision time:  0.20120111306508381\n",
      "obs. reward:  -1114.3575\n",
      "act. reward:  -1.4906739\n"
     ]
    },
    {
     "name": "stderr",
     "output_type": "stream",
     "text": [
      "Network training: 100%|██████████| 10/10 [00:01<00:00,  7.05epoch(s)/s, Training loss MSE=14.636405]\n"
     ]
    },
    {
     "name": "stdout",
     "output_type": "stream",
     "text": [
      "Iteration:  2\n",
      "avg. decision time:  0.2020616563161214\n",
      "obs. reward:  -1157.3235\n",
      "act. reward:  -2.8140328\n"
     ]
    },
    {
     "name": "stderr",
     "output_type": "stream",
     "text": [
      "Network training: 100%|██████████| 10/10 [00:02<00:00,  4.45epoch(s)/s, Training loss MSE=10.91354]\n"
     ]
    },
    {
     "name": "stdout",
     "output_type": "stream",
     "text": [
      "Iteration:  3\n",
      "avg. decision time:  0.2034950876235962\n",
      "obs. reward:  -964.01385\n",
      "act. reward:  -0.9999724\n"
     ]
    },
    {
     "name": "stderr",
     "output_type": "stream",
     "text": [
      "Network training: 100%|██████████| 10/10 [00:00<00:00, 10.44epoch(s)/s, Training loss MSE=5.788157]\n"
     ]
    },
    {
     "name": "stdout",
     "output_type": "stream",
     "text": [
      "Iteration:  4\n",
      "avg. decision time:  0.20452895959218342\n",
      "obs. reward:  -770.82367\n",
      "act. reward:  -0.007073257\n"
     ]
    },
    {
     "name": "stderr",
     "output_type": "stream",
     "text": [
      "Network training: 100%|██████████| 10/10 [00:01<00:00,  9.67epoch(s)/s, Training loss MSE=3.86224] \n"
     ]
    },
    {
     "name": "stdout",
     "output_type": "stream",
     "text": [
      "Iteration:  5\n",
      "avg. decision time:  0.2051975679397583\n",
      "obs. reward:  -706.1847\n",
      "act. reward:  -0.008558264\n"
     ]
    },
    {
     "name": "stderr",
     "output_type": "stream",
     "text": [
      "Network training: 100%|██████████| 10/10 [00:01<00:00,  8.59epoch(s)/s, Training loss MSE=2.3086228]\n"
     ]
    },
    {
     "name": "stdout",
     "output_type": "stream",
     "text": [
      "Iteration:  6\n",
      "avg. decision time:  0.20541309197743735\n",
      "obs. reward:  -763.6398\n",
      "act. reward:  -0.01812105\n"
     ]
    },
    {
     "name": "stderr",
     "output_type": "stream",
     "text": [
      "Network training: 100%|██████████| 10/10 [00:01<00:00,  7.38epoch(s)/s, Training loss MSE=1.9900383]\n"
     ]
    },
    {
     "name": "stdout",
     "output_type": "stream",
     "text": [
      "Iteration:  7\n",
      "avg. decision time:  0.20506344636281332\n",
      "obs. reward:  -710.10205\n",
      "act. reward:  -0.006782041\n"
     ]
    },
    {
     "name": "stderr",
     "output_type": "stream",
     "text": [
      "Network training: 100%|██████████| 10/10 [00:05<00:00,  1.98epoch(s)/s, Training loss MSE=2.8647766]\n"
     ]
    },
    {
     "name": "stdout",
     "output_type": "stream",
     "text": [
      "Iteration:  8\n",
      "avg. decision time:  0.20523175557454426\n",
      "obs. reward:  -602.65137\n",
      "act. reward:  -0.010954877\n"
     ]
    },
    {
     "name": "stderr",
     "output_type": "stream",
     "text": [
      "Network training: 100%|██████████| 10/10 [00:03<00:00,  2.81epoch(s)/s, Training loss MSE=1.0447825]\n"
     ]
    },
    {
     "name": "stdout",
     "output_type": "stream",
     "text": [
      "Iteration:  9\n",
      "avg. decision time:  0.20581241448720297\n",
      "obs. reward:  -630.0274\n",
      "act. reward:  -0.008212801\n"
     ]
    },
    {
     "name": "stderr",
     "output_type": "stream",
     "text": [
      "Network training: 100%|██████████| 10/10 [00:01<00:00,  5.34epoch(s)/s, Training loss MSE=1.0487427]\n"
     ]
    },
    {
     "name": "stdout",
     "output_type": "stream",
     "text": [
      "Iteration:  10\n",
      "avg. decision time:  0.20519948959350587\n",
      "obs. reward:  -558.24225\n",
      "act. reward:  -0.00599794\n"
     ]
    },
    {
     "name": "stderr",
     "output_type": "stream",
     "text": [
      "Network training: 100%|██████████| 10/10 [00:05<00:00,  1.90epoch(s)/s, Training loss MSE=1.0502834]\n"
     ]
    },
    {
     "name": "stdout",
     "output_type": "stream",
     "text": [
      "Iteration:  11\n",
      "avg. decision time:  0.20571869532267253\n",
      "obs. reward:  -435.7456\n",
      "act. reward:  -0.005334928\n"
     ]
    },
    {
     "name": "stderr",
     "output_type": "stream",
     "text": [
      "Network training: 100%|██████████| 10/10 [00:07<00:00,  1.40epoch(s)/s, Training loss MSE=0.39949065]\n"
     ]
    },
    {
     "name": "stdout",
     "output_type": "stream",
     "text": [
      "Iteration:  12\n",
      "avg. decision time:  0.20454711278279622\n",
      "obs. reward:  -312.9763\n",
      "act. reward:  -0.009785198\n"
     ]
    },
    {
     "name": "stderr",
     "output_type": "stream",
     "text": [
      "Network training: 100%|██████████| 10/10 [00:07<00:00,  1.30epoch(s)/s, Training loss MSE=1.1313845]\n"
     ]
    },
    {
     "name": "stdout",
     "output_type": "stream",
     "text": [
      "Iteration:  13\n",
      "avg. decision time:  0.20486040274302164\n",
      "obs. reward:  -282.7717\n",
      "act. reward:  -0.017096676\n"
     ]
    },
    {
     "name": "stderr",
     "output_type": "stream",
     "text": [
      "Network training: 100%|██████████| 10/10 [00:08<00:00,  1.19epoch(s)/s, Training loss MSE=0.56425166]\n"
     ]
    },
    {
     "name": "stdout",
     "output_type": "stream",
     "text": [
      "Iteration:  14\n",
      "avg. decision time:  0.20483568827311197\n",
      "obs. reward:  -254.40305\n",
      "act. reward:  -0.013473255\n"
     ]
    },
    {
     "name": "stderr",
     "output_type": "stream",
     "text": [
      "Network training: 100%|██████████| 10/10 [00:08<00:00,  1.14epoch(s)/s, Training loss MSE=0.53639436]\n"
     ]
    },
    {
     "name": "stdout",
     "output_type": "stream",
     "text": [
      "Iteration:  15\n",
      "avg. decision time:  0.2046204137802124\n",
      "obs. reward:  -235.01645\n",
      "act. reward:  -0.021628547\n"
     ]
    },
    {
     "name": "stderr",
     "output_type": "stream",
     "text": [
      "Network training: 100%|██████████| 10/10 [00:03<00:00,  2.76epoch(s)/s, Training loss MSE=0.82058996]\n"
     ]
    },
    {
     "name": "stdout",
     "output_type": "stream",
     "text": [
      "Iteration:  16\n",
      "avg. decision time:  0.20470121065775554\n",
      "obs. reward:  -225.96988\n",
      "act. reward:  -0.027570968\n"
     ]
    },
    {
     "name": "stderr",
     "output_type": "stream",
     "text": [
      "Network training: 100%|██████████| 10/10 [00:03<00:00,  2.71epoch(s)/s, Training loss MSE=0.6687725]\n"
     ]
    },
    {
     "name": "stdout",
     "output_type": "stream",
     "text": [
      "Iteration:  17\n",
      "avg. decision time:  0.20585967699686686\n",
      "obs. reward:  -259.23615\n",
      "act. reward:  -0.017643627\n"
     ]
    },
    {
     "name": "stderr",
     "output_type": "stream",
     "text": [
      "Network training: 100%|██████████| 10/10 [00:10<00:00,  1.05s/epoch(s), Training loss MSE=0.3587725]\n"
     ]
    },
    {
     "name": "stdout",
     "output_type": "stream",
     "text": [
      "Iteration:  18\n",
      "avg. decision time:  0.20491130193074544\n",
      "obs. reward:  -209.20262\n",
      "act. reward:  -0.031352077\n"
     ]
    },
    {
     "name": "stderr",
     "output_type": "stream",
     "text": [
      "Network training: 100%|██████████| 10/10 [00:11<00:00,  1.11s/epoch(s), Training loss MSE=0.580592] \n"
     ]
    },
    {
     "name": "stdout",
     "output_type": "stream",
     "text": [
      "Iteration:  19\n",
      "avg. decision time:  0.2040096918741862\n",
      "obs. reward:  -184.54436\n",
      "act. reward:  -0.053332098\n"
     ]
    },
    {
     "name": "stderr",
     "output_type": "stream",
     "text": [
      "Network training: 100%|██████████| 10/10 [00:11<00:00,  1.15s/epoch(s), Training loss MSE=0.7004036]\n"
     ]
    },
    {
     "name": "stdout",
     "output_type": "stream",
     "text": [
      "Iteration:  20\n",
      "avg. decision time:  0.2038748788833618\n",
      "obs. reward:  -201.64536\n",
      "act. reward:  -0.032542255\n"
     ]
    },
    {
     "name": "stderr",
     "output_type": "stream",
     "text": [
      "Network training: 100%|██████████| 10/10 [00:09<00:00,  1.04epoch(s)/s, Training loss MSE=1.3772751]\n"
     ]
    },
    {
     "name": "stdout",
     "output_type": "stream",
     "text": [
      "Iteration:  21\n",
      "avg. decision time:  0.20588223775227865\n",
      "obs. reward:  -168.0668\n",
      "act. reward:  -0.052525222\n"
     ]
    },
    {
     "name": "stderr",
     "output_type": "stream",
     "text": [
      "Network training: 100%|██████████| 10/10 [00:12<00:00,  1.20s/epoch(s), Training loss MSE=1.0965786]\n"
     ]
    },
    {
     "name": "stdout",
     "output_type": "stream",
     "text": [
      "Iteration:  22\n",
      "avg. decision time:  0.2057796891530355\n",
      "obs. reward:  -951.5665\n",
      "act. reward:  -0.0030578205\n"
     ]
    },
    {
     "name": "stderr",
     "output_type": "stream",
     "text": [
      "Network training: 100%|██████████| 10/10 [00:13<00:00,  1.32s/epoch(s), Training loss MSE=0.891526] \n"
     ]
    },
    {
     "name": "stdout",
     "output_type": "stream",
     "text": [
      "Iteration:  23\n",
      "avg. decision time:  0.2046873156229655\n",
      "obs. reward:  -219.32791\n",
      "act. reward:  -0.02116228\n"
     ]
    }
   ],
   "source": [
    "_ = kuka.learn(30, verbose=True)\n",
    "kuka.save_training_data(savepath+'data_pd_reg_2')"
   ]
  },
  {
   "cell_type": "code",
   "execution_count": null,
   "metadata": {},
   "outputs": [],
   "source": [
    "traj, log = kuka.perform(kuka.goal)\n",
    "act_seq = traj[:, 14:28]\n",
    "initial_obs = traj[0, :14]\n",
    "final_obs = traj[-1, :14]\n",
    "\n",
    "n_sample = 50\n",
    "obs_traj = kuka.dynamics.unroll(initial_obs, \n",
    "                                act_seq, \n",
    "                                n_sample)\n",
    "\n",
    "predicted_err = torch.norm(obs_traj[-1, :, :]-final_obs.expand(n_sample, -1), p=2, dim=1)\n",
    "print (predicted_err.mean())\n",
    "print (predicted_err.std())"
   ]
  }
 ],
 "metadata": {
  "kernelspec": {
   "display_name": "Python 3",
   "language": "python",
   "name": "python3"
  },
  "language_info": {
   "codemirror_mode": {
    "name": "ipython",
    "version": 3
   },
   "file_extension": ".py",
   "mimetype": "text/x-python",
   "name": "python",
   "nbconvert_exporter": "python",
   "pygments_lexer": "ipython3",
   "version": "3.6.8"
  }
 },
 "nbformat": 4,
 "nbformat_minor": 2
}
