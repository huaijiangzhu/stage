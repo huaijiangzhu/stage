{
 "cells": [
  {
   "cell_type": "code",
   "execution_count": 1,
   "metadata": {},
   "outputs": [],
   "source": [
    "%matplotlib inline\n",
    "%load_ext autoreload\n",
    "%autoreload 2"
   ]
  },
  {
   "cell_type": "code",
   "execution_count": 2,
   "metadata": {},
   "outputs": [],
   "source": [
    "import os\n",
    "import inspect\n",
    "currentdir = os.path.dirname(os.path.abspath(\n",
    "    inspect.getfile(inspect.currentframe())))\n",
    "parentdir = os.path.dirname(currentdir)\n",
    "os.sys.path.insert(1, parentdir+'/src')\n",
    "import torch\n",
    "import torch.nn.functional as F\n",
    "from torchvision import transforms\n",
    "import numpy as np\n",
    "import time\n",
    "from tqdm import trange\n",
    "import matplotlib.pyplot as plt\n",
    "import matplotlib"
   ]
  },
  {
   "cell_type": "code",
   "execution_count": 3,
   "metadata": {},
   "outputs": [],
   "source": [
    "import gym\n",
    "import pybullet as p\n",
    "import stage.envs\n",
    "from stage.tasks.kuka import KukaPETS\n",
    "from stage.utils.nn import use_gpu\n",
    "use_gpu()"
   ]
  },
  {
   "cell_type": "code",
   "execution_count": 4,
   "metadata": {},
   "outputs": [],
   "source": [
    "savepath = parentdir + '/data/kuka/'"
   ]
  },
  {
   "cell_type": "code",
   "execution_count": 5,
   "metadata": {
    "scrolled": false
   },
   "outputs": [],
   "source": [
    "kuka = KukaPETS(render=False, \n",
    "                   action_parameterization='pd')\n",
    "nq, nv, nu, nx, na = kuka.nq, kuka.nv, kuka.nu, kuka.nx, kuka.na"
   ]
  },
  {
   "cell_type": "code",
   "execution_count": null,
   "metadata": {
    "scrolled": false
   },
   "outputs": [
    {
     "name": "stderr",
     "output_type": "stream",
     "text": [
      "Network training: 100%|██████████| 10/10 [00:00<00:00, 25.21epoch(s)/s, Training loss MSE=25.523548]\n"
     ]
    },
    {
     "name": "stdout",
     "output_type": "stream",
     "text": [
      "Iteration:  0\n",
      "avg. decision time:  0.0047092644373575845\n",
      "obs. reward:  -770.3727\n",
      "act. reward:  -3.2394142\n"
     ]
    },
    {
     "name": "stderr",
     "output_type": "stream",
     "text": [
      "Network training: 100%|██████████| 10/10 [00:01<00:00,  7.85epoch(s)/s, Training loss MSE=29.205145]\n"
     ]
    },
    {
     "name": "stdout",
     "output_type": "stream",
     "text": [
      "Iteration:  1\n",
      "avg. decision time:  0.08153150558471679\n",
      "obs. reward:  -572.96204\n",
      "act. reward:  -3.607087\n"
     ]
    },
    {
     "name": "stderr",
     "output_type": "stream",
     "text": [
      "Network training: 100%|██████████| 10/10 [00:00<00:00, 10.80epoch(s)/s, Training loss MSE=20.453798]\n"
     ]
    },
    {
     "name": "stdout",
     "output_type": "stream",
     "text": [
      "Iteration:  2\n",
      "avg. decision time:  0.08151360352834065\n",
      "obs. reward:  -634.61816\n",
      "act. reward:  -2.3210082\n"
     ]
    },
    {
     "name": "stderr",
     "output_type": "stream",
     "text": [
      "Network training: 100%|██████████| 10/10 [00:02<00:00,  4.29epoch(s)/s, Training loss MSE=17.63022]\n"
     ]
    },
    {
     "name": "stdout",
     "output_type": "stream",
     "text": [
      "Iteration:  3\n",
      "avg. decision time:  0.08158031622568766\n",
      "obs. reward:  -975.5865\n",
      "act. reward:  -2.3097506\n"
     ]
    },
    {
     "name": "stderr",
     "output_type": "stream",
     "text": [
      "Network training: 100%|██████████| 10/10 [00:02<00:00,  3.33epoch(s)/s, Training loss MSE=15.047351]\n"
     ]
    },
    {
     "name": "stdout",
     "output_type": "stream",
     "text": [
      "Iteration:  4\n",
      "avg. decision time:  0.08166618982950846\n",
      "obs. reward:  -585.1438\n",
      "act. reward:  -3.5828965\n"
     ]
    },
    {
     "name": "stderr",
     "output_type": "stream",
     "text": [
      "Network training: 100%|██████████| 10/10 [00:02<00:00,  4.02epoch(s)/s, Training loss MSE=12.890215]\n"
     ]
    },
    {
     "name": "stdout",
     "output_type": "stream",
     "text": [
      "Iteration:  5\n",
      "avg. decision time:  0.08167794704437256\n",
      "obs. reward:  -614.1107\n",
      "act. reward:  -2.8040962\n"
     ]
    },
    {
     "name": "stderr",
     "output_type": "stream",
     "text": [
      "Network training: 100%|██████████| 10/10 [00:04<00:00,  2.46epoch(s)/s, Training loss MSE=8.73883] \n"
     ]
    },
    {
     "name": "stdout",
     "output_type": "stream",
     "text": [
      "Iteration:  6\n",
      "avg. decision time:  0.08106733798980713\n",
      "obs. reward:  -540.0432\n",
      "act. reward:  -1.3638719\n"
     ]
    },
    {
     "name": "stderr",
     "output_type": "stream",
     "text": [
      "Network training: 100%|██████████| 10/10 [00:04<00:00,  2.13epoch(s)/s, Training loss MSE=5.713074]\n"
     ]
    },
    {
     "name": "stdout",
     "output_type": "stream",
     "text": [
      "Iteration:  7\n",
      "avg. decision time:  0.08141330560048421\n",
      "obs. reward:  -624.7467\n",
      "act. reward:  -0.10202512\n"
     ]
    },
    {
     "name": "stderr",
     "output_type": "stream",
     "text": [
      "Network training: 100%|██████████| 10/10 [00:05<00:00,  1.87epoch(s)/s, Training loss MSE=4.963088]\n"
     ]
    },
    {
     "name": "stdout",
     "output_type": "stream",
     "text": [
      "Iteration:  8\n",
      "avg. decision time:  0.08136193752288819\n",
      "obs. reward:  -424.9721\n",
      "act. reward:  -3.151263\n"
     ]
    },
    {
     "name": "stderr",
     "output_type": "stream",
     "text": [
      "Network training: 100%|██████████| 10/10 [00:05<00:00,  1.71epoch(s)/s, Training loss MSE=4.003742]\n"
     ]
    },
    {
     "name": "stdout",
     "output_type": "stream",
     "text": [
      "Iteration:  9\n",
      "avg. decision time:  0.08196020444234212\n",
      "obs. reward:  -424.80273\n",
      "act. reward:  -0.10315835\n"
     ]
    },
    {
     "name": "stderr",
     "output_type": "stream",
     "text": [
      "Network training: 100%|██████████| 10/10 [00:06<00:00,  1.55epoch(s)/s, Training loss MSE=3.519633]\n"
     ]
    },
    {
     "name": "stdout",
     "output_type": "stream",
     "text": [
      "Iteration:  10\n",
      "avg. decision time:  0.08145439942677815\n",
      "obs. reward:  -315.98312\n",
      "act. reward:  -0.048187617\n"
     ]
    },
    {
     "name": "stderr",
     "output_type": "stream",
     "text": [
      "Network training: 100%|██████████| 10/10 [00:06<00:00,  1.44epoch(s)/s, Training loss MSE=2.4214466]\n"
     ]
    },
    {
     "name": "stdout",
     "output_type": "stream",
     "text": [
      "Iteration:  11\n",
      "avg. decision time:  0.08192819754282633\n",
      "obs. reward:  -334.97647\n",
      "act. reward:  -0.14074129\n"
     ]
    },
    {
     "name": "stderr",
     "output_type": "stream",
     "text": [
      "Network training: 100%|██████████| 10/10 [00:07<00:00,  1.32epoch(s)/s, Training loss MSE=2.0738056]\n"
     ]
    },
    {
     "name": "stdout",
     "output_type": "stream",
     "text": [
      "Iteration:  12\n",
      "avg. decision time:  0.08143266995747885\n",
      "obs. reward:  -302.67618\n",
      "act. reward:  -0.32418382\n"
     ]
    },
    {
     "name": "stderr",
     "output_type": "stream",
     "text": [
      "Network training:  10%|█         | 1/10 [00:00<00:07,  1.28epoch(s)/s, Training loss MSE=2.0375028]"
     ]
    }
   ],
   "source": [
    "_ = kuka.learn(30, verbose=True)\n",
    "kuka.save_training_data(savepath+'data_pd_reg')"
   ]
  },
  {
   "cell_type": "code",
   "execution_count": null,
   "metadata": {},
   "outputs": [],
   "source": [
    "traj, log = kuka.perform(kuka.goal)\n",
    "act_seq = traj[:, 14:28]\n",
    "initial_obs = traj[0, :14]\n",
    "final_obs = traj[-1, :14]"
   ]
  },
  {
   "cell_type": "code",
   "execution_count": null,
   "metadata": {},
   "outputs": [],
   "source": [
    "n_sample = 50\n",
    "traj_pred = kuka.dynamics.unroll(initial_obs, \n",
    "                                 act_seq, \n",
    "                                 n_sample)\n",
    "\n",
    "predicted_err = torch.norm(traj_pred[-1, :, :]-final_obs.expand(n_sample, -1), p=2, dim=1)\n",
    "print (predicted_err.mean())\n",
    "print (predicted_err.std())"
   ]
  },
  {
   "cell_type": "code",
   "execution_count": null,
   "metadata": {},
   "outputs": [],
   "source": [
    "traj_pred_mean = torch.mean(traj_pred, dim=1)\n",
    "traj_pred_std = torch.std(traj_pred, dim=1)\n",
    "traj_pred_mean = traj_pred_mean.detach().cpu().numpy()\n",
    "traj_pred_std = traj_pred_std.detach().cpu().numpy()\n",
    "traj = traj.detach().cpu().numpy()"
   ]
  },
  {
   "cell_type": "code",
   "execution_count": null,
   "metadata": {},
   "outputs": [],
   "source": [
    "font = {'family' : 'serif',\n",
    "        'size'   : 22}\n",
    "\n",
    "matplotlib.rc('font', **font)\n",
    "np.set_printoptions(precision=3, linewidth=200, suppress=True)"
   ]
  },
  {
   "cell_type": "code",
   "execution_count": null,
   "metadata": {},
   "outputs": [],
   "source": [
    "# traj_pred_mean = np.load('traj_pred_mean.npy')\n",
    "# traj_pred_std = np.load('traj_pred_std.npy')\n",
    "# traj = np.load('traj.npy')"
   ]
  },
  {
   "cell_type": "code",
   "execution_count": null,
   "metadata": {
    "scrolled": false
   },
   "outputs": [],
   "source": [
    "d = 1\n",
    "dt = 0.01\n",
    "task_horizon = 150\n",
    "fig, ax = plt.subplots(d, figsize=(10, d * 6))\n",
    "t = np.arange(0.0, task_horizon*dt, dt)\n",
    "\n",
    "i = 1\n",
    "desired = kuka.step_cost.desired[i].detach().cpu().numpy()*np.ones(len(t))\n",
    "\n",
    "ax.plot(t, traj_pred_mean[:, i], lw=4, color='b', label='predicted mean')\n",
    "ax.plot(t, traj[:, i], lw=4, ls='-.', color='orange', label='actual')\n",
    "\n",
    "ax.plot(t, desired, lw=2, color='k', ls='-.', label='desired')\n",
    "\n",
    "lb = traj_pred_mean - traj_pred_std\n",
    "ub = traj_pred_mean + traj_pred_std\n",
    "ax.fill_between(t, lb[:, i], ub[:, i], facecolor='blue',\n",
    "            alpha=0.2, label='one-std region')\n",
    "_ = ax.grid()\n",
    "_ = ax.set_ylabel('Joint angle [rad]')\n",
    "_ = ax.set_xlabel('Time [s]')\n",
    "# _ = ax.set_xlim([0,0.5])\n",
    "_ = ax.set_ylim([-3.2, 3.2])\n",
    "\n",
    "ax.legend(loc='upper center', bbox_to_anchor=(0.5, 1.3),\n",
    "             ncol=2, fancybox=True, shadow=True)\n",
    "# for i in range(d):\n",
    "#     ax[i].plot(t, traj[:, i], lw=4, color='orange', label='actual')\n",
    "#     ax[i].plot(t, traj_pred_mean[:, i], lw=4, color='b', label='predicted mean')\n",
    "#     lb = traj_pred_mean - traj_pred_std\n",
    "#     ub = traj_pred_mean + traj_pred_std\n",
    "#     ax[i].fill_between(t, lb[:, i], ub[:, i], facecolor='blue',\n",
    "#                 alpha=0.2)\n",
    "# fig.savefig('prediction_with_reg_150steps' + '.png', bbox_inches='tight')"
   ]
  }
 ],
 "metadata": {
  "kernelspec": {
   "display_name": "Python 3",
   "language": "python",
   "name": "python3"
  },
  "language_info": {
   "codemirror_mode": {
    "name": "ipython",
    "version": 3
   },
   "file_extension": ".py",
   "mimetype": "text/x-python",
   "name": "python",
   "nbconvert_exporter": "python",
   "pygments_lexer": "ipython3",
   "version": "3.6.8"
  }
 },
 "nbformat": 4,
 "nbformat_minor": 2
}
