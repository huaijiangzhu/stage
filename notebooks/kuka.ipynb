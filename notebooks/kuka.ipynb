{
 "cells": [
  {
   "cell_type": "code",
   "execution_count": 1,
   "metadata": {},
   "outputs": [],
   "source": [
    "%matplotlib inline\n",
    "%load_ext autoreload\n",
    "%autoreload 2"
   ]
  },
  {
   "cell_type": "code",
   "execution_count": 2,
   "metadata": {},
   "outputs": [],
   "source": [
    "import os\n",
    "import inspect\n",
    "currentdir = os.path.dirname(os.path.abspath(\n",
    "    inspect.getfile(inspect.currentframe())))\n",
    "parentdir = os.path.dirname(currentdir)\n",
    "os.sys.path.insert(1, parentdir+'/src')\n",
    "import torch\n",
    "import numpy as np\n",
    "import time\n",
    "from tqdm import trange\n",
    "import matplotlib.pyplot as plt"
   ]
  },
  {
   "cell_type": "code",
   "execution_count": 3,
   "metadata": {},
   "outputs": [],
   "source": [
    "import gym\n",
    "import pybullet as p\n",
    "import stage.envs\n",
    "from stage.tasks.kuka import KukaPETS\n",
    "from stage.utils.nn import use_gpu\n",
    "use_gpu()"
   ]
  },
  {
   "cell_type": "code",
   "execution_count": 4,
   "metadata": {},
   "outputs": [],
   "source": [
    "savepath = parentdir + '/data/kuka/'"
   ]
  },
  {
   "cell_type": "code",
   "execution_count": 5,
   "metadata": {
    "scrolled": false
   },
   "outputs": [],
   "source": [
    "\n",
    "kuka = KukaPETS(render=False, \n",
    "                   action_parameterization='pd')\n",
    "nq, nv, nu, nx, na = kuka.nq, kuka.nv, kuka.nu, kuka.nx, kuka.na"
   ]
  },
  {
   "cell_type": "code",
   "execution_count": null,
   "metadata": {
    "scrolled": false
   },
   "outputs": [
    {
     "name": "stderr",
     "output_type": "stream",
     "text": [
      "Network training: 100%|██████████| 20/20 [00:01<00:00, 11.64epoch(s)/s, Training loss MSE=1047.1971]\n"
     ]
    },
    {
     "name": "stdout",
     "output_type": "stream",
     "text": [
      "Iteration:  0\n",
      "avg. decision time:  0.004517954587936401\n",
      "obs. reward:  -5076.5137\n",
      "act. reward:  -50.388203\n"
     ]
    },
    {
     "name": "stderr",
     "output_type": "stream",
     "text": [
      "Network training: 100%|██████████| 20/20 [00:03<00:00,  6.35epoch(s)/s, Training loss MSE=1030.4867]\n"
     ]
    },
    {
     "name": "stdout",
     "output_type": "stream",
     "text": [
      "Iteration:  1\n",
      "avg. decision time:  0.31702234864234924\n",
      "obs. reward:  -4316.46\n",
      "act. reward:  -38.40787\n"
     ]
    }
   ],
   "source": [
    "_ = kuka.learn(30, verbose=True)\n",
    "kuka.save_training_data(savepath+'data_pd')"
   ]
  },
  {
   "cell_type": "code",
   "execution_count": null,
   "metadata": {},
   "outputs": [],
   "source": [
    "# traj, log = kuka.perform(kuka.goal)\n",
    "# act_seq = traj[:, 14:28]\n",
    "# initial_obs = traj[0, :14]\n",
    "# final_obs = traj[-1, :14]\n",
    "\n",
    "# n_sample = 50\n",
    "# obs_traj = kuka.dynamics.unroll(initial_obs, \n",
    "#                                       act_seq, \n",
    "#                                       n_sample)\n",
    "\n",
    "# predicted_err = torch.norm(obs_traj[-1, :, :]-final_obs.expand(n_sample, -1), p=2, dim=1)\n",
    "# print (predicted_err.mean())\n",
    "# print (predicted_err.std())\n",
    "\n"
   ]
  }
 ],
 "metadata": {
  "kernelspec": {
   "display_name": "Python 3",
   "language": "python",
   "name": "python3"
  },
  "language_info": {
   "codemirror_mode": {
    "name": "ipython",
    "version": 3
   },
   "file_extension": ".py",
   "mimetype": "text/x-python",
   "name": "python",
   "nbconvert_exporter": "python",
   "pygments_lexer": "ipython3",
   "version": "3.6.8"
  }
 },
 "nbformat": 4,
 "nbformat_minor": 2
}
