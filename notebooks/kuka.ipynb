{
 "cells": [
  {
   "cell_type": "code",
   "execution_count": 1,
   "metadata": {},
   "outputs": [],
   "source": [
    "%matplotlib inline\n",
    "%load_ext autoreload\n",
    "%autoreload 2"
   ]
  },
  {
   "cell_type": "code",
   "execution_count": 2,
   "metadata": {},
   "outputs": [],
   "source": [
    "import os\n",
    "import inspect\n",
    "currentdir = os.path.dirname(os.path.abspath(\n",
    "    inspect.getfile(inspect.currentframe())))\n",
    "parentdir = os.path.dirname(currentdir)\n",
    "os.sys.path.insert(1, parentdir+'/src')\n",
    "import torch\n",
    "import numpy as np\n",
    "import time\n",
    "from tqdm import trange\n",
    "import matplotlib.pyplot as plt"
   ]
  },
  {
   "cell_type": "code",
   "execution_count": 3,
   "metadata": {},
   "outputs": [],
   "source": [
    "import gym\n",
    "import pybullet as p\n",
    "import stage.envs\n",
    "from stage.tasks.kuka import KukaPETS\n",
    "from stage.utils.nn import use_gpu\n",
    "use_gpu()"
   ]
  },
  {
   "cell_type": "code",
   "execution_count": 4,
   "metadata": {},
   "outputs": [],
   "source": [
    "savepath = parentdir + '/data/kuka/'"
   ]
  },
  {
   "cell_type": "code",
   "execution_count": 5,
   "metadata": {
    "scrolled": false
   },
   "outputs": [],
   "source": [
    "\n",
    "kuka = KukaPETS(render=False, \n",
    "                   action_parameterization='pd')\n",
    "nq, nv, nu, nx, na = kuka.nq, kuka.nv, kuka.nu, kuka.nx, kuka.na"
   ]
  },
  {
   "cell_type": "code",
   "execution_count": null,
   "metadata": {
    "scrolled": false
   },
   "outputs": [
    {
     "name": "stderr",
     "output_type": "stream",
     "text": [
      "Network training: 100%|██████████| 20/20 [00:01<00:00, 15.74epoch(s)/s, Training loss MSE=205.14005]\n"
     ]
    },
    {
     "name": "stdout",
     "output_type": "stream",
     "text": [
      "Iteration:  0\n",
      "avg. decision time:  0.004452163378397623\n",
      "obs. reward:  -733.5325\n",
      "act. reward:  -5.674615\n"
     ]
    },
    {
     "name": "stderr",
     "output_type": "stream",
     "text": [
      "Network training: 100%|██████████| 20/20 [00:02<00:00,  8.33epoch(s)/s, Training loss MSE=113.69343] \n"
     ]
    },
    {
     "name": "stdout",
     "output_type": "stream",
     "text": [
      "Iteration:  1\n",
      "avg. decision time:  0.190067990620931\n",
      "obs. reward:  -502.60223\n",
      "act. reward:  -1.1632756\n"
     ]
    },
    {
     "name": "stderr",
     "output_type": "stream",
     "text": [
      "Network training: 100%|██████████| 20/20 [00:03<00:00,  5.57epoch(s)/s, Training loss MSE=89.47478] \n"
     ]
    },
    {
     "name": "stdout",
     "output_type": "stream",
     "text": [
      "Iteration:  2\n",
      "avg. decision time:  0.19118001619974773\n",
      "obs. reward:  -883.92053\n",
      "act. reward:  -2.3636642\n"
     ]
    },
    {
     "name": "stderr",
     "output_type": "stream",
     "text": [
      "Network training: 100%|██████████| 20/20 [00:04<00:00,  4.43epoch(s)/s, Training loss MSE=57.153263]\n"
     ]
    },
    {
     "name": "stdout",
     "output_type": "stream",
     "text": [
      "Iteration:  3\n",
      "avg. decision time:  0.19207654953002928\n",
      "obs. reward:  -476.4267\n",
      "act. reward:  -0.89348894\n"
     ]
    },
    {
     "name": "stderr",
     "output_type": "stream",
     "text": [
      "Network training: 100%|██████████| 20/20 [00:05<00:00,  3.49epoch(s)/s, Training loss MSE=92.90624]  \n"
     ]
    },
    {
     "name": "stdout",
     "output_type": "stream",
     "text": [
      "Iteration:  4\n",
      "avg. decision time:  0.19380638122558594\n",
      "obs. reward:  -1245.5809\n",
      "act. reward:  -14.490746\n"
     ]
    },
    {
     "name": "stderr",
     "output_type": "stream",
     "text": [
      "Network training: 100%|██████████| 20/20 [00:06<00:00,  2.93epoch(s)/s, Training loss MSE=95.76858]  \n"
     ]
    },
    {
     "name": "stdout",
     "output_type": "stream",
     "text": [
      "Iteration:  5\n",
      "avg. decision time:  0.19325239817301432\n",
      "obs. reward:  -1535.3684\n",
      "act. reward:  -8.380407\n"
     ]
    },
    {
     "name": "stderr",
     "output_type": "stream",
     "text": [
      "Network training: 100%|██████████| 20/20 [00:07<00:00,  2.57epoch(s)/s, Training loss MSE=75.30044] \n"
     ]
    },
    {
     "name": "stdout",
     "output_type": "stream",
     "text": [
      "Iteration:  6\n",
      "avg. decision time:  0.19297395865122477\n",
      "obs. reward:  -711.76355\n",
      "act. reward:  -0.93847716\n"
     ]
    },
    {
     "name": "stderr",
     "output_type": "stream",
     "text": [
      "Network training: 100%|██████████| 20/20 [00:08<00:00,  2.25epoch(s)/s, Training loss MSE=65.25697] \n"
     ]
    },
    {
     "name": "stdout",
     "output_type": "stream",
     "text": [
      "Iteration:  7\n",
      "avg. decision time:  0.1923622703552246\n",
      "obs. reward:  -1025.7098\n",
      "act. reward:  -1.7996995\n"
     ]
    },
    {
     "name": "stderr",
     "output_type": "stream",
     "text": [
      "Network training: 100%|██████████| 20/20 [00:10<00:00,  1.98epoch(s)/s, Training loss MSE=55.501926]\n"
     ]
    },
    {
     "name": "stdout",
     "output_type": "stream",
     "text": [
      "Iteration:  8\n",
      "avg. decision time:  0.1926897939046224\n",
      "obs. reward:  -743.7683\n",
      "act. reward:  -0.78270537\n"
     ]
    },
    {
     "name": "stderr",
     "output_type": "stream",
     "text": [
      "Network training: 100%|██████████| 20/20 [00:10<00:00,  1.84epoch(s)/s, Training loss MSE=46.348816]\n"
     ]
    },
    {
     "name": "stdout",
     "output_type": "stream",
     "text": [
      "Iteration:  9\n",
      "avg. decision time:  0.19248028755187988\n",
      "obs. reward:  -1113.9896\n",
      "act. reward:  -0.35198683\n"
     ]
    },
    {
     "name": "stderr",
     "output_type": "stream",
     "text": [
      "Network training: 100%|██████████| 20/20 [00:12<00:00,  1.64epoch(s)/s, Training loss MSE=41.389767]\n"
     ]
    },
    {
     "name": "stdout",
     "output_type": "stream",
     "text": [
      "Iteration:  10\n",
      "avg. decision time:  0.1925849405924479\n",
      "obs. reward:  -883.94226\n",
      "act. reward:  -1.4398832\n"
     ]
    },
    {
     "name": "stderr",
     "output_type": "stream",
     "text": [
      "Network training: 100%|██████████| 20/20 [00:13<00:00,  1.51epoch(s)/s, Training loss MSE=40.173508]\n"
     ]
    },
    {
     "name": "stdout",
     "output_type": "stream",
     "text": [
      "Iteration:  11\n",
      "avg. decision time:  0.1926958990097046\n",
      "obs. reward:  -913.16\n",
      "act. reward:  -1.5899272\n"
     ]
    },
    {
     "name": "stderr",
     "output_type": "stream",
     "text": [
      "Network training: 100%|██████████| 20/20 [00:14<00:00,  1.41epoch(s)/s, Training loss MSE=59.05766] \n"
     ]
    },
    {
     "name": "stdout",
     "output_type": "stream",
     "text": [
      "Iteration:  12\n",
      "avg. decision time:  0.19254347483317058\n",
      "obs. reward:  -2624.578\n",
      "act. reward:  -18.185572\n"
     ]
    }
   ],
   "source": [
    "_ = kuka.learn(100, verbose=True)\n",
    "kuka.save_training_data(savepath+'data_pd')"
   ]
  },
  {
   "cell_type": "code",
   "execution_count": null,
   "metadata": {},
   "outputs": [],
   "source": [
    "# traj, log = kuka.perform(kuka.goal)\n",
    "# act_seq = traj[:, 14:28]\n",
    "# initial_obs = traj[0, :14]\n",
    "# final_obs = traj[-1, :14]\n",
    "\n",
    "# n_sample = 50\n",
    "# obs_traj = kuka.dynamics.unroll(initial_obs, \n",
    "#                                       act_seq, \n",
    "#                                       n_sample)\n",
    "\n",
    "# predicted_err = torch.norm(obs_traj[-1, :, :]-final_obs.expand(n_sample, -1), p=2, dim=1)\n",
    "# print (predicted_err.mean())\n",
    "# print (predicted_err.std())\n",
    "\n"
   ]
  }
 ],
 "metadata": {
  "kernelspec": {
   "display_name": "Python 3",
   "language": "python",
   "name": "python3"
  },
  "language_info": {
   "codemirror_mode": {
    "name": "ipython",
    "version": 3
   },
   "file_extension": ".py",
   "mimetype": "text/x-python",
   "name": "python",
   "nbconvert_exporter": "python",
   "pygments_lexer": "ipython3",
   "version": "3.6.8"
  }
 },
 "nbformat": 4,
 "nbformat_minor": 2
}
