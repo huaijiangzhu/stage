{
 "cells": [
  {
   "cell_type": "code",
   "execution_count": 1,
   "metadata": {},
   "outputs": [],
   "source": [
    "%matplotlib inline\n",
    "%load_ext autoreload\n",
    "%autoreload 2"
   ]
  },
  {
   "cell_type": "code",
   "execution_count": 2,
   "metadata": {},
   "outputs": [],
   "source": [
    "import os\n",
    "import inspect\n",
    "currentdir = os.path.dirname(os.path.abspath(\n",
    "    inspect.getfile(inspect.currentframe())))\n",
    "parentdir = os.path.dirname(currentdir)\n",
    "os.sys.path.insert(1, parentdir+'/src')\n",
    "import torch\n",
    "import torch.nn.functional as F\n",
    "from torchvision import transforms\n",
    "import numpy as np\n",
    "import time\n",
    "from tqdm import trange\n",
    "import matplotlib.pyplot as plt\n",
    "import matplotlib"
   ]
  },
  {
   "cell_type": "code",
   "execution_count": 3,
   "metadata": {},
   "outputs": [],
   "source": [
    "import gym\n",
    "import pybullet as p\n",
    "import stage.envs\n",
    "from stage.tasks.twolink.reaching import TwoLinkReaching\n",
    "from stage.utils.nn import use_gpu\n",
    "use_gpu()"
   ]
  },
  {
   "cell_type": "code",
   "execution_count": 4,
   "metadata": {},
   "outputs": [],
   "source": [
    "savepath = parentdir + '/data/twolink/'"
   ]
  },
  {
   "cell_type": "code",
   "execution_count": 5,
   "metadata": {},
   "outputs": [],
   "source": [
    "# data_train = np.load(savepath+'data_pd_noreg.npy')\n",
    "# task = TwoLinkReaching(render=True)\n",
    "# task.visualize_training_data(data_train, 0)"
   ]
  },
  {
   "cell_type": "code",
   "execution_count": 6,
   "metadata": {},
   "outputs": [],
   "source": [
    "task = TwoLinkReaching(render=False)\n",
    "\n",
    "# Read task parameters, should we use a separate class to wrap this?\n",
    "\n",
    "nq, nv, nu, nx = task.nq, task.nv, task.nu, task.nx\n",
    "dt_control, dt_env = task.dt_control, task.dt_env\n",
    "q_lb, q_ub = task.q_lb, task.q_ub\n",
    "v_lb, v_ub = -100*torch.ones_like(q_lb), 100*torch.ones_like(q_ub)"
   ]
  },
  {
   "cell_type": "code",
   "execution_count": 7,
   "metadata": {},
   "outputs": [],
   "source": [
    "# Setup action parameterization\n",
    "\n",
    "from stage.controllers.actor import Actor\n",
    "from stage.controllers.trivial import Identity\n",
    "from stage.controllers.pd import PD\n",
    "\n",
    "# na = 2\n",
    "# action_ub = torch.Tensor(task.env.action_space.high)\n",
    "# action_lb = torch.Tensor(task.env.action_space.low)\n",
    "# actor = Actor(na, Identity(nq, nv, nu), action_lb, action_ub)\n",
    "\n",
    "na = 4\n",
    "gain_ub = 50 * torch.ones((nq))\n",
    "gain_lb = 0. * torch.ones((nq))\n",
    "action_ub = torch.cat((gain_ub, q_ub))\n",
    "action_lb = torch.cat((gain_lb, q_lb))\n",
    "actor = Actor(PD(nx, nq, nv, nu), action_lb, action_ub)\n",
    "\n",
    "task.cost.actor = actor "
   ]
  },
  {
   "cell_type": "code",
   "execution_count": 8,
   "metadata": {},
   "outputs": [],
   "source": [
    "# # Setup model learning\n",
    "\n",
    "from stage.dynamics.probabilistic_ensemble import ProbabilisticEnsemble, DefaultDx\n",
    "\n",
    "ensemble_size = 5\n",
    "epochs = 10\n",
    "batch_size = 64\n",
    "    \n",
    "dynamics = ProbabilisticEnsemble(nx, nq, nv, na, dt_control, \n",
    "                                 DefaultDx,\n",
    "                                 ensemble_size,\n",
    "                                 learning_rate = 0.001)\n",
    "\n",
    "dynamics.state_lb = torch.cat((q_lb, v_lb))\n",
    "dynamics.state_ub = torch.cat((q_ub, v_ub))"
   ]
  },
  {
   "cell_type": "code",
   "execution_count": 9,
   "metadata": {},
   "outputs": [],
   "source": [
    "# Setup controller\n",
    "\n",
    "from stage.controllers.pets import PETS\n",
    "\n",
    "plan_horizon = 60\n",
    "n_particles = 10\n",
    "pop_size = 400\n",
    "\n",
    "controller = PETS(dynamics, task.cost, actor,\n",
    "                  plan_horizon, n_particles, pop_size)"
   ]
  },
  {
   "cell_type": "code",
   "execution_count": 10,
   "metadata": {},
   "outputs": [],
   "source": [
    "# Setup learner\n",
    "\n",
    "from stage.learners.learn_and_control_model import LearnAndControlModel\n",
    "learner = LearnAndControlModel(task, dynamics, controller, epochs, batch_size)"
   ]
  },
  {
   "cell_type": "code",
   "execution_count": 11,
   "metadata": {
    "scrolled": false
   },
   "outputs": [
    {
     "name": "stderr",
     "output_type": "stream",
     "text": [
      "Network training: 100%|██████████| 10/10 [00:00<00:00, 23.89epoch(s)/s, Training loss MSE=1.737472]\n"
     ]
    },
    {
     "name": "stdout",
     "output_type": "stream",
     "text": [
      "Iteration:  0\n",
      "Initial state:  tensor([2.3238, 0.1894, 0.0000, 0.0000])\n",
      "avg. decision time:  0.012502596378326417\n",
      "obs. reward:  -646.62756\n",
      "act. reward:  -2.9207406\n"
     ]
    },
    {
     "name": "stderr",
     "output_type": "stream",
     "text": [
      "Network training: 100%|██████████| 10/10 [00:00<00:00, 13.96epoch(s)/s, Training loss MSE=0.6902512]\n"
     ]
    },
    {
     "name": "stdout",
     "output_type": "stream",
     "text": [
      "Iteration:  1\n",
      "Initial state:  tensor([2.4078, 0.0383, 0.0000, 0.0000])\n",
      "avg. decision time:  0.497767733335495\n",
      "obs. reward:  -742.0065\n",
      "act. reward:  -0.1244108\n"
     ]
    },
    {
     "name": "stderr",
     "output_type": "stream",
     "text": [
      "Network training: 100%|██████████| 10/10 [00:01<00:00,  9.80epoch(s)/s, Training loss MSE=0.42823216]\n"
     ]
    },
    {
     "name": "stdout",
     "output_type": "stream",
     "text": [
      "Iteration:  2\n",
      "Initial state:  tensor([2.3215, 0.0526, 0.0000, 0.0000])\n",
      "avg. decision time:  0.5024127745628357\n",
      "obs. reward:  -448.40225\n",
      "act. reward:  -0.5821177\n"
     ]
    },
    {
     "name": "stderr",
     "output_type": "stream",
     "text": [
      "Network training: 100%|██████████| 10/10 [00:01<00:00,  7.67epoch(s)/s, Training loss MSE=0.37683216]\n"
     ]
    },
    {
     "name": "stdout",
     "output_type": "stream",
     "text": [
      "Iteration:  3\n",
      "Initial state:  tensor([2.2679, 0.1671, 0.0000, 0.0000])\n",
      "avg. decision time:  0.4986127996444702\n",
      "obs. reward:  -430.64508\n",
      "act. reward:  -0.7998982\n"
     ]
    },
    {
     "name": "stderr",
     "output_type": "stream",
     "text": [
      "Network training: 100%|██████████| 10/10 [00:01<00:00,  6.20epoch(s)/s, Training loss MSE=0.32440892]\n"
     ]
    },
    {
     "name": "stdout",
     "output_type": "stream",
     "text": [
      "Iteration:  4\n",
      "Initial state:  tensor([ 2.1704, -0.0455,  0.0000,  0.0000])\n",
      "avg. decision time:  0.5005011641979218\n",
      "obs. reward:  -704.62787\n",
      "act. reward:  -0.8381221\n"
     ]
    },
    {
     "name": "stderr",
     "output_type": "stream",
     "text": [
      "Network training: 100%|██████████| 10/10 [00:01<00:00,  5.27epoch(s)/s, Training loss MSE=0.3893588]\n"
     ]
    },
    {
     "name": "stdout",
     "output_type": "stream",
     "text": [
      "Iteration:  5\n",
      "Initial state:  tensor([ 2.4084, -0.1770,  0.0000,  0.0000])\n",
      "avg. decision time:  0.5056565117835998\n",
      "obs. reward:  -1059.9243\n",
      "act. reward:  -1.8184538\n"
     ]
    },
    {
     "name": "stderr",
     "output_type": "stream",
     "text": [
      "Network training: 100%|██████████| 10/10 [00:02<00:00,  4.50epoch(s)/s, Training loss MSE=0.38642305]\n"
     ]
    },
    {
     "name": "stdout",
     "output_type": "stream",
     "text": [
      "Iteration:  6\n",
      "Initial state:  tensor([ 2.3660, -0.0665,  0.0000,  0.0000])\n",
      "avg. decision time:  0.5004745614528656\n",
      "obs. reward:  -1063.0032\n",
      "act. reward:  -1.023588\n"
     ]
    },
    {
     "name": "stderr",
     "output_type": "stream",
     "text": [
      "Network training: 100%|██████████| 10/10 [00:02<00:00,  3.94epoch(s)/s, Training loss MSE=0.37573212]\n"
     ]
    },
    {
     "name": "stdout",
     "output_type": "stream",
     "text": [
      "Iteration:  7\n",
      "Initial state:  tensor([ 2.1594, -0.0657,  0.0000,  0.0000])\n",
      "avg. decision time:  0.4996828532218933\n",
      "obs. reward:  -1062.2617\n",
      "act. reward:  -0.50777173\n"
     ]
    },
    {
     "name": "stderr",
     "output_type": "stream",
     "text": [
      "Network training: 100%|██████████| 10/10 [00:02<00:00,  3.42epoch(s)/s, Training loss MSE=0.39797825]\n"
     ]
    },
    {
     "name": "stdout",
     "output_type": "stream",
     "text": [
      "Iteration:  8\n",
      "Initial state:  tensor([ 2.4604, -0.0864,  0.0000,  0.0000])\n",
      "avg. decision time:  0.5005423021316528\n",
      "obs. reward:  -1328.4199\n",
      "act. reward:  -3.1640732\n"
     ]
    },
    {
     "name": "stderr",
     "output_type": "stream",
     "text": [
      "Network training: 100%|██████████| 10/10 [00:03<00:00,  3.10epoch(s)/s, Training loss MSE=0.36220366]\n"
     ]
    },
    {
     "name": "stdout",
     "output_type": "stream",
     "text": [
      "Iteration:  9\n",
      "Initial state:  tensor([2.3971, 0.0877, 0.0000, 0.0000])\n",
      "avg. decision time:  0.5025114762783051\n",
      "obs. reward:  -1192.1179\n",
      "act. reward:  -0.09410175\n"
     ]
    },
    {
     "name": "stderr",
     "output_type": "stream",
     "text": [
      "Network training: 100%|██████████| 10/10 [00:03<00:00,  3.23epoch(s)/s, Training loss MSE=0.36822423]\n"
     ]
    },
    {
     "name": "stdout",
     "output_type": "stream",
     "text": [
      "Iteration:  10\n",
      "Initial state:  tensor([2.4366, 0.1410, 0.0000, 0.0000])\n",
      "avg. decision time:  0.5056500101089477\n",
      "obs. reward:  -1417.1727\n",
      "act. reward:  -1.9946504\n"
     ]
    },
    {
     "name": "stderr",
     "output_type": "stream",
     "text": [
      "Network training: 100%|██████████| 10/10 [00:03<00:00,  2.63epoch(s)/s, Training loss MSE=0.37203872]\n"
     ]
    },
    {
     "name": "stdout",
     "output_type": "stream",
     "text": [
      "Iteration:  11\n",
      "Initial state:  tensor([2.3008, 0.0184, 0.0000, 0.0000])\n",
      "avg. decision time:  0.5062223088741302\n",
      "obs. reward:  -1233.3704\n",
      "act. reward:  -3.3241925\n"
     ]
    },
    {
     "name": "stderr",
     "output_type": "stream",
     "text": [
      "Network training: 100%|██████████| 10/10 [00:04<00:00,  2.40epoch(s)/s, Training loss MSE=0.443926] \n"
     ]
    },
    {
     "name": "stdout",
     "output_type": "stream",
     "text": [
      "Iteration:  12\n",
      "Initial state:  tensor([2.2589, 0.0405, 0.0000, 0.0000])\n",
      "avg. decision time:  0.5042524421215058\n",
      "obs. reward:  -1202.5039\n",
      "act. reward:  -1.8147218\n"
     ]
    },
    {
     "name": "stderr",
     "output_type": "stream",
     "text": [
      "Network training: 100%|██████████| 10/10 [00:04<00:00,  2.30epoch(s)/s, Training loss MSE=0.3880076]\n"
     ]
    },
    {
     "name": "stdout",
     "output_type": "stream",
     "text": [
      "Iteration:  13\n",
      "Initial state:  tensor([ 2.3433, -0.0577,  0.0000,  0.0000])\n",
      "avg. decision time:  0.5040092527866363\n",
      "obs. reward:  -1240.0404\n",
      "act. reward:  -3.418895\n"
     ]
    },
    {
     "name": "stderr",
     "output_type": "stream",
     "text": [
      "Network training: 100%|██████████| 10/10 [00:04<00:00,  2.16epoch(s)/s, Training loss MSE=0.38560444]\n"
     ]
    },
    {
     "name": "stdout",
     "output_type": "stream",
     "text": [
      "Iteration:  14\n",
      "Initial state:  tensor([2.3788, 0.0802, 0.0000, 0.0000])\n",
      "avg. decision time:  0.5084889101982116\n",
      "obs. reward:  -1135.3105\n",
      "act. reward:  -2.064845\n"
     ]
    },
    {
     "name": "stderr",
     "output_type": "stream",
     "text": [
      "Network training: 100%|██████████| 10/10 [00:04<00:00,  2.01epoch(s)/s, Training loss MSE=0.37724274]\n"
     ]
    },
    {
     "name": "stdout",
     "output_type": "stream",
     "text": [
      "Iteration:  15\n",
      "Initial state:  tensor([2.3622, 0.0999, 0.0000, 0.0000])\n",
      "avg. decision time:  0.5067744696140289\n",
      "obs. reward:  -1149.7291\n",
      "act. reward:  -2.6661506\n"
     ]
    },
    {
     "name": "stderr",
     "output_type": "stream",
     "text": [
      "Network training: 100%|██████████| 10/10 [00:04<00:00,  2.13epoch(s)/s, Training loss MSE=0.3499427]\n"
     ]
    },
    {
     "name": "stdout",
     "output_type": "stream",
     "text": [
      "Iteration:  16\n",
      "Initial state:  tensor([2.4372, 0.0925, 0.0000, 0.0000])\n",
      "avg. decision time:  0.5036028730869293\n",
      "obs. reward:  -479.74823\n",
      "act. reward:  -0.3990927\n"
     ]
    },
    {
     "name": "stderr",
     "output_type": "stream",
     "text": [
      "Network training: 100%|██████████| 10/10 [00:05<00:00,  1.75epoch(s)/s, Training loss MSE=0.3312959]\n"
     ]
    },
    {
     "name": "stdout",
     "output_type": "stream",
     "text": [
      "Iteration:  17\n",
      "Initial state:  tensor([2.3749, 0.0546, 0.0000, 0.0000])\n",
      "avg. decision time:  0.5063985812664032\n",
      "obs. reward:  -674.1701\n",
      "act. reward:  -0.70802116\n"
     ]
    },
    {
     "name": "stderr",
     "output_type": "stream",
     "text": [
      "Network training: 100%|██████████| 10/10 [00:06<00:00,  1.67epoch(s)/s, Training loss MSE=0.30326203]\n"
     ]
    },
    {
     "name": "stdout",
     "output_type": "stream",
     "text": [
      "Iteration:  18\n",
      "Initial state:  tensor([2.4060, 0.0725, 0.0000, 0.0000])\n",
      "avg. decision time:  0.505988953113556\n",
      "obs. reward:  -741.8968\n",
      "act. reward:  -1.8311496\n"
     ]
    },
    {
     "name": "stderr",
     "output_type": "stream",
     "text": [
      "Network training: 100%|██████████| 10/10 [00:06<00:00,  1.58epoch(s)/s, Training loss MSE=0.2869278]\n"
     ]
    },
    {
     "name": "stdout",
     "output_type": "stream",
     "text": [
      "Iteration:  19\n",
      "Initial state:  tensor([ 2.2754, -0.1222,  0.0000,  0.0000])\n",
      "avg. decision time:  0.5397396683692932\n",
      "obs. reward:  -458.13757\n",
      "act. reward:  -0.83408254\n"
     ]
    },
    {
     "name": "stderr",
     "output_type": "stream",
     "text": [
      "Network training: 100%|██████████| 10/10 [00:06<00:00,  1.52epoch(s)/s, Training loss MSE=0.2843983]\n"
     ]
    },
    {
     "name": "stdout",
     "output_type": "stream",
     "text": [
      "Iteration:  20\n",
      "Initial state:  tensor([ 2.3462, -0.0468,  0.0000,  0.0000])\n",
      "avg. decision time:  0.504346935749054\n",
      "obs. reward:  -686.0397\n",
      "act. reward:  -0.51534355\n"
     ]
    },
    {
     "name": "stderr",
     "output_type": "stream",
     "text": [
      "Network training: 100%|██████████| 10/10 [00:06<00:00,  1.45epoch(s)/s, Training loss MSE=0.28684738]\n"
     ]
    },
    {
     "name": "stdout",
     "output_type": "stream",
     "text": [
      "Iteration:  21\n",
      "Initial state:  tensor([2.3430, 0.1358, 0.0000, 0.0000])\n",
      "avg. decision time:  0.5096986305713653\n",
      "obs. reward:  -629.93866\n",
      "act. reward:  -0.81944263\n"
     ]
    },
    {
     "name": "stderr",
     "output_type": "stream",
     "text": [
      "Network training: 100%|██████████| 10/10 [00:07<00:00,  1.39epoch(s)/s, Training loss MSE=0.25875926]\n"
     ]
    },
    {
     "name": "stdout",
     "output_type": "stream",
     "text": [
      "Iteration:  22\n",
      "Initial state:  tensor([ 2.2957, -0.1775,  0.0000,  0.0000])\n",
      "avg. decision time:  0.507069753408432\n",
      "obs. reward:  -972.667\n",
      "act. reward:  -0.22430456\n"
     ]
    },
    {
     "name": "stderr",
     "output_type": "stream",
     "text": [
      "Network training: 100%|██████████| 10/10 [00:07<00:00,  1.33epoch(s)/s, Training loss MSE=0.25247377]\n"
     ]
    },
    {
     "name": "stdout",
     "output_type": "stream",
     "text": [
      "Iteration:  23\n",
      "Initial state:  tensor([ 2.3861, -0.1865,  0.0000,  0.0000])\n",
      "avg. decision time:  0.5064305830001831\n",
      "obs. reward:  -761.5799\n",
      "act. reward:  -0.7204616\n"
     ]
    },
    {
     "name": "stderr",
     "output_type": "stream",
     "text": [
      "Network training: 100%|██████████| 10/10 [00:07<00:00,  1.30epoch(s)/s, Training loss MSE=0.2879883]\n"
     ]
    },
    {
     "name": "stdout",
     "output_type": "stream",
     "text": [
      "Iteration:  24\n",
      "Initial state:  tensor([ 2.4368, -0.0072,  0.0000,  0.0000])\n",
      "avg. decision time:  0.5050275564193726\n",
      "obs. reward:  -673.6788\n",
      "act. reward:  -0.71958154\n"
     ]
    },
    {
     "name": "stderr",
     "output_type": "stream",
     "text": [
      "Network training: 100%|██████████| 10/10 [00:08<00:00,  1.21epoch(s)/s, Training loss MSE=0.24075955]\n"
     ]
    },
    {
     "name": "stdout",
     "output_type": "stream",
     "text": [
      "Iteration:  25\n",
      "Initial state:  tensor([ 2.3898, -0.0220,  0.0000,  0.0000])\n",
      "avg. decision time:  0.5079903292655945\n",
      "obs. reward:  -675.19183\n",
      "act. reward:  -3.454265\n"
     ]
    },
    {
     "name": "stderr",
     "output_type": "stream",
     "text": [
      "Network training: 100%|██████████| 10/10 [00:08<00:00,  1.17epoch(s)/s, Training loss MSE=0.23707488]\n"
     ]
    },
    {
     "name": "stdout",
     "output_type": "stream",
     "text": [
      "Iteration:  26\n",
      "Initial state:  tensor([ 2.2728, -0.1735,  0.0000,  0.0000])\n",
      "avg. decision time:  0.510124808549881\n",
      "obs. reward:  -570.92896\n",
      "act. reward:  -1.6248062\n"
     ]
    },
    {
     "name": "stderr",
     "output_type": "stream",
     "text": [
      "Network training: 100%|██████████| 10/10 [00:08<00:00,  1.13epoch(s)/s, Training loss MSE=0.2190662]\n"
     ]
    },
    {
     "name": "stdout",
     "output_type": "stream",
     "text": [
      "Iteration:  27\n",
      "Initial state:  tensor([2.2392, 0.0166, 0.0000, 0.0000])\n",
      "avg. decision time:  0.5064969110488892\n",
      "obs. reward:  -523.6816\n",
      "act. reward:  -0.8522693\n"
     ]
    },
    {
     "name": "stderr",
     "output_type": "stream",
     "text": [
      "Network training: 100%|██████████| 10/10 [00:09<00:00,  1.10epoch(s)/s, Training loss MSE=0.22192414]\n"
     ]
    },
    {
     "name": "stdout",
     "output_type": "stream",
     "text": [
      "Iteration:  28\n",
      "Initial state:  tensor([2.2820, 0.1962, 0.0000, 0.0000])\n",
      "avg. decision time:  0.5066760098934173\n",
      "obs. reward:  -603.0829\n",
      "act. reward:  -0.9177155\n"
     ]
    },
    {
     "name": "stderr",
     "output_type": "stream",
     "text": [
      "Network training: 100%|██████████| 10/10 [00:09<00:00,  1.06epoch(s)/s, Training loss MSE=0.19142458]\n"
     ]
    },
    {
     "name": "stdout",
     "output_type": "stream",
     "text": [
      "Iteration:  29\n",
      "Initial state:  tensor([2.4873, 0.0676, 0.0000, 0.0000])\n",
      "avg. decision time:  0.505198415517807\n",
      "obs. reward:  -543.44104\n",
      "act. reward:  -1.3424388\n"
     ]
    },
    {
     "name": "stderr",
     "output_type": "stream",
     "text": [
      "Network training: 100%|██████████| 10/10 [00:09<00:00,  1.06epoch(s)/s, Training loss MSE=0.19773613]\n"
     ]
    },
    {
     "name": "stdout",
     "output_type": "stream",
     "text": [
      "Iteration:  30\n",
      "Initial state:  tensor([2.1985, 0.0700, 0.0000, 0.0000])\n",
      "avg. decision time:  0.5068971920013428\n",
      "obs. reward:  -536.5696\n",
      "act. reward:  -0.34899434\n"
     ]
    },
    {
     "name": "stderr",
     "output_type": "stream",
     "text": [
      "Network training: 100%|██████████| 10/10 [00:10<00:00,  1.01s/epoch(s), Training loss MSE=0.23803532]\n"
     ]
    },
    {
     "name": "stdout",
     "output_type": "stream",
     "text": [
      "Iteration:  31\n",
      "Initial state:  tensor([ 2.3099, -0.0462,  0.0000,  0.0000])\n",
      "avg. decision time:  0.5040479719638824\n",
      "obs. reward:  -672.6401\n",
      "act. reward:  -0.71453416\n"
     ]
    },
    {
     "name": "stderr",
     "output_type": "stream",
     "text": [
      "Network training: 100%|██████████| 10/10 [00:10<00:00,  1.03s/epoch(s), Training loss MSE=0.19090351]\n"
     ]
    },
    {
     "name": "stdout",
     "output_type": "stream",
     "text": [
      "Iteration:  32\n",
      "Initial state:  tensor([2.3233, 0.0545, 0.0000, 0.0000])\n",
      "avg. decision time:  0.507849851846695\n",
      "obs. reward:  -604.4017\n",
      "act. reward:  -0.72804296\n"
     ]
    },
    {
     "name": "stderr",
     "output_type": "stream",
     "text": [
      "Network training: 100%|██████████| 10/10 [00:10<00:00,  1.07s/epoch(s), Training loss MSE=0.19978938]\n"
     ]
    },
    {
     "name": "stdout",
     "output_type": "stream",
     "text": [
      "Iteration:  33\n",
      "Initial state:  tensor([ 2.3948, -0.1103,  0.0000,  0.0000])\n",
      "avg. decision time:  0.5063601863384247\n",
      "obs. reward:  -544.4286\n",
      "act. reward:  -1.1005385\n"
     ]
    },
    {
     "name": "stderr",
     "output_type": "stream",
     "text": [
      "Network training: 100%|██████████| 10/10 [00:11<00:00,  1.11s/epoch(s), Training loss MSE=0.1984215]\n"
     ]
    },
    {
     "name": "stdout",
     "output_type": "stream",
     "text": [
      "Iteration:  34\n",
      "Initial state:  tensor([2.3261, 0.1297, 0.0000, 0.0000])\n",
      "avg. decision time:  0.505122721195221\n",
      "obs. reward:  -641.7308\n",
      "act. reward:  -0.8316897\n"
     ]
    },
    {
     "name": "stderr",
     "output_type": "stream",
     "text": [
      "Network training: 100%|██████████| 10/10 [00:11<00:00,  1.14s/epoch(s), Training loss MSE=0.1704621]\n"
     ]
    },
    {
     "name": "stdout",
     "output_type": "stream",
     "text": [
      "Iteration:  35\n",
      "Initial state:  tensor([2.3271, 0.1955, 0.0000, 0.0000])\n",
      "avg. decision time:  0.5070228481292725\n",
      "obs. reward:  -670.6859\n",
      "act. reward:  -0.69290376\n"
     ]
    },
    {
     "name": "stderr",
     "output_type": "stream",
     "text": [
      "Network training: 100%|██████████| 10/10 [00:11<00:00,  1.17s/epoch(s), Training loss MSE=0.17438939]\n"
     ]
    },
    {
     "name": "stdout",
     "output_type": "stream",
     "text": [
      "Iteration:  36\n",
      "Initial state:  tensor([ 2.4028, -0.0079,  0.0000,  0.0000])\n",
      "avg. decision time:  0.5093276035785675\n",
      "obs. reward:  -650.5068\n",
      "act. reward:  -0.94563836\n"
     ]
    },
    {
     "name": "stderr",
     "output_type": "stream",
     "text": [
      "Network training: 100%|██████████| 10/10 [00:11<00:00,  1.20s/epoch(s), Training loss MSE=0.16621438]\n"
     ]
    },
    {
     "name": "stdout",
     "output_type": "stream",
     "text": [
      "Iteration:  37\n",
      "Initial state:  tensor([2.3124, 0.0660, 0.0000, 0.0000])\n",
      "avg. decision time:  0.508358268737793\n",
      "obs. reward:  -745.7668\n",
      "act. reward:  -0.62679285\n"
     ]
    },
    {
     "name": "stderr",
     "output_type": "stream",
     "text": [
      "Network training: 100%|██████████| 10/10 [00:12<00:00,  1.22s/epoch(s), Training loss MSE=0.1757145]\n"
     ]
    },
    {
     "name": "stdout",
     "output_type": "stream",
     "text": [
      "Iteration:  38\n",
      "Initial state:  tensor([ 2.3818, -0.1065,  0.0000,  0.0000])\n",
      "avg. decision time:  0.5079822504520416\n",
      "obs. reward:  -879.0801\n",
      "act. reward:  -1.305404\n"
     ]
    },
    {
     "name": "stderr",
     "output_type": "stream",
     "text": [
      "Network training: 100%|██████████| 10/10 [00:12<00:00,  1.26s/epoch(s), Training loss MSE=0.16788916]\n"
     ]
    },
    {
     "name": "stdout",
     "output_type": "stream",
     "text": [
      "Iteration:  39\n",
      "Initial state:  tensor([ 2.3481, -0.1380,  0.0000,  0.0000])\n",
      "avg. decision time:  0.5094081127643585\n",
      "obs. reward:  -801.83777\n",
      "act. reward:  -0.7678723\n"
     ]
    },
    {
     "name": "stderr",
     "output_type": "stream",
     "text": [
      "Network training: 100%|██████████| 10/10 [00:12<00:00,  1.30s/epoch(s), Training loss MSE=0.17079774]\n"
     ]
    },
    {
     "name": "stdout",
     "output_type": "stream",
     "text": [
      "Iteration:  40\n",
      "Initial state:  tensor([ 2.4394, -0.0103,  0.0000,  0.0000])\n",
      "avg. decision time:  0.5061039817333222\n",
      "obs. reward:  -704.2376\n",
      "act. reward:  -0.5727854\n"
     ]
    },
    {
     "name": "stderr",
     "output_type": "stream",
     "text": [
      "Network training: 100%|██████████| 10/10 [00:13<00:00,  1.33s/epoch(s), Training loss MSE=0.1537704]\n"
     ]
    },
    {
     "name": "stdout",
     "output_type": "stream",
     "text": [
      "Iteration:  41\n",
      "Initial state:  tensor([ 2.2596, -0.0851,  0.0000,  0.0000])\n",
      "avg. decision time:  0.5096692144870758\n",
      "obs. reward:  -141.64221\n",
      "act. reward:  -1.3959776\n"
     ]
    },
    {
     "name": "stderr",
     "output_type": "stream",
     "text": [
      "Network training: 100%|██████████| 10/10 [00:13<00:00,  1.35s/epoch(s), Training loss MSE=0.15278044]\n"
     ]
    },
    {
     "name": "stdout",
     "output_type": "stream",
     "text": [
      "Iteration:  42\n",
      "Initial state:  tensor([ 2.3142, -0.1784,  0.0000,  0.0000])\n",
      "avg. decision time:  0.5076521289348602\n",
      "obs. reward:  -528.71423\n",
      "act. reward:  -0.2781799\n"
     ]
    },
    {
     "name": "stderr",
     "output_type": "stream",
     "text": [
      "Network training: 100%|██████████| 10/10 [00:13<00:00,  1.39s/epoch(s), Training loss MSE=0.17178753]\n"
     ]
    },
    {
     "name": "stdout",
     "output_type": "stream",
     "text": [
      "Iteration:  43\n",
      "Initial state:  tensor([2.4900, 0.0609, 0.0000, 0.0000])\n",
      "avg. decision time:  0.5050126445293427\n",
      "obs. reward:  -602.7655\n",
      "act. reward:  -0.63584554\n"
     ]
    },
    {
     "name": "stderr",
     "output_type": "stream",
     "text": [
      "Network training: 100%|██████████| 10/10 [00:14<00:00,  1.40s/epoch(s), Training loss MSE=0.1484575]\n"
     ]
    },
    {
     "name": "stdout",
     "output_type": "stream",
     "text": [
      "Iteration:  44\n",
      "Initial state:  tensor([2.3879, 0.1532, 0.0000, 0.0000])\n",
      "avg. decision time:  0.5065346884727479\n",
      "obs. reward:  -157.3458\n",
      "act. reward:  -1.2352535\n"
     ]
    },
    {
     "name": "stderr",
     "output_type": "stream",
     "text": [
      "Network training: 100%|██████████| 10/10 [00:14<00:00,  1.45s/epoch(s), Training loss MSE=0.16842285]\n"
     ]
    },
    {
     "name": "stdout",
     "output_type": "stream",
     "text": [
      "Iteration:  45\n",
      "Initial state:  tensor([ 2.4181, -0.2661,  0.0000,  0.0000])\n",
      "avg. decision time:  0.5087068259716034\n",
      "obs. reward:  -1179.5386\n",
      "act. reward:  -0.3079763\n"
     ]
    },
    {
     "name": "stderr",
     "output_type": "stream",
     "text": [
      "Network training: 100%|██████████| 10/10 [00:14<00:00,  1.48s/epoch(s), Training loss MSE=0.12958957]\n"
     ]
    },
    {
     "name": "stdout",
     "output_type": "stream",
     "text": [
      "Iteration:  46\n",
      "Initial state:  tensor([2.4144, 0.0833, 0.0000, 0.0000])\n",
      "avg. decision time:  0.505882842540741\n",
      "obs. reward:  -148.28593\n",
      "act. reward:  -1.5627843\n"
     ]
    },
    {
     "name": "stderr",
     "output_type": "stream",
     "text": [
      "Network training: 100%|██████████| 10/10 [00:14<00:00,  1.49s/epoch(s), Training loss MSE=0.16214037]\n"
     ]
    },
    {
     "name": "stdout",
     "output_type": "stream",
     "text": [
      "Iteration:  47\n",
      "Initial state:  tensor([2.3678, 0.1371, 0.0000, 0.0000])\n",
      "avg. decision time:  0.5053183507919311\n",
      "obs. reward:  -152.26236\n",
      "act. reward:  -1.622561\n"
     ]
    },
    {
     "name": "stderr",
     "output_type": "stream",
     "text": [
      "Network training: 100%|██████████| 10/10 [00:15<00:00,  1.55s/epoch(s), Training loss MSE=0.14985862]\n"
     ]
    },
    {
     "name": "stdout",
     "output_type": "stream",
     "text": [
      "Iteration:  48\n",
      "Initial state:  tensor([ 2.2674, -0.0349,  0.0000,  0.0000])\n",
      "avg. decision time:  0.5087462902069092\n",
      "obs. reward:  -129.0957\n",
      "act. reward:  -1.4902879\n"
     ]
    },
    {
     "name": "stderr",
     "output_type": "stream",
     "text": [
      "Network training: 100%|██████████| 10/10 [00:15<00:00,  1.55s/epoch(s), Training loss MSE=0.13727263]"
     ]
    },
    {
     "name": "stdout",
     "output_type": "stream",
     "text": [
      "Iteration:  49\n",
      "Initial state:  tensor([2.5383, 0.0680, 0.0000, 0.0000])\n",
      "avg. decision time:  0.508720098733902\n",
      "obs. reward:  -154.42908\n",
      "act. reward:  -1.7641687\n"
     ]
    },
    {
     "name": "stderr",
     "output_type": "stream",
     "text": [
      "\n"
     ]
    }
   ],
   "source": [
    "lip_reg = False\n",
    "\n",
    "if lip_reg:\n",
    "    controller.regularize(1)\n",
    "    file_name = savepath + 'data_pd_reg'\n",
    "else: \n",
    "    controller.regularize(0)\n",
    "    file_name = savepath + 'data_pd_noreg'\n",
    "    \n",
    "_ = learner.learn(50, verbose=True)\n",
    "learner.save_training_data(file_name)"
   ]
  },
  {
   "cell_type": "code",
   "execution_count": 12,
   "metadata": {
    "scrolled": false
   },
   "outputs": [
    {
     "name": "stdout",
     "output_type": "stream",
     "text": [
      "avg. decision time:  0.5099508666992187\n",
      "obs. reward:  -134.84758\n",
      "act. reward:  -1.7009422\n"
     ]
    }
   ],
   "source": [
    "traj, log = task.perform(task.goal, controller)\n",
    "act_seq = traj[:, nx:nx+na]\n",
    "initial_obs = traj[0, :nx]\n",
    "final_obs = traj[-1, :nx]"
   ]
  },
  {
   "cell_type": "code",
   "execution_count": 13,
   "metadata": {},
   "outputs": [
    {
     "name": "stdout",
     "output_type": "stream",
     "text": [
      "tensor(0.1334, grad_fn=<MeanBackward0>)\n",
      "tensor(0.0628, grad_fn=<StdBackward0>)\n"
     ]
    }
   ],
   "source": [
    "n_sample = 50\n",
    "traj_pred = dynamics.unroll(initial_obs, \n",
    "                            act_seq, \n",
    "                            n_sample)\n",
    "\n",
    "predicted_err = torch.norm(traj_pred[-1, :, :]-final_obs.expand(n_sample, -1), p=2, dim=1)\n",
    "print (predicted_err.mean())\n",
    "print (predicted_err.std())"
   ]
  },
  {
   "cell_type": "code",
   "execution_count": 14,
   "metadata": {},
   "outputs": [],
   "source": [
    "task_horizon = task.task_horizon\n",
    "\n",
    "traj_pred_mean = torch.mean(traj_pred, dim=1)\n",
    "traj_pred_std = torch.std(traj_pred, dim=1)\n",
    "traj_pred_mean = traj_pred_mean.detach().cpu().numpy()\n",
    "traj_pred_std = traj_pred_std.detach().cpu().numpy()\n",
    "traj = traj.detach().cpu().numpy()\n",
    "\n",
    "desired = task.cost.desired.repeat((task_horizon, 1))\n",
    "desired = desired.detach().cpu().numpy()"
   ]
  },
  {
   "cell_type": "code",
   "execution_count": 15,
   "metadata": {},
   "outputs": [],
   "source": [
    "font = {'family' : 'serif',\n",
    "        'size'   : 22}\n",
    "\n",
    "matplotlib.rc('font', **font)\n",
    "np.set_printoptions(precision=3, linewidth=200, suppress=True)"
   ]
  },
  {
   "cell_type": "code",
   "execution_count": 16,
   "metadata": {},
   "outputs": [],
   "source": [
    "# traj_pred_mean = np.load('traj_pred_mean.npy')\n",
    "# traj_pred_std = np.load('traj_pred_std.npy')\n",
    "# traj = np.load('traj.npy')"
   ]
  },
  {
   "cell_type": "code",
   "execution_count": 17,
   "metadata": {
    "scrolled": false
   },
   "outputs": [
    {
     "data": {
      "image/png": "[encoded data removed]",
      "text/plain": [
       "<Figure size 720x864 with 2 Axes>"
      ]
     },
     "metadata": {
      "needs_background": "light"
     },
     "output_type": "display_data"
    }
   ],
   "source": [
    "d = nq\n",
    "dt = dt_control\n",
    "fig, ax = plt.subplots(d, figsize=(10, d * 6))\n",
    "t = np.arange(0.0, task_horizon*dt, dt)\n",
    "dlb = traj_pred_mean - traj_pred_std\n",
    "ub = traj_pred_mean + traj_pred_std\n",
    "\n",
    "for i in range(d):\n",
    "    ax[i].plot(t, traj[:, i], lw=4, color='orange', label='actual')\n",
    "    ax[i].plot(t, traj_pred_mean[:, i], lw=4, color='b', label='predicted mean')\n",
    "    ax[i].plot(t, desired[:, i], lw=2, color='k', ls='-.', label='desired')\n",
    "    lb = traj_pred_mean - traj_pred_std\n",
    "    ub = traj_pred_mean + traj_pred_std\n",
    "    ax[i].fill_between(t, lb[:, i], ub[:, i], facecolor='blue',\n",
    "                alpha=0.2)\n",
    "    _ = ax[i].grid()\n",
    "    _ = ax[i].set_ylim([-3.2, 3.2])\n",
    "    ax[i].legend(loc='upper center', bbox_to_anchor=(0.5, 1.3),\n",
    "             ncol=3, fancybox=True, shadow=True)\n",
    "# fig.savefig('prediction_with_reg_150steps' + '.png', bbox_inches='tight')"
   ]
  },
  {
   "cell_type": "code",
   "execution_count": null,
   "metadata": {},
   "outputs": [],
   "source": []
  }
 ],
 "metadata": {
  "kernelspec": {
   "display_name": "Python 3",
   "language": "python",
   "name": "python3"
  },
  "language_info": {
   "codemirror_mode": {
    "name": "ipython",
    "version": 3
   },
   "file_extension": ".py",
   "mimetype": "text/x-python",
   "name": "python",
   "nbconvert_exporter": "python",
   "pygments_lexer": "ipython3",
   "version": "3.6.9"
  }
 },
 "nbformat": 4,
 "nbformat_minor": 2
}
