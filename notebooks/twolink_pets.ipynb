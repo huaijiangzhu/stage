{
 "cells": [
  {
   "cell_type": "code",
   "execution_count": 1,
   "metadata": {},
   "outputs": [],
   "source": [
    "%matplotlib inline\n",
    "%load_ext autoreload\n",
    "%autoreload 2"
   ]
  },
  {
   "cell_type": "code",
   "execution_count": 2,
   "metadata": {},
   "outputs": [],
   "source": [
    "import os\n",
    "import inspect\n",
    "currentdir = os.path.dirname(os.path.abspath(\n",
    "    inspect.getfile(inspect.currentframe())))\n",
    "parentdir = os.path.dirname(currentdir)\n",
    "os.sys.path.insert(1, parentdir+'/src')\n",
    "import torch\n",
    "import torch.nn.functional as F\n",
    "from torchvision import transforms\n",
    "import numpy as np\n",
    "import time\n",
    "from tqdm import trange\n",
    "import matplotlib.pyplot as plt\n",
    "import matplotlib"
   ]
  },
  {
   "cell_type": "code",
   "execution_count": 3,
   "metadata": {},
   "outputs": [],
   "source": [
    "import gym\n",
    "import pybullet as p\n",
    "import stage.envs\n",
    "from stage.tasks.twolink.reaching import TwoLinkReaching\n",
    "from stage.utils.nn import use_gpu\n",
    "use_gpu()"
   ]
  },
  {
   "cell_type": "code",
   "execution_count": 4,
   "metadata": {},
   "outputs": [],
   "source": [
    "savepath = parentdir + '/data/twolink/'"
   ]
  },
  {
   "cell_type": "code",
   "execution_count": 5,
   "metadata": {},
   "outputs": [],
   "source": [
    "task = TwoLinkReaching(render=False)\n",
    "\n",
    "# Read task parameters, should we use a separate class to wrap this?\n",
    "\n",
    "nq, nv, nu, nx = task.nq, task.nv, task.nu, task.nx\n",
    "dt_control, dt_env = task.dt_control, task.dt_env\n",
    "q_lb, q_ub = task.q_lb, task.q_ub\n",
    "v_lb, v_ub = -100*torch.ones_like(q_lb), 100*torch.ones_like(q_ub)"
   ]
  },
  {
   "cell_type": "code",
   "execution_count": 6,
   "metadata": {},
   "outputs": [],
   "source": [
    "# Setup action parameterization\n",
    "\n",
    "from stage.controllers.actor import Actor\n",
    "from stage.controllers.trivial import Identity\n",
    "from stage.controllers.pd import PD\n",
    "\n",
    "# na = 2\n",
    "# action_ub = torch.Tensor(task.env.action_space.high)\n",
    "# action_lb = torch.Tensor(task.env.action_space.low)\n",
    "# actor = Actor(na, Identity(nq, nv, nu), action_lb, action_ub)\n",
    "\n",
    "na = 4\n",
    "gain_ub = 50 * torch.ones((nq))\n",
    "gain_lb = 0. * torch.ones((nq))\n",
    "action_ub = torch.cat((gain_ub, q_ub))\n",
    "action_lb = torch.cat((gain_lb, q_lb))\n",
    "actor = Actor(na, PD(nq, nv, nu), action_lb, action_ub)\n",
    "\n",
    "task.cost.actor = actor "
   ]
  },
  {
   "cell_type": "code",
   "execution_count": 7,
   "metadata": {},
   "outputs": [],
   "source": [
    "# # Setup model learning\n",
    "\n",
    "from stage.dynamics.probabilistic_ensemble import ProbabilisticEnsemble, DefaultDx\n",
    "\n",
    "ensemble_size = 5\n",
    "nn_epochs = 10\n",
    "batch_size = 64\n",
    "    \n",
    "dynamics = ProbabilisticEnsemble(nx, nq, nv, na, dt_control, \n",
    "                                 DefaultDx,\n",
    "                                 ensemble_size,\n",
    "                                 learning_rate = 0.001)\n",
    "\n",
    "dynamics.state_lb = torch.cat((q_lb, v_lb))\n",
    "dynamics.state_ub = torch.cat((q_ub, v_ub))"
   ]
  },
  {
   "cell_type": "code",
   "execution_count": 8,
   "metadata": {},
   "outputs": [],
   "source": [
    "# Setup controller\n",
    "\n",
    "from stage.controllers.pets import PETS\n",
    "\n",
    "plan_horizon = 30\n",
    "n_particles = 10\n",
    "pop_size = 400\n",
    "\n",
    "controller = PETS(dynamics, task.cost, actor,\n",
    "                  plan_horizon, n_particles, pop_size)"
   ]
  },
  {
   "cell_type": "code",
   "execution_count": 9,
   "metadata": {},
   "outputs": [],
   "source": [
    "# Setup learner\n",
    "\n",
    "from stage.learners.learn_and_control_model import LearnAndControlModel\n",
    "learner = LearnAndControlModel(task, dynamics, controller)"
   ]
  },
  {
   "cell_type": "code",
   "execution_count": null,
   "metadata": {
    "scrolled": false
   },
   "outputs": [
    {
     "name": "stderr",
     "output_type": "stream",
     "text": [
      "Network training: 100%|██████████| 10/10 [00:00<00:00, 29.46epoch(s)/s, Training loss MSE=1.8617142]\n"
     ]
    },
    {
     "name": "stdout",
     "output_type": "stream",
     "text": [
      "Iteration:  0\n",
      "Initial state:  tensor([1.5708, 0.0000, 0.0000, 0.0000])\n",
      "avg. decision time:  0.004658915996551514\n",
      "obs. reward:  -246.31068\n",
      "act. reward:  -1.7472583\n"
     ]
    },
    {
     "name": "stderr",
     "output_type": "stream",
     "text": [
      "Network training: 100%|██████████| 10/10 [00:00<00:00, 11.23epoch(s)/s, Training loss MSE=0.53506005]\n"
     ]
    },
    {
     "name": "stdout",
     "output_type": "stream",
     "text": [
      "Iteration:  1\n",
      "Initial state:  tensor([1.5708, 0.0000, 0.0000, 0.0000])\n",
      "avg. decision time:  0.20526599645614624\n",
      "obs. reward:  -121.417595\n",
      "act. reward:  -0.3742728\n"
     ]
    },
    {
     "name": "stderr",
     "output_type": "stream",
     "text": [
      "Network training: 100%|██████████| 10/10 [00:01<00:00,  8.08epoch(s)/s, Training loss MSE=0.27647415]\n"
     ]
    },
    {
     "name": "stdout",
     "output_type": "stream",
     "text": [
      "Iteration:  2\n",
      "Initial state:  tensor([1.5708, 0.0000, 0.0000, 0.0000])\n",
      "avg. decision time:  0.20584792375564576\n",
      "obs. reward:  -71.981094\n",
      "act. reward:  -0.15385112\n"
     ]
    },
    {
     "name": "stderr",
     "output_type": "stream",
     "text": [
      "Network training: 100%|██████████| 10/10 [00:01<00:00,  6.35epoch(s)/s, Training loss MSE=0.19315968]\n"
     ]
    },
    {
     "name": "stdout",
     "output_type": "stream",
     "text": [
      "Iteration:  3\n",
      "Initial state:  tensor([1.5708, 0.0000, 0.0000, 0.0000])\n",
      "avg. decision time:  0.20645880222320556\n",
      "obs. reward:  -210.83916\n",
      "act. reward:  -0.040909942\n"
     ]
    },
    {
     "name": "stderr",
     "output_type": "stream",
     "text": [
      "Network training: 100%|██████████| 10/10 [00:01<00:00,  5.17epoch(s)/s, Training loss MSE=0.14423643]\n"
     ]
    },
    {
     "name": "stdout",
     "output_type": "stream",
     "text": [
      "Iteration:  4\n",
      "Initial state:  tensor([1.5708, 0.0000, 0.0000, 0.0000])\n",
      "avg. decision time:  0.20694693088531493\n",
      "obs. reward:  -49.944252\n",
      "act. reward:  -0.55807257\n"
     ]
    },
    {
     "name": "stderr",
     "output_type": "stream",
     "text": [
      "Network training: 100%|██████████| 10/10 [00:02<00:00,  4.37epoch(s)/s, Training loss MSE=0.22370636]\n"
     ]
    },
    {
     "name": "stdout",
     "output_type": "stream",
     "text": [
      "Iteration:  5\n",
      "Initial state:  tensor([1.5708, 0.0000, 0.0000, 0.0000])\n",
      "avg. decision time:  0.20771099090576173\n",
      "obs. reward:  -696.60156\n",
      "act. reward:  -0.86783135\n"
     ]
    },
    {
     "name": "stderr",
     "output_type": "stream",
     "text": [
      "Network training: 100%|██████████| 10/10 [00:02<00:00,  3.80epoch(s)/s, Training loss MSE=0.1741652]\n"
     ]
    },
    {
     "name": "stdout",
     "output_type": "stream",
     "text": [
      "Iteration:  6\n",
      "Initial state:  tensor([1.5708, 0.0000, 0.0000, 0.0000])\n",
      "avg. decision time:  0.20819082498550415\n",
      "obs. reward:  -52.19467\n",
      "act. reward:  -0.4512814\n"
     ]
    },
    {
     "name": "stderr",
     "output_type": "stream",
     "text": [
      "Network training: 100%|██████████| 10/10 [00:03<00:00,  3.27epoch(s)/s, Training loss MSE=0.15063788]\n"
     ]
    },
    {
     "name": "stdout",
     "output_type": "stream",
     "text": [
      "Iteration:  7\n",
      "Initial state:  tensor([1.5708, 0.0000, 0.0000, 0.0000])\n",
      "avg. decision time:  0.20897314071655274\n",
      "obs. reward:  -42.526012\n",
      "act. reward:  -0.47124556\n"
     ]
    },
    {
     "name": "stderr",
     "output_type": "stream",
     "text": [
      "Network training: 100%|██████████| 10/10 [00:03<00:00,  2.88epoch(s)/s, Training loss MSE=0.12764879]\n"
     ]
    },
    {
     "name": "stdout",
     "output_type": "stream",
     "text": [
      "Iteration:  8\n",
      "Initial state:  tensor([1.5708, 0.0000, 0.0000, 0.0000])\n",
      "avg. decision time:  0.20921951293945312\n",
      "obs. reward:  -42.80543\n",
      "act. reward:  -0.76780885\n"
     ]
    },
    {
     "name": "stderr",
     "output_type": "stream",
     "text": [
      "Network training: 100%|██████████| 10/10 [00:03<00:00,  2.63epoch(s)/s, Training loss MSE=0.11221723]\n"
     ]
    },
    {
     "name": "stdout",
     "output_type": "stream",
     "text": [
      "Iteration:  9\n",
      "Initial state:  tensor([1.5708, 0.0000, 0.0000, 0.0000])\n",
      "avg. decision time:  0.20848964691162108\n",
      "obs. reward:  -36.65654\n",
      "act. reward:  -0.6721069\n"
     ]
    },
    {
     "name": "stderr",
     "output_type": "stream",
     "text": [
      "Network training: 100%|██████████| 10/10 [00:04<00:00,  2.41epoch(s)/s, Training loss MSE=0.10907155]\n"
     ]
    },
    {
     "name": "stdout",
     "output_type": "stream",
     "text": [
      "Iteration:  10\n",
      "Initial state:  tensor([1.5708, 0.0000, 0.0000, 0.0000])\n",
      "avg. decision time:  0.20837692499160768\n",
      "obs. reward:  -38.085953\n",
      "act. reward:  -0.6076906\n"
     ]
    },
    {
     "name": "stderr",
     "output_type": "stream",
     "text": [
      "Network training: 100%|██████████| 10/10 [00:04<00:00,  2.27epoch(s)/s, Training loss MSE=0.09477136]\n"
     ]
    },
    {
     "name": "stdout",
     "output_type": "stream",
     "text": [
      "Iteration:  11\n",
      "Initial state:  tensor([1.5708, 0.0000, 0.0000, 0.0000])\n",
      "avg. decision time:  0.20861447095870972\n",
      "obs. reward:  -33.60761\n",
      "act. reward:  -0.7735633\n"
     ]
    },
    {
     "name": "stderr",
     "output_type": "stream",
     "text": [
      "Network training: 100%|██████████| 10/10 [00:04<00:00,  2.06epoch(s)/s, Training loss MSE=0.091304496]\n"
     ]
    },
    {
     "name": "stdout",
     "output_type": "stream",
     "text": [
      "Iteration:  12\n",
      "Initial state:  tensor([1.5708, 0.0000, 0.0000, 0.0000])\n",
      "avg. decision time:  0.20843437671661377\n",
      "obs. reward:  -33.50473\n",
      "act. reward:  -0.8411483\n"
     ]
    },
    {
     "name": "stderr",
     "output_type": "stream",
     "text": [
      "Network training: 100%|██████████| 10/10 [00:05<00:00,  1.88epoch(s)/s, Training loss MSE=0.19036809]\n"
     ]
    },
    {
     "name": "stdout",
     "output_type": "stream",
     "text": [
      "Iteration:  13\n",
      "Initial state:  tensor([1.5708, 0.0000, 0.0000, 0.0000])\n",
      "avg. decision time:  0.20990431070327759\n",
      "obs. reward:  -133.11668\n",
      "act. reward:  -7.1188016\n"
     ]
    },
    {
     "name": "stderr",
     "output_type": "stream",
     "text": [
      "Network training: 100%|██████████| 10/10 [00:04<00:00,  2.01epoch(s)/s, Training loss MSE=0.17602178]\n"
     ]
    },
    {
     "name": "stdout",
     "output_type": "stream",
     "text": [
      "Iteration:  14\n",
      "Initial state:  tensor([1.5708, 0.0000, 0.0000, 0.0000])\n",
      "avg. decision time:  0.20904864311218263\n",
      "obs. reward:  -32.162987\n",
      "act. reward:  -0.96225893\n"
     ]
    },
    {
     "name": "stderr",
     "output_type": "stream",
     "text": [
      "Network training: 100%|██████████| 10/10 [00:05<00:00,  1.67epoch(s)/s, Training loss MSE=0.15831788]\n"
     ]
    },
    {
     "name": "stdout",
     "output_type": "stream",
     "text": [
      "Iteration:  15\n",
      "Initial state:  tensor([1.5708, 0.0000, 0.0000, 0.0000])\n",
      "avg. decision time:  0.2087148666381836\n",
      "obs. reward:  -34.395657\n",
      "act. reward:  -0.8370233\n"
     ]
    },
    {
     "name": "stderr",
     "output_type": "stream",
     "text": [
      "Network training: 100%|██████████| 10/10 [00:06<00:00,  1.56epoch(s)/s, Training loss MSE=0.15195896]\n"
     ]
    },
    {
     "name": "stdout",
     "output_type": "stream",
     "text": [
      "Iteration:  16\n",
      "Initial state:  tensor([1.5708, 0.0000, 0.0000, 0.0000])\n",
      "avg. decision time:  0.20841099500656127\n",
      "obs. reward:  -31.938696\n",
      "act. reward:  -0.97785354\n"
     ]
    },
    {
     "name": "stderr",
     "output_type": "stream",
     "text": [
      "Network training: 100%|██████████| 10/10 [00:06<00:00,  1.48epoch(s)/s, Training loss MSE=0.14738542]\n"
     ]
    },
    {
     "name": "stdout",
     "output_type": "stream",
     "text": [
      "Iteration:  17\n",
      "Initial state:  tensor([1.5708, 0.0000, 0.0000, 0.0000])\n",
      "avg. decision time:  0.2082771921157837\n",
      "obs. reward:  -32.105747\n",
      "act. reward:  -0.93191665\n"
     ]
    },
    {
     "name": "stderr",
     "output_type": "stream",
     "text": [
      "Network training: 100%|██████████| 10/10 [00:07<00:00,  1.40epoch(s)/s, Training loss MSE=0.13512258]\n"
     ]
    },
    {
     "name": "stdout",
     "output_type": "stream",
     "text": [
      "Iteration:  18\n",
      "Initial state:  tensor([1.5708, 0.0000, 0.0000, 0.0000])\n",
      "avg. decision time:  0.2077954864501953\n",
      "obs. reward:  -30.224476\n",
      "act. reward:  -1.0750664\n"
     ]
    },
    {
     "name": "stderr",
     "output_type": "stream",
     "text": [
      "Network training: 100%|██████████| 10/10 [00:07<00:00,  1.32epoch(s)/s, Training loss MSE=0.12914939]\n"
     ]
    },
    {
     "name": "stdout",
     "output_type": "stream",
     "text": [
      "Iteration:  19\n",
      "Initial state:  tensor([1.5708, 0.0000, 0.0000, 0.0000])\n",
      "avg. decision time:  0.20814451217651367\n",
      "obs. reward:  -30.775127\n",
      "act. reward:  -1.0416068\n"
     ]
    },
    {
     "name": "stderr",
     "output_type": "stream",
     "text": [
      "Network training: 100%|██████████| 10/10 [00:07<00:00,  1.27epoch(s)/s, Training loss MSE=0.12153639]\n"
     ]
    },
    {
     "name": "stdout",
     "output_type": "stream",
     "text": [
      "Iteration:  20\n",
      "Initial state:  tensor([1.5708, 0.0000, 0.0000, 0.0000])\n",
      "avg. decision time:  0.20795104265213013\n",
      "obs. reward:  -30.88584\n",
      "act. reward:  -1.0310956\n"
     ]
    }
   ],
   "source": [
    "controller.regularize(1)\n",
    "_ = learner.learn(50, verbose=True)\n",
    "learner.save_training_data(savepath+'data_pd_reg')"
   ]
  },
  {
   "cell_type": "code",
   "execution_count": null,
   "metadata": {
    "scrolled": false
   },
   "outputs": [],
   "source": [
    "controller.regularize(1)\n",
    "traj, log = task.perform(task.goal, controller)\n",
    "act_seq = traj[:, nx:nx+na]\n",
    "initial_obs = traj[0, :nx]\n",
    "final_obs = traj[-1, :nx]"
   ]
  },
  {
   "cell_type": "code",
   "execution_count": null,
   "metadata": {},
   "outputs": [],
   "source": [
    "n_sample = 50\n",
    "traj_pred = dynamics.unroll(initial_obs, \n",
    "                            act_seq, \n",
    "                            n_sample)\n",
    "\n",
    "predicted_err = torch.norm(traj_pred[-1, :, :]-final_obs.expand(n_sample, -1), p=2, dim=1)\n",
    "print (predicted_err.mean())\n",
    "print (predicted_err.std())"
   ]
  },
  {
   "cell_type": "code",
   "execution_count": null,
   "metadata": {},
   "outputs": [],
   "source": [
    "task_horizon = task.task_horizon\n",
    "\n",
    "traj_pred_mean = torch.mean(traj_pred, dim=1)\n",
    "traj_pred_std = torch.std(traj_pred, dim=1)\n",
    "traj_pred_mean = traj_pred_mean.detach().cpu().numpy()\n",
    "traj_pred_std = traj_pred_std.detach().cpu().numpy()\n",
    "traj = traj.detach().cpu().numpy()\n",
    "\n",
    "desired = task.cost.desired.repeat((task_horizon, 1))\n",
    "desired = desired.detach().cpu().numpy()"
   ]
  },
  {
   "cell_type": "code",
   "execution_count": null,
   "metadata": {},
   "outputs": [],
   "source": [
    "font = {'family' : 'serif',\n",
    "        'size'   : 22}\n",
    "\n",
    "matplotlib.rc('font', **font)\n",
    "np.set_printoptions(precision=3, linewidth=200, suppress=True)"
   ]
  },
  {
   "cell_type": "code",
   "execution_count": null,
   "metadata": {},
   "outputs": [],
   "source": [
    "# traj_pred_mean = np.load('traj_pred_mean.npy')\n",
    "# traj_pred_std = np.load('traj_pred_std.npy')\n",
    "# traj = np.load('traj.npy')"
   ]
  },
  {
   "cell_type": "code",
   "execution_count": null,
   "metadata": {
    "scrolled": false
   },
   "outputs": [],
   "source": [
    "d = nq\n",
    "dt = dt_control\n",
    "fig, ax = plt.subplots(d, figsize=(10, d * 6))\n",
    "t = np.arange(0.0, task_horizon*dt, dt)\n",
    "dlb = traj_pred_mean - traj_pred_std\n",
    "ub = traj_pred_mean + traj_pred_std\n",
    "\n",
    "for i in range(d):\n",
    "    ax[i].plot(t, traj[:, i], lw=4, color='orange', label='actual')\n",
    "    ax[i].plot(t, traj_pred_mean[:, i], lw=4, color='b', label='predicted mean')\n",
    "    ax[i].plot(t, desired[:, i], lw=2, color='k', ls='-.', label='desired')\n",
    "    lb = traj_pred_mean - traj_pred_std\n",
    "    ub = traj_pred_mean + traj_pred_std\n",
    "    ax[i].fill_between(t, lb[:, i], ub[:, i], facecolor='blue',\n",
    "                alpha=0.2)\n",
    "    _ = ax[i].grid()\n",
    "    _ = ax[i].set_ylim([-3.2, 3.2])\n",
    "    ax[i].legend(loc='upper center', bbox_to_anchor=(0.5, 1.3),\n",
    "             ncol=3, fancybox=True, shadow=True)\n",
    "# fig.savefig('prediction_with_reg_150steps' + '.png', bbox_inches='tight')"
   ]
  },
  {
   "cell_type": "code",
   "execution_count": null,
   "metadata": {},
   "outputs": [],
   "source": [
    "# import numpy as np\n",
    "# from stage.tasks.twolink.reaching import TwoLinkReaching\n",
    "# from stage.utils.nn import use_gpu\n",
    "# use_gpu()\n",
    "# savepath = parentdir + '/data/twolink/'\n",
    "# data_train = np.load(savepath+'data_pd_reg.npy')\n",
    "# task = TwoLinkReaching(render=True)\n",
    "# task.visualize_training_data(data_train, 0)"
   ]
  }
 ],
 "metadata": {
  "kernelspec": {
   "display_name": "Python 3",
   "language": "python",
   "name": "python3"
  },
  "language_info": {
   "codemirror_mode": {
    "name": "ipython",
    "version": 3
   },
   "file_extension": ".py",
   "mimetype": "text/x-python",
   "name": "python",
   "nbconvert_exporter": "python",
   "pygments_lexer": "ipython3",
   "version": "3.6.9"
  }
 },
 "nbformat": 4,
 "nbformat_minor": 2
}
