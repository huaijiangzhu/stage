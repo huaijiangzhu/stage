{
 "cells": [
  {
   "cell_type": "code",
   "execution_count": 1,
   "metadata": {},
   "outputs": [],
   "source": [
    "%matplotlib inline\n",
    "%load_ext autoreload\n",
    "%autoreload 2"
   ]
  },
  {
   "cell_type": "code",
   "execution_count": 2,
   "metadata": {},
   "outputs": [],
   "source": [
    "import os\n",
    "import inspect\n",
    "currentdir = os.path.dirname(os.path.abspath(\n",
    "    inspect.getfile(inspect.currentframe())))\n",
    "parentdir = os.path.dirname(currentdir)\n",
    "os.sys.path.insert(1, parentdir+'/src')\n",
    "import torch\n",
    "import torch.nn.functional as F\n",
    "from torchvision import transforms\n",
    "import numpy as np\n",
    "import time\n",
    "from tqdm import trange\n",
    "import matplotlib.pyplot as plt\n",
    "import matplotlib"
   ]
  },
  {
   "cell_type": "code",
   "execution_count": 3,
   "metadata": {},
   "outputs": [],
   "source": [
    "import gym\n",
    "import pybullet as p\n",
    "import stage.envs\n",
    "from stage.tasks.twolink.reaching import TwoLinkReaching\n",
    "from stage.utils.nn import use_gpu\n",
    "use_gpu()"
   ]
  },
  {
   "cell_type": "code",
   "execution_count": 4,
   "metadata": {},
   "outputs": [],
   "source": [
    "savepath = parentdir + '/data/twolink/'"
   ]
  },
  {
   "cell_type": "code",
   "execution_count": 5,
   "metadata": {},
   "outputs": [],
   "source": [
    "# data_train = np.load(savepath+'data_pd_noreg.npy')\n",
    "# task = TwoLinkReaching(render=True)\n",
    "# task.visualize_training_data(data_train, 0)"
   ]
  },
  {
   "cell_type": "code",
   "execution_count": 6,
   "metadata": {},
   "outputs": [],
   "source": [
    "task = TwoLinkReaching(render=False)\n",
    "\n",
    "# Read task parameters, should we use a separate class to wrap this?\n",
    "\n",
    "nq, nv, nu, nx = task.nq, task.nv, task.nu, task.nx\n",
    "dt_control, dt_env = task.dt_control, task.dt_env\n",
    "q_lb, q_ub = task.q_lb, task.q_ub\n",
    "v_lb, v_ub = -100*torch.ones_like(q_lb), 100*torch.ones_like(q_ub)"
   ]
  },
  {
   "cell_type": "code",
   "execution_count": 9,
   "metadata": {},
   "outputs": [],
   "source": [
    "# Setup action parameterization\n",
    "\n",
    "from stage.controllers.actor import Actor\n",
    "from stage.controllers.trivial import Identity\n",
    "from stage.controllers.pd import PD\n",
    "\n",
    "# na = 2\n",
    "# action_ub = torch.Tensor(task.env.action_space.high)\n",
    "# action_lb = torch.Tensor(task.env.action_space.low)\n",
    "# actor = Actor(na, Identity(nq, nv, nu), action_lb, action_ub)\n",
    "\n",
    "na = 4\n",
    "gain_ub = 50 * torch.ones((nq))\n",
    "gain_lb = 0. * torch.ones((nq))\n",
    "action_ub = torch.cat((gain_ub, q_ub))\n",
    "action_lb = torch.cat((gain_lb, q_lb))\n",
    "actor = Actor(PD(nx, nq, nv, nu), action_lb, action_ub)\n",
    "\n",
    "task.cost.actor = actor "
   ]
  },
  {
   "cell_type": "code",
   "execution_count": 10,
   "metadata": {},
   "outputs": [],
   "source": [
    "# # Setup model learning\n",
    "\n",
    "from stage.dynamics.probabilistic_ensemble import ProbabilisticEnsemble, DefaultDx\n",
    "\n",
    "ensemble_size = 5\n",
    "nn_epochs = 10\n",
    "batch_size = 64\n",
    "    \n",
    "dynamics = ProbabilisticEnsemble(nx, nq, nv, na, dt_control, \n",
    "                                 DefaultDx,\n",
    "                                 ensemble_size,\n",
    "                                 learning_rate = 0.001)\n",
    "\n",
    "dynamics.state_lb = torch.cat((q_lb, v_lb))\n",
    "dynamics.state_ub = torch.cat((q_ub, v_ub))"
   ]
  },
  {
   "cell_type": "code",
   "execution_count": 11,
   "metadata": {},
   "outputs": [],
   "source": [
    "# Setup controller\n",
    "\n",
    "from stage.controllers.pets import PETS\n",
    "\n",
    "plan_horizon = 100\n",
    "n_particles = 10\n",
    "pop_size = 400\n",
    "\n",
    "controller = PETS(dynamics, task.cost, actor,\n",
    "                  plan_horizon, n_particles, pop_size)"
   ]
  },
  {
   "cell_type": "code",
   "execution_count": 12,
   "metadata": {},
   "outputs": [],
   "source": [
    "# Setup learner\n",
    "\n",
    "from stage.learners.learn_and_control_model import LearnAndControlModel\n",
    "learner = LearnAndControlModel(task, dynamics, controller)"
   ]
  },
  {
   "cell_type": "code",
   "execution_count": 13,
   "metadata": {
    "scrolled": false
   },
   "outputs": [
    {
     "name": "stderr",
     "output_type": "stream",
     "text": [
      "Network training: 100%|██████████| 10/10 [00:00<00:00, 18.92epoch(s)/s, Training loss MSE=1.2135111]\n"
     ]
    },
    {
     "name": "stdout",
     "output_type": "stream",
     "text": [
      "Iteration:  0\n",
      "Initial state:  tensor([ 2.4841, -0.0582,  0.0000,  0.0000])\n",
      "avg. decision time:  0.012290596961975098\n",
      "obs. reward:  -1180.453\n",
      "act. reward:  -4.335348\n"
     ]
    },
    {
     "name": "stderr",
     "output_type": "stream",
     "text": [
      "Network training: 100%|██████████| 10/10 [00:01<00:00,  7.32epoch(s)/s, Training loss MSE=0.2888586]\n"
     ]
    },
    {
     "name": "stdout",
     "output_type": "stream",
     "text": [
      "Iteration:  1\n",
      "Initial state:  tensor([2.3779, 0.1967, 0.0000, 0.0000])\n",
      "avg. decision time:  1.0482946145534515\n",
      "obs. reward:  -750.7608\n",
      "act. reward:  -0.65488416\n"
     ]
    },
    {
     "name": "stderr",
     "output_type": "stream",
     "text": [
      "Network training: 100%|██████████| 10/10 [00:02<00:00,  4.39epoch(s)/s, Training loss MSE=0.16107091]\n"
     ]
    },
    {
     "name": "stdout",
     "output_type": "stream",
     "text": [
      "Iteration:  2\n",
      "Initial state:  tensor([2.3903, 0.1252, 0.0000, 0.0000])\n",
      "avg. decision time:  1.0579659521579743\n",
      "obs. reward:  -691.343\n",
      "act. reward:  -0.16005558\n"
     ]
    },
    {
     "name": "stderr",
     "output_type": "stream",
     "text": [
      "Network training: 100%|██████████| 10/10 [00:02<00:00,  3.35epoch(s)/s, Training loss MSE=0.2807243]\n"
     ]
    },
    {
     "name": "stdout",
     "output_type": "stream",
     "text": [
      "Iteration:  3\n",
      "Initial state:  tensor([2.4318, 0.1233, 0.0000, 0.0000])\n",
      "avg. decision time:  1.056524065732956\n",
      "obs. reward:  -1588.9109\n",
      "act. reward:  -1.2094119\n"
     ]
    },
    {
     "name": "stderr",
     "output_type": "stream",
     "text": [
      "Network training: 100%|██████████| 10/10 [00:03<00:00,  2.64epoch(s)/s, Training loss MSE=0.21610205]\n"
     ]
    },
    {
     "name": "stdout",
     "output_type": "stream",
     "text": [
      "Iteration:  4\n",
      "Initial state:  tensor([2.4134, 0.0376, 0.0000, 0.0000])\n",
      "avg. decision time:  1.0589168024063111\n",
      "obs. reward:  -639.8867\n",
      "act. reward:  -1.4819821\n"
     ]
    },
    {
     "name": "stderr",
     "output_type": "stream",
     "text": [
      "Network training: 100%|██████████| 10/10 [00:04<00:00,  2.24epoch(s)/s, Training loss MSE=0.18138096]\n"
     ]
    },
    {
     "name": "stdout",
     "output_type": "stream",
     "text": [
      "Iteration:  5\n",
      "Initial state:  tensor([2.4607, 0.0821, 0.0000, 0.0000])\n",
      "avg. decision time:  1.0584253108501434\n",
      "obs. reward:  -594.41974\n",
      "act. reward:  -0.52057433\n"
     ]
    },
    {
     "name": "stderr",
     "output_type": "stream",
     "text": [
      "Network training: 100%|██████████| 10/10 [00:05<00:00,  1.95epoch(s)/s, Training loss MSE=0.17482726]\n"
     ]
    },
    {
     "name": "stdout",
     "output_type": "stream",
     "text": [
      "Iteration:  6\n",
      "Initial state:  tensor([ 2.2718, -0.0972,  0.0000,  0.0000])\n",
      "avg. decision time:  1.0605370151996611\n",
      "obs. reward:  -1149.1626\n",
      "act. reward:  -0.8572958\n"
     ]
    },
    {
     "name": "stderr",
     "output_type": "stream",
     "text": [
      "Network training: 100%|██████████| 10/10 [00:05<00:00,  1.71epoch(s)/s, Training loss MSE=0.15497373]\n"
     ]
    },
    {
     "name": "stdout",
     "output_type": "stream",
     "text": [
      "Iteration:  7\n",
      "Initial state:  tensor([2.3997, 0.0113, 0.0000, 0.0000])\n",
      "avg. decision time:  1.057338089942932\n",
      "obs. reward:  -1241.0298\n",
      "act. reward:  -0.21417831\n"
     ]
    },
    {
     "name": "stderr",
     "output_type": "stream",
     "text": [
      "Network training: 100%|██████████| 10/10 [00:06<00:00,  1.48epoch(s)/s, Training loss MSE=0.13345131]\n"
     ]
    },
    {
     "name": "stdout",
     "output_type": "stream",
     "text": [
      "Iteration:  8\n",
      "Initial state:  tensor([2.3575e+00, 1.8006e-03, 0.0000e+00, 0.0000e+00])\n",
      "avg. decision time:  1.0610991442203521\n",
      "obs. reward:  -873.16766\n",
      "act. reward:  -0.432792\n"
     ]
    },
    {
     "name": "stderr",
     "output_type": "stream",
     "text": [
      "Network training: 100%|██████████| 10/10 [00:07<00:00,  1.35epoch(s)/s, Training loss MSE=0.14311191]\n"
     ]
    },
    {
     "name": "stdout",
     "output_type": "stream",
     "text": [
      "Iteration:  9\n",
      "Initial state:  tensor([ 2.2232, -0.0866,  0.0000,  0.0000])\n",
      "avg. decision time:  1.0874578738212586\n",
      "obs. reward:  -978.9649\n",
      "act. reward:  -1.9666176\n"
     ]
    },
    {
     "name": "stderr",
     "output_type": "stream",
     "text": [
      "Network training: 100%|██████████| 10/10 [00:08<00:00,  1.22epoch(s)/s, Training loss MSE=0.11787043]\n"
     ]
    },
    {
     "name": "stdout",
     "output_type": "stream",
     "text": [
      "Iteration:  10\n",
      "Initial state:  tensor([ 2.3003, -0.1156,  0.0000,  0.0000])\n",
      "avg. decision time:  1.0613321363925934\n",
      "obs. reward:  -183.72012\n",
      "act. reward:  -0.58229905\n"
     ]
    },
    {
     "name": "stderr",
     "output_type": "stream",
     "text": [
      "Network training: 100%|██████████| 10/10 [00:08<00:00,  1.13epoch(s)/s, Training loss MSE=0.10560084]\n"
     ]
    },
    {
     "name": "stdout",
     "output_type": "stream",
     "text": [
      "Iteration:  11\n",
      "Initial state:  tensor([2.2647, 0.0864, 0.0000, 0.0000])\n",
      "avg. decision time:  1.0608999001979829\n",
      "obs. reward:  -1312.0938\n",
      "act. reward:  -0.13832855\n"
     ]
    },
    {
     "name": "stderr",
     "output_type": "stream",
     "text": [
      "Network training: 100%|██████████| 10/10 [00:09<00:00,  1.03epoch(s)/s, Training loss MSE=0.094216496]\n"
     ]
    },
    {
     "name": "stdout",
     "output_type": "stream",
     "text": [
      "Iteration:  12\n",
      "Initial state:  tensor([2.3893, 0.2025, 0.0000, 0.0000])\n",
      "avg. decision time:  1.0588597583770751\n",
      "obs. reward:  -176.93411\n",
      "act. reward:  -0.96392906\n"
     ]
    },
    {
     "name": "stderr",
     "output_type": "stream",
     "text": [
      "Network training: 100%|██████████| 10/10 [00:10<00:00,  1.05s/epoch(s), Training loss MSE=0.0827566] \n"
     ]
    },
    {
     "name": "stdout",
     "output_type": "stream",
     "text": [
      "Iteration:  13\n",
      "Initial state:  tensor([2.5268, 0.0106, 0.0000, 0.0000])\n",
      "avg. decision time:  1.0603066134452819\n",
      "obs. reward:  -168.79521\n",
      "act. reward:  -1.3353477\n"
     ]
    },
    {
     "name": "stderr",
     "output_type": "stream",
     "text": [
      "Network training: 100%|██████████| 10/10 [00:11<00:00,  1.12s/epoch(s), Training loss MSE=0.07640082]\n"
     ]
    },
    {
     "name": "stdout",
     "output_type": "stream",
     "text": [
      "Iteration:  14\n",
      "Initial state:  tensor([ 2.3863, -0.0224,  0.0000,  0.0000])\n",
      "avg. decision time:  1.061376268863678\n",
      "obs. reward:  -151.44609\n",
      "act. reward:  -1.4566613\n"
     ]
    },
    {
     "name": "stderr",
     "output_type": "stream",
     "text": [
      "Network training: 100%|██████████| 10/10 [00:11<00:00,  1.18s/epoch(s), Training loss MSE=0.067431934]\n"
     ]
    },
    {
     "name": "stdout",
     "output_type": "stream",
     "text": [
      "Iteration:  15\n",
      "Initial state:  tensor([2.3029e+00, 6.5374e-04, 0.0000e+00, 0.0000e+00])\n",
      "avg. decision time:  1.0604243516921996\n",
      "obs. reward:  -144.8308\n",
      "act. reward:  -1.4169348\n"
     ]
    },
    {
     "name": "stderr",
     "output_type": "stream",
     "text": [
      "Network training: 100%|██████████| 10/10 [00:12<00:00,  1.22s/epoch(s), Training loss MSE=0.060127985]\n"
     ]
    },
    {
     "name": "stdout",
     "output_type": "stream",
     "text": [
      "Iteration:  16\n",
      "Initial state:  tensor([2.5068, 0.1306, 0.0000, 0.0000])\n",
      "avg. decision time:  1.0617149126529695\n",
      "obs. reward:  -174.72083\n",
      "act. reward:  -1.6640866\n"
     ]
    },
    {
     "name": "stderr",
     "output_type": "stream",
     "text": [
      "Network training: 100%|██████████| 10/10 [00:13<00:00,  1.34s/epoch(s), Training loss MSE=0.055769335]\n"
     ]
    },
    {
     "name": "stdout",
     "output_type": "stream",
     "text": [
      "Iteration:  17\n",
      "Initial state:  tensor([ 2.3721, -0.1038,  0.0000,  0.0000])\n",
      "avg. decision time:  1.060644612312317\n",
      "obs. reward:  -138.55093\n",
      "act. reward:  -1.5855092\n"
     ]
    },
    {
     "name": "stderr",
     "output_type": "stream",
     "text": [
      "Network training: 100%|██████████| 10/10 [00:13<00:00,  1.35s/epoch(s), Training loss MSE=0.053901482]\n"
     ]
    },
    {
     "name": "stdout",
     "output_type": "stream",
     "text": [
      "Iteration:  18\n",
      "Initial state:  tensor([2.2946, 0.0375, 0.0000, 0.0000])\n",
      "avg. decision time:  1.0586474990844728\n",
      "obs. reward:  -146.54573\n",
      "act. reward:  -1.6192725\n"
     ]
    },
    {
     "name": "stderr",
     "output_type": "stream",
     "text": [
      "Network training: 100%|██████████| 10/10 [00:12<00:00,  1.29s/epoch(s), Training loss MSE=0.04978718]\n"
     ]
    },
    {
     "name": "stdout",
     "output_type": "stream",
     "text": [
      "Iteration:  19\n",
      "Initial state:  tensor([ 2.2519, -0.0043,  0.0000,  0.0000])\n",
      "avg. decision time:  1.058619157075882\n",
      "obs. reward:  -132.6673\n",
      "act. reward:  -1.5808018\n"
     ]
    },
    {
     "name": "stderr",
     "output_type": "stream",
     "text": [
      "Network training: 100%|██████████| 10/10 [00:15<00:00,  1.56s/epoch(s), Training loss MSE=0.061021287]\n"
     ]
    },
    {
     "name": "stdout",
     "output_type": "stream",
     "text": [
      "Iteration:  20\n",
      "Initial state:  tensor([ 2.3463, -0.0442,  0.0000,  0.0000])\n",
      "avg. decision time:  1.0626074934005738\n",
      "obs. reward:  -140.41101\n",
      "act. reward:  -1.6446211\n"
     ]
    },
    {
     "name": "stderr",
     "output_type": "stream",
     "text": [
      "Network training: 100%|██████████| 10/10 [00:15<00:00,  1.58s/epoch(s), Training loss MSE=0.05464363]\n"
     ]
    },
    {
     "name": "stdout",
     "output_type": "stream",
     "text": [
      "Iteration:  21\n",
      "Initial state:  tensor([ 2.3819, -0.0230,  0.0000,  0.0000])\n",
      "avg. decision time:  1.0582464027404785\n",
      "obs. reward:  -194.57231\n",
      "act. reward:  -2.2283068\n"
     ]
    },
    {
     "name": "stderr",
     "output_type": "stream",
     "text": [
      "Network training: 100%|██████████| 10/10 [00:17<00:00,  1.71s/epoch(s), Training loss MSE=0.046810843]\n"
     ]
    },
    {
     "name": "stdout",
     "output_type": "stream",
     "text": [
      "Iteration:  22\n",
      "Initial state:  tensor([ 2.3675, -0.0194,  0.0000,  0.0000])\n",
      "avg. decision time:  1.0628068256378174\n",
      "obs. reward:  -194.28163\n",
      "act. reward:  -0.7919509\n"
     ]
    },
    {
     "name": "stderr",
     "output_type": "stream",
     "text": [
      "Network training: 100%|██████████| 10/10 [00:17<00:00,  1.77s/epoch(s), Training loss MSE=0.042132996]\n"
     ]
    },
    {
     "name": "stdout",
     "output_type": "stream",
     "text": [
      "Iteration:  23\n",
      "Initial state:  tensor([ 2.5638, -0.0281,  0.0000,  0.0000])\n",
      "avg. decision time:  1.0602826356887818\n",
      "obs. reward:  -168.17493\n",
      "act. reward:  -1.5334625\n"
     ]
    },
    {
     "name": "stderr",
     "output_type": "stream",
     "text": [
      "Network training: 100%|██████████| 10/10 [00:18<00:00,  1.86s/epoch(s), Training loss MSE=0.03913923]\n"
     ]
    },
    {
     "name": "stdout",
     "output_type": "stream",
     "text": [
      "Iteration:  24\n",
      "Initial state:  tensor([2.5522, 0.2681, 0.0000, 0.0000])\n",
      "avg. decision time:  1.0609401404857635\n",
      "obs. reward:  -174.61607\n",
      "act. reward:  -1.8753588\n"
     ]
    },
    {
     "name": "stderr",
     "output_type": "stream",
     "text": [
      "Network training: 100%|██████████| 10/10 [00:18<00:00,  1.83s/epoch(s), Training loss MSE=0.040372625]\n"
     ]
    },
    {
     "name": "stdout",
     "output_type": "stream",
     "text": [
      "Iteration:  25\n",
      "Initial state:  tensor([ 2.2559, -0.0725,  0.0000,  0.0000])\n",
      "avg. decision time:  1.0611116683483124\n",
      "obs. reward:  -137.60907\n",
      "act. reward:  -1.3389814\n"
     ]
    },
    {
     "name": "stderr",
     "output_type": "stream",
     "text": [
      "Network training: 100%|██████████| 10/10 [00:20<00:00,  2.00s/epoch(s), Training loss MSE=0.035404827]\n"
     ]
    },
    {
     "name": "stdout",
     "output_type": "stream",
     "text": [
      "Iteration:  26\n",
      "Initial state:  tensor([2.5242, 0.2043, 0.0000, 0.0000])\n",
      "avg. decision time:  1.0606723606586457\n",
      "obs. reward:  -188.01007\n",
      "act. reward:  -1.5430667\n"
     ]
    },
    {
     "name": "stderr",
     "output_type": "stream",
     "text": [
      "Network training: 100%|██████████| 10/10 [00:20<00:00,  2.05s/epoch(s), Training loss MSE=0.038930066]\n"
     ]
    },
    {
     "name": "stdout",
     "output_type": "stream",
     "text": [
      "Iteration:  27\n",
      "Initial state:  tensor([ 2.4210, -0.2507,  0.0000,  0.0000])\n",
      "avg. decision time:  1.0598069155216217\n",
      "obs. reward:  -137.22955\n",
      "act. reward:  -1.4006101\n"
     ]
    },
    {
     "name": "stderr",
     "output_type": "stream",
     "text": [
      "Network training: 100%|██████████| 10/10 [00:20<00:00,  2.08s/epoch(s), Training loss MSE=0.037504736]\n"
     ]
    },
    {
     "name": "stdout",
     "output_type": "stream",
     "text": [
      "Iteration:  28\n",
      "Initial state:  tensor([2.3293, 0.0296, 0.0000, 0.0000])\n",
      "avg. decision time:  1.061668791770935\n",
      "obs. reward:  -149.23473\n",
      "act. reward:  -1.4445871\n"
     ]
    },
    {
     "name": "stderr",
     "output_type": "stream",
     "text": [
      "Network training: 100%|██████████| 10/10 [00:22<00:00,  2.24s/epoch(s), Training loss MSE=0.032822933]\n"
     ]
    },
    {
     "name": "stdout",
     "output_type": "stream",
     "text": [
      "Iteration:  29\n",
      "Initial state:  tensor([ 2.3953, -0.1012,  0.0000,  0.0000])\n",
      "avg. decision time:  1.061333382129669\n",
      "obs. reward:  -174.51323\n",
      "act. reward:  -1.1389513\n"
     ]
    },
    {
     "name": "stderr",
     "output_type": "stream",
     "text": [
      "Network training: 100%|██████████| 10/10 [00:22<00:00,  2.28s/epoch(s), Training loss MSE=0.032296855]\n"
     ]
    },
    {
     "name": "stdout",
     "output_type": "stream",
     "text": [
      "Iteration:  30\n",
      "Initial state:  tensor([ 2.3923, -0.0830,  0.0000,  0.0000])\n",
      "avg. decision time:  1.0615092527866363\n",
      "obs. reward:  -145.75478\n",
      "act. reward:  -1.3822163\n"
     ]
    },
    {
     "name": "stderr",
     "output_type": "stream",
     "text": [
      "Network training: 100%|██████████| 10/10 [00:23<00:00,  2.36s/epoch(s), Training loss MSE=0.028615514]\n"
     ]
    },
    {
     "name": "stdout",
     "output_type": "stream",
     "text": [
      "Iteration:  31\n",
      "Initial state:  tensor([2.4299, 0.0552, 0.0000, 0.0000])\n",
      "avg. decision time:  1.059549593925476\n",
      "obs. reward:  -160.59613\n",
      "act. reward:  -1.513138\n"
     ]
    },
    {
     "name": "stderr",
     "output_type": "stream",
     "text": [
      "Network training: 100%|██████████| 10/10 [00:22<00:00,  2.22s/epoch(s), Training loss MSE=0.027400719]\n"
     ]
    },
    {
     "name": "stdout",
     "output_type": "stream",
     "text": [
      "Iteration:  32\n",
      "Initial state:  tensor([2.2839, 0.1290, 0.0000, 0.0000])\n",
      "avg. decision time:  1.059487031698227\n",
      "obs. reward:  -144.17538\n",
      "act. reward:  -1.5307802\n"
     ]
    },
    {
     "name": "stderr",
     "output_type": "stream",
     "text": [
      "Network training: 100%|██████████| 10/10 [00:25<00:00,  2.53s/epoch(s), Training loss MSE=0.05566899]\n"
     ]
    },
    {
     "name": "stdout",
     "output_type": "stream",
     "text": [
      "Iteration:  33\n",
      "Initial state:  tensor([ 2.4322, -0.0616,  0.0000,  0.0000])\n",
      "avg. decision time:  1.0655165088176728\n",
      "obs. reward:  -161.53502\n",
      "act. reward:  -1.3400458\n"
     ]
    },
    {
     "name": "stderr",
     "output_type": "stream",
     "text": [
      "Network training: 100%|██████████| 10/10 [00:25<00:00,  2.57s/epoch(s), Training loss MSE=0.028974637]\n"
     ]
    },
    {
     "name": "stdout",
     "output_type": "stream",
     "text": [
      "Iteration:  34\n",
      "Initial state:  tensor([2.2396, 0.0067, 0.0000, 0.0000])\n",
      "avg. decision time:  1.0610131895542145\n",
      "obs. reward:  -249.09575\n",
      "act. reward:  -1.0855073\n"
     ]
    },
    {
     "name": "stderr",
     "output_type": "stream",
     "text": [
      "Network training: 100%|██████████| 10/10 [00:26<00:00,  2.67s/epoch(s), Training loss MSE=0.024996659]\n"
     ]
    },
    {
     "name": "stdout",
     "output_type": "stream",
     "text": [
      "Iteration:  35\n",
      "Initial state:  tensor([2.3178, 0.0103, 0.0000, 0.0000])\n",
      "avg. decision time:  1.0617371535301208\n",
      "obs. reward:  -161.38622\n",
      "act. reward:  -1.1874585\n"
     ]
    },
    {
     "name": "stderr",
     "output_type": "stream",
     "text": [
      "Network training: 100%|██████████| 10/10 [00:25<00:00,  2.57s/epoch(s), Training loss MSE=0.038406964]\n"
     ]
    },
    {
     "name": "stdout",
     "output_type": "stream",
     "text": [
      "Iteration:  36\n",
      "Initial state:  tensor([2.4455, 0.0317, 0.0000, 0.0000])\n",
      "avg. decision time:  1.0635373377799988\n",
      "obs. reward:  -153.66212\n",
      "act. reward:  -1.6773757\n"
     ]
    },
    {
     "name": "stderr",
     "output_type": "stream",
     "text": [
      "Network training: 100%|██████████| 10/10 [00:28<00:00,  2.83s/epoch(s), Training loss MSE=0.038728584]\n"
     ]
    },
    {
     "name": "stdout",
     "output_type": "stream",
     "text": [
      "Iteration:  37\n",
      "Initial state:  tensor([ 2.2370, -0.0954,  0.0000,  0.0000])\n",
      "avg. decision time:  1.0620349073410034\n",
      "obs. reward:  -180.56499\n",
      "act. reward:  -0.8157677\n"
     ]
    },
    {
     "name": "stderr",
     "output_type": "stream",
     "text": [
      "Network training: 100%|██████████| 10/10 [00:28<00:00,  2.82s/epoch(s), Training loss MSE=0.024993]  \n"
     ]
    },
    {
     "name": "stdout",
     "output_type": "stream",
     "text": [
      "Iteration:  38\n",
      "Initial state:  tensor([ 2.5026, -0.0515,  0.0000,  0.0000])\n",
      "avg. decision time:  1.059683585166931\n",
      "obs. reward:  -223.3467\n",
      "act. reward:  -0.65050936\n"
     ]
    },
    {
     "name": "stderr",
     "output_type": "stream",
     "text": [
      "Network training: 100%|██████████| 10/10 [00:29<00:00,  2.96s/epoch(s), Training loss MSE=0.022961391]\n"
     ]
    },
    {
     "name": "stdout",
     "output_type": "stream",
     "text": [
      "Iteration:  39\n",
      "Initial state:  tensor([ 2.3449, -0.1075,  0.0000,  0.0000])\n",
      "avg. decision time:  1.060995213985443\n",
      "obs. reward:  -156.17943\n",
      "act. reward:  -1.2295091\n"
     ]
    },
    {
     "name": "stderr",
     "output_type": "stream",
     "text": [
      "Network training: 100%|██████████| 10/10 [00:29<00:00,  2.95s/epoch(s), Training loss MSE=0.029843166]\n"
     ]
    },
    {
     "name": "stdout",
     "output_type": "stream",
     "text": [
      "Iteration:  40\n",
      "Initial state:  tensor([ 2.2065, -0.1397,  0.0000,  0.0000])\n",
      "avg. decision time:  1.061629638671875\n",
      "obs. reward:  -131.94931\n",
      "act. reward:  -1.1307281\n"
     ]
    },
    {
     "name": "stderr",
     "output_type": "stream",
     "text": [
      "Network training: 100%|██████████| 10/10 [00:31<00:00,  3.12s/epoch(s), Training loss MSE=0.035923615]\n"
     ]
    },
    {
     "name": "stdout",
     "output_type": "stream",
     "text": [
      "Iteration:  41\n",
      "Initial state:  tensor([ 2.3967, -0.1548,  0.0000,  0.0000])\n",
      "avg. decision time:  1.0629507565498353\n",
      "obs. reward:  -1328.834\n",
      "act. reward:  -1.1669428\n"
     ]
    },
    {
     "name": "stderr",
     "output_type": "stream",
     "text": [
      "Network training: 100%|██████████| 10/10 [00:31<00:00,  3.19s/epoch(s), Training loss MSE=0.030583022]\n"
     ]
    },
    {
     "name": "stdout",
     "output_type": "stream",
     "text": [
      "Iteration:  42\n",
      "Initial state:  tensor([2.4740, 0.0520, 0.0000, 0.0000])\n",
      "avg. decision time:  1.0600519156455994\n",
      "obs. reward:  -252.13326\n",
      "act. reward:  -0.62386\n"
     ]
    },
    {
     "name": "stderr",
     "output_type": "stream",
     "text": [
      "Network training: 100%|██████████| 10/10 [00:32<00:00,  3.21s/epoch(s), Training loss MSE=0.024153924]\n"
     ]
    },
    {
     "name": "stdout",
     "output_type": "stream",
     "text": [
      "Iteration:  43\n",
      "Initial state:  tensor([ 2.2262, -0.1329,  0.0000,  0.0000])\n",
      "avg. decision time:  1.060984469652176\n",
      "obs. reward:  -182.03362\n",
      "act. reward:  -0.77073395\n"
     ]
    },
    {
     "name": "stderr",
     "output_type": "stream",
     "text": [
      "Network training: 100%|██████████| 10/10 [00:33<00:00,  3.35s/epoch(s), Training loss MSE=0.024877822]\n"
     ]
    },
    {
     "name": "stdout",
     "output_type": "stream",
     "text": [
      "Iteration:  44\n",
      "Initial state:  tensor([ 2.4051, -0.0577,  0.0000,  0.0000])\n",
      "avg. decision time:  1.0634399461746216\n",
      "obs. reward:  -149.83693\n",
      "act. reward:  -1.3836497\n"
     ]
    },
    {
     "name": "stderr",
     "output_type": "stream",
     "text": [
      "Network training: 100%|██████████| 10/10 [00:34<00:00,  3.43s/epoch(s), Training loss MSE=0.015580465]\n"
     ]
    },
    {
     "name": "stdout",
     "output_type": "stream",
     "text": [
      "Iteration:  45\n",
      "Initial state:  tensor([2.2706, 0.0327, 0.0000, 0.0000])\n",
      "avg. decision time:  1.063068495988846\n",
      "obs. reward:  -147.45303\n",
      "act. reward:  -1.0948988\n"
     ]
    },
    {
     "name": "stderr",
     "output_type": "stream",
     "text": [
      "Network training: 100%|██████████| 10/10 [00:34<00:00,  3.47s/epoch(s), Training loss MSE=0.021729443]\n"
     ]
    },
    {
     "name": "stdout",
     "output_type": "stream",
     "text": [
      "Iteration:  46\n",
      "Initial state:  tensor([ 2.3745, -0.0593,  0.0000,  0.0000])\n",
      "avg. decision time:  1.0628197991847992\n",
      "obs. reward:  -148.57626\n",
      "act. reward:  -1.2879041\n"
     ]
    },
    {
     "name": "stderr",
     "output_type": "stream",
     "text": [
      "Network training: 100%|██████████| 10/10 [00:35<00:00,  3.56s/epoch(s), Training loss MSE=0.05189533]\n"
     ]
    },
    {
     "name": "stdout",
     "output_type": "stream",
     "text": [
      "Iteration:  47\n",
      "Initial state:  tensor([ 2.3473, -0.1425,  0.0000,  0.0000])\n",
      "avg. decision time:  1.0638077414035798\n",
      "obs. reward:  -149.31029\n",
      "act. reward:  -0.96691275\n"
     ]
    },
    {
     "name": "stderr",
     "output_type": "stream",
     "text": [
      "Network training: 100%|██████████| 10/10 [00:36<00:00,  3.68s/epoch(s), Training loss MSE=0.019149268]\n"
     ]
    },
    {
     "name": "stdout",
     "output_type": "stream",
     "text": [
      "Iteration:  48\n",
      "Initial state:  tensor([ 2.3550, -0.0205,  0.0000,  0.0000])\n",
      "avg. decision time:  1.0665603756904602\n",
      "obs. reward:  -372.0564\n",
      "act. reward:  -2.3425364\n"
     ]
    },
    {
     "name": "stderr",
     "output_type": "stream",
     "text": [
      "Network training: 100%|██████████| 10/10 [00:35<00:00,  3.57s/epoch(s), Training loss MSE=0.021864679]"
     ]
    },
    {
     "name": "stdout",
     "output_type": "stream",
     "text": [
      "Iteration:  49\n",
      "Initial state:  tensor([ 2.3273, -0.1230,  0.0000,  0.0000])\n",
      "avg. decision time:  1.0637227404117584\n",
      "obs. reward:  -148.40997\n",
      "act. reward:  -1.3961886\n"
     ]
    },
    {
     "name": "stderr",
     "output_type": "stream",
     "text": [
      "\n"
     ]
    }
   ],
   "source": [
    "lip_reg = True\n",
    "\n",
    "if lip_reg:\n",
    "    controller.regularize(1)\n",
    "    file_name = savepath + 'data_pd_reg'\n",
    "else: \n",
    "    controller.regularize(0)\n",
    "    file_name = savepath + 'data_pd_noreg'\n",
    "    \n",
    "_ = learner.learn(50, verbose=True)\n",
    "learner.save_training_data(file_name)"
   ]
  },
  {
   "cell_type": "code",
   "execution_count": 14,
   "metadata": {
    "scrolled": false
   },
   "outputs": [
    {
     "name": "stdout",
     "output_type": "stream",
     "text": [
      "avg. decision time:  1.0612739539146423\n",
      "obs. reward:  -705.4328\n",
      "act. reward:  -0.8817823\n"
     ]
    }
   ],
   "source": [
    "traj, log = task.perform(task.goal, controller)\n",
    "act_seq = traj[:, nx:nx+na]\n",
    "initial_obs = traj[0, :nx]\n",
    "final_obs = traj[-1, :nx]"
   ]
  },
  {
   "cell_type": "code",
   "execution_count": 15,
   "metadata": {},
   "outputs": [
    {
     "name": "stdout",
     "output_type": "stream",
     "text": [
      "tensor(3.0123, grad_fn=<MeanBackward0>)\n",
      "tensor(3.0282, grad_fn=<StdBackward0>)\n"
     ]
    }
   ],
   "source": [
    "n_sample = 50\n",
    "traj_pred = dynamics.unroll(initial_obs, \n",
    "                            act_seq, \n",
    "                            n_sample)\n",
    "\n",
    "predicted_err = torch.norm(traj_pred[-1, :, :]-final_obs.expand(n_sample, -1), p=2, dim=1)\n",
    "print (predicted_err.mean())\n",
    "print (predicted_err.std())"
   ]
  },
  {
   "cell_type": "code",
   "execution_count": 16,
   "metadata": {},
   "outputs": [],
   "source": [
    "task_horizon = task.task_horizon\n",
    "\n",
    "traj_pred_mean = torch.mean(traj_pred, dim=1)\n",
    "traj_pred_std = torch.std(traj_pred, dim=1)\n",
    "traj_pred_mean = traj_pred_mean.detach().cpu().numpy()\n",
    "traj_pred_std = traj_pred_std.detach().cpu().numpy()\n",
    "traj = traj.detach().cpu().numpy()\n",
    "\n",
    "desired = task.cost.desired.repeat((task_horizon, 1))\n",
    "desired = desired.detach().cpu().numpy()"
   ]
  },
  {
   "cell_type": "code",
   "execution_count": 17,
   "metadata": {},
   "outputs": [],
   "source": [
    "font = {'family' : 'serif',\n",
    "        'size'   : 22}\n",
    "\n",
    "matplotlib.rc('font', **font)\n",
    "np.set_printoptions(precision=3, linewidth=200, suppress=True)"
   ]
  },
  {
   "cell_type": "code",
   "execution_count": 18,
   "metadata": {},
   "outputs": [],
   "source": [
    "# traj_pred_mean = np.load('traj_pred_mean.npy')\n",
    "# traj_pred_std = np.load('traj_pred_std.npy')\n",
    "# traj = np.load('traj.npy')"
   ]
  },
  {
   "cell_type": "code",
   "execution_count": 19,
   "metadata": {
    "scrolled": false
   },
   "outputs": [
    {
     "data": {
      "image/png": "[encoded data removed]",
      "text/plain": [
       "<Figure size 720x864 with 2 Axes>"
      ]
     },
     "metadata": {
      "needs_background": "light"
     },
     "output_type": "display_data"
    }
   ],
   "source": [
    "d = nq\n",
    "dt = dt_control\n",
    "fig, ax = plt.subplots(d, figsize=(10, d * 6))\n",
    "t = np.arange(0.0, task_horizon*dt, dt)\n",
    "dlb = traj_pred_mean - traj_pred_std\n",
    "ub = traj_pred_mean + traj_pred_std\n",
    "\n",
    "for i in range(d):\n",
    "    ax[i].plot(t, traj[:, i], lw=4, color='orange', label='actual')\n",
    "    ax[i].plot(t, traj_pred_mean[:, i], lw=4, color='b', label='predicted mean')\n",
    "    ax[i].plot(t, desired[:, i], lw=2, color='k', ls='-.', label='desired')\n",
    "    lb = traj_pred_mean - traj_pred_std\n",
    "    ub = traj_pred_mean + traj_pred_std\n",
    "    ax[i].fill_between(t, lb[:, i], ub[:, i], facecolor='blue',\n",
    "                alpha=0.2)\n",
    "    _ = ax[i].grid()\n",
    "    _ = ax[i].set_ylim([-3.2, 3.2])\n",
    "    ax[i].legend(loc='upper center', bbox_to_anchor=(0.5, 1.3),\n",
    "             ncol=3, fancybox=True, shadow=True)\n",
    "# fig.savefig('prediction_with_reg_150steps' + '.png', bbox_inches='tight')"
   ]
  },
  {
   "cell_type": "code",
   "execution_count": null,
   "metadata": {},
   "outputs": [],
   "source": []
  }
 ],
 "metadata": {
  "kernelspec": {
   "display_name": "Python 3",
   "language": "python",
   "name": "python3"
  },
  "language_info": {
   "codemirror_mode": {
    "name": "ipython",
    "version": 3
   },
   "file_extension": ".py",
   "mimetype": "text/x-python",
   "name": "python",
   "nbconvert_exporter": "python",
   "pygments_lexer": "ipython3",
   "version": "3.6.9"
  }
 },
 "nbformat": 4,
 "nbformat_minor": 2
}
