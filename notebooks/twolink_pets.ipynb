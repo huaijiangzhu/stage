{
 "cells": [
  {
   "cell_type": "code",
   "execution_count": 1,
   "metadata": {},
   "outputs": [],
   "source": [
    "%matplotlib inline\n",
    "%load_ext autoreload\n",
    "%autoreload 2"
   ]
  },
  {
   "cell_type": "code",
   "execution_count": 2,
   "metadata": {},
   "outputs": [],
   "source": [
    "import os\n",
    "import inspect\n",
    "currentdir = os.path.dirname(os.path.abspath(\n",
    "    inspect.getfile(inspect.currentframe())))\n",
    "parentdir = os.path.dirname(currentdir)\n",
    "os.sys.path.insert(1, parentdir+'/src')\n",
    "import torch\n",
    "import torch.nn.functional as F\n",
    "from torchvision import transforms\n",
    "import numpy as np\n",
    "import time\n",
    "from tqdm import trange\n",
    "import matplotlib.pyplot as plt\n",
    "import matplotlib"
   ]
  },
  {
   "cell_type": "code",
   "execution_count": 3,
   "metadata": {},
   "outputs": [],
   "source": [
    "import gym\n",
    "import pybullet as p\n",
    "import stage.envs\n",
    "from stage.tasks.twolink.reaching import TwoLinkReaching\n",
    "from stage.utils.nn import use_gpu\n",
    "use_gpu()"
   ]
  },
  {
   "cell_type": "code",
   "execution_count": 4,
   "metadata": {},
   "outputs": [],
   "source": [
    "savepath = parentdir + '/data/twolink/'"
   ]
  },
  {
   "cell_type": "code",
   "execution_count": 5,
   "metadata": {},
   "outputs": [],
   "source": [
    "# data_train = np.load(savepath+'data_pd_noreg.npy')\n",
    "# task = TwoLinkReaching(render=True)\n",
    "# task.visualize_training_data(data_train, 0)"
   ]
  },
  {
   "cell_type": "code",
   "execution_count": 6,
   "metadata": {},
   "outputs": [],
   "source": [
    "task = TwoLinkReaching(render=False)\n",
    "\n",
    "# Read task parameters, should we use a separate class to wrap this?\n",
    "\n",
    "nq, nv, nu, nx = task.nq, task.nv, task.nu, task.nx\n",
    "dt_control, dt_env = task.dt_control, task.dt_env\n",
    "q_lb, q_ub = task.q_lb, task.q_ub\n",
    "v_lb, v_ub = -100*torch.ones_like(q_lb), 100*torch.ones_like(q_ub)"
   ]
  },
  {
   "cell_type": "code",
   "execution_count": 7,
   "metadata": {},
   "outputs": [],
   "source": [
    "task.env.set_state(np.zeros(2), np.zeros(2))\n",
    "task.env.get_state()\n",
    "pos, orn = p.getLinkState(0, 1, computeForwardKinematics=1)[:2]"
   ]
  },
  {
   "cell_type": "code",
   "execution_count": 8,
   "metadata": {},
   "outputs": [
    {
     "name": "stdout",
     "output_type": "stream",
     "text": [
      "tensor([[0.0000, 0.0000, 1.6250]])\n"
     ]
    }
   ],
   "source": [
    "from stage.utils.robotics import ForwardKinematics\n",
    "from stage.tasks.twolink.params import JOINT_XYZ, JOINT_RPY, JOINT_AXIS, LINK_XYZ\n",
    "fwk = ForwardKinematics(7, JOINT_XYZ, JOINT_RPY, JOINT_AXIS, LINK_XYZ)\n",
    "q = torch.zeros(1,2)\n",
    "link_world = fwk(q, 1)\n",
    "link_pos = link_world[:, :3, 3]\n",
    "print (link_pos)"
   ]
  },
  {
   "cell_type": "code",
   "execution_count": 9,
   "metadata": {},
   "outputs": [],
   "source": [
    "# Setup action parameterization\n",
    "\n",
    "from stage.controllers.actor import Actor\n",
    "from stage.controllers.trivial import Identity\n",
    "from stage.controllers.pd import PD\n",
    "\n",
    "# na = 2\n",
    "# action_ub = torch.Tensor(task.env.action_space.high)\n",
    "# action_lb = torch.Tensor(task.env.action_space.low)\n",
    "# actor = Actor(na, Identity(nq, nv, nu), action_lb, action_ub)\n",
    "\n",
    "na = 4\n",
    "gain_ub = 50 * torch.ones((nq))\n",
    "gain_lb = 0. * torch.ones((nq))\n",
    "action_ub = torch.cat((gain_ub, q_ub))\n",
    "action_lb = torch.cat((gain_lb, q_lb))\n",
    "actor = Actor(PD(nx, nq, nv, nu), action_lb, action_ub)\n",
    "\n",
    "task.cost.actor = actor "
   ]
  },
  {
   "cell_type": "code",
   "execution_count": 10,
   "metadata": {},
   "outputs": [],
   "source": [
    "# # Setup model learning\n",
    "\n",
    "from stage.dynamics.probabilistic_ensemble import ProbabilisticEnsemble, DefaultDx\n",
    "\n",
    "ensemble_size = 5\n",
    "nn_epochs = 10\n",
    "batch_size = 64\n",
    "    \n",
    "dynamics = ProbabilisticEnsemble(nx, nq, nv, na, dt_control, \n",
    "                                 DefaultDx,\n",
    "                                 ensemble_size,\n",
    "                                 learning_rate = 0.001)\n",
    "\n",
    "dynamics.state_lb = torch.cat((q_lb, v_lb))\n",
    "dynamics.state_ub = torch.cat((q_ub, v_ub))"
   ]
  },
  {
   "cell_type": "code",
   "execution_count": 11,
   "metadata": {},
   "outputs": [],
   "source": [
    "# Setup controller\n",
    "\n",
    "from stage.controllers.pets import PETS\n",
    "\n",
    "plan_horizon = 100\n",
    "n_particles = 10\n",
    "pop_size = 400\n",
    "\n",
    "controller = PETS(dynamics, task.cost, actor,\n",
    "                  plan_horizon, n_particles, pop_size)"
   ]
  },
  {
   "cell_type": "code",
   "execution_count": 12,
   "metadata": {},
   "outputs": [],
   "source": [
    "# Setup learner\n",
    "\n",
    "from stage.learners.learn_and_control_model import LearnAndControlModel\n",
    "learner = LearnAndControlModel(task, dynamics, controller)"
   ]
  },
  {
   "cell_type": "code",
   "execution_count": 13,
   "metadata": {
    "scrolled": false
   },
   "outputs": [
    {
     "name": "stderr",
     "output_type": "stream",
     "text": [
      "Network training: 100%|██████████| 10/10 [00:00<00:00, 32.26epoch(s)/s, Training loss MSE=2.0993009]\n"
     ]
    },
    {
     "name": "stdout",
     "output_type": "stream",
     "text": [
      "Iteration:  0\n",
      "Initial state:  tensor([ 2.4050, -0.1807,  0.0000,  0.0000])\n",
      "avg. decision time:  0.01303060531616211\n",
      "obs. reward:  -569.88556\n",
      "act. reward:  -2.3088255\n"
     ]
    },
    {
     "name": "stderr",
     "output_type": "stream",
     "text": [
      "Network training: 100%|██████████| 10/10 [00:00<00:00, 11.35epoch(s)/s, Training loss MSE=0.5952589]\n"
     ]
    },
    {
     "name": "stdout",
     "output_type": "stream",
     "text": [
      "Iteration:  1\n",
      "Initial state:  tensor([ 2.3929, -0.1564,  0.0000,  0.0000])\n",
      "avg. decision time:  1.05859934091568\n",
      "obs. reward:  -566.79535\n",
      "act. reward:  -0.111033835\n"
     ]
    },
    {
     "name": "stderr",
     "output_type": "stream",
     "text": [
      "Network training: 100%|██████████| 10/10 [00:01<00:00,  8.09epoch(s)/s, Training loss MSE=0.37573963]\n"
     ]
    },
    {
     "name": "stdout",
     "output_type": "stream",
     "text": [
      "Iteration:  2\n",
      "Initial state:  tensor([2.3541, 0.0090, 0.0000, 0.0000])\n",
      "avg. decision time:  1.0510294127464295\n",
      "obs. reward:  -312.82394\n",
      "act. reward:  -1.2801881\n"
     ]
    },
    {
     "name": "stderr",
     "output_type": "stream",
     "text": [
      "Network training: 100%|██████████| 10/10 [00:01<00:00,  6.28epoch(s)/s, Training loss MSE=0.30135617]\n"
     ]
    },
    {
     "name": "stdout",
     "output_type": "stream",
     "text": [
      "Iteration:  3\n",
      "Initial state:  tensor([2.3542, 0.0575, 0.0000, 0.0000])\n",
      "avg. decision time:  1.0581796813011168\n",
      "obs. reward:  -323.13245\n",
      "act. reward:  -0.76926166\n"
     ]
    },
    {
     "name": "stderr",
     "output_type": "stream",
     "text": [
      "Network training: 100%|██████████| 10/10 [00:01<00:00,  5.10epoch(s)/s, Training loss MSE=0.26521522]\n"
     ]
    },
    {
     "name": "stdout",
     "output_type": "stream",
     "text": [
      "Iteration:  4\n",
      "Initial state:  tensor([ 2.4474, -0.1486,  0.0000,  0.0000])\n",
      "avg. decision time:  1.0566466760635376\n",
      "obs. reward:  -355.86823\n",
      "act. reward:  -1.3401299\n"
     ]
    },
    {
     "name": "stderr",
     "output_type": "stream",
     "text": [
      "Network training: 100%|██████████| 10/10 [00:02<00:00,  4.38epoch(s)/s, Training loss MSE=0.43018326]\n"
     ]
    },
    {
     "name": "stdout",
     "output_type": "stream",
     "text": [
      "Iteration:  5\n",
      "Initial state:  tensor([ 2.4881, -0.1028,  0.0000,  0.0000])\n",
      "avg. decision time:  1.0606188702583312\n",
      "obs. reward:  -866.6955\n",
      "act. reward:  -0.3189856\n"
     ]
    },
    {
     "name": "stderr",
     "output_type": "stream",
     "text": [
      "Network training: 100%|██████████| 10/10 [00:02<00:00,  3.74epoch(s)/s, Training loss MSE=0.34994444]\n"
     ]
    },
    {
     "name": "stdout",
     "output_type": "stream",
     "text": [
      "Iteration:  6\n",
      "Initial state:  tensor([ 2.3290, -0.0242,  0.0000,  0.0000])\n",
      "avg. decision time:  1.0584057021141051\n",
      "obs. reward:  -252.24725\n",
      "act. reward:  -0.48339278\n"
     ]
    },
    {
     "name": "stderr",
     "output_type": "stream",
     "text": [
      "Network training: 100%|██████████| 10/10 [00:03<00:00,  3.32epoch(s)/s, Training loss MSE=0.34609374]\n"
     ]
    },
    {
     "name": "stdout",
     "output_type": "stream",
     "text": [
      "Iteration:  7\n",
      "Initial state:  tensor([ 2.2801, -0.0703,  0.0000,  0.0000])\n",
      "avg. decision time:  1.0611241698265075\n",
      "obs. reward:  -742.9246\n",
      "act. reward:  -0.8135043\n"
     ]
    },
    {
     "name": "stderr",
     "output_type": "stream",
     "text": [
      "Network training: 100%|██████████| 10/10 [00:03<00:00,  2.88epoch(s)/s, Training loss MSE=0.31530464]\n"
     ]
    },
    {
     "name": "stdout",
     "output_type": "stream",
     "text": [
      "Iteration:  8\n",
      "Initial state:  tensor([ 2.5442, -0.0239,  0.0000,  0.0000])\n",
      "avg. decision time:  1.0581801629066467\n",
      "obs. reward:  -796.628\n",
      "act. reward:  -0.3608662\n"
     ]
    },
    {
     "name": "stderr",
     "output_type": "stream",
     "text": [
      "Network training: 100%|██████████| 10/10 [00:03<00:00,  2.60epoch(s)/s, Training loss MSE=0.32600906]\n"
     ]
    },
    {
     "name": "stdout",
     "output_type": "stream",
     "text": [
      "Iteration:  9\n",
      "Initial state:  tensor([2.3975, 0.0756, 0.0000, 0.0000])\n",
      "avg. decision time:  1.063988802433014\n",
      "obs. reward:  -573.4233\n",
      "act. reward:  -0.44994715\n"
     ]
    },
    {
     "name": "stderr",
     "output_type": "stream",
     "text": [
      "Network training: 100%|██████████| 10/10 [00:04<00:00,  2.38epoch(s)/s, Training loss MSE=0.24070168]\n"
     ]
    },
    {
     "name": "stdout",
     "output_type": "stream",
     "text": [
      "Iteration:  10\n",
      "Initial state:  tensor([ 2.4783, -0.0771,  0.0000,  0.0000])\n",
      "avg. decision time:  1.0619931674003602\n",
      "obs. reward:  -418.13596\n",
      "act. reward:  -0.6995218\n"
     ]
    },
    {
     "name": "stderr",
     "output_type": "stream",
     "text": [
      "Network training: 100%|██████████| 10/10 [00:04<00:00,  2.20epoch(s)/s, Training loss MSE=0.23815674]\n"
     ]
    },
    {
     "name": "stdout",
     "output_type": "stream",
     "text": [
      "Iteration:  11\n",
      "Initial state:  tensor([2.3194, 0.1330, 0.0000, 0.0000])\n",
      "avg. decision time:  1.0616088342666625\n",
      "obs. reward:  -627.1064\n",
      "act. reward:  -1.8083909\n"
     ]
    },
    {
     "name": "stderr",
     "output_type": "stream",
     "text": [
      "Network training: 100%|██████████| 10/10 [00:04<00:00,  2.04epoch(s)/s, Training loss MSE=0.23736316]\n"
     ]
    },
    {
     "name": "stdout",
     "output_type": "stream",
     "text": [
      "Iteration:  12\n",
      "Initial state:  tensor([2.4657, 0.1017, 0.0000, 0.0000])\n",
      "avg. decision time:  1.0654001545906067\n",
      "obs. reward:  -645.83923\n",
      "act. reward:  -1.8200008\n"
     ]
    },
    {
     "name": "stderr",
     "output_type": "stream",
     "text": [
      "Network training: 100%|██████████| 10/10 [00:05<00:00,  1.92epoch(s)/s, Training loss MSE=0.20707464]\n"
     ]
    },
    {
     "name": "stdout",
     "output_type": "stream",
     "text": [
      "Iteration:  13\n",
      "Initial state:  tensor([ 2.3410, -0.1302,  0.0000,  0.0000])\n",
      "avg. decision time:  1.0591473364830017\n",
      "obs. reward:  -199.3265\n",
      "act. reward:  -0.4354647\n"
     ]
    },
    {
     "name": "stderr",
     "output_type": "stream",
     "text": [
      "Network training: 100%|██████████| 10/10 [00:05<00:00,  1.84epoch(s)/s, Training loss MSE=0.18857946]\n"
     ]
    },
    {
     "name": "stdout",
     "output_type": "stream",
     "text": [
      "Iteration:  14\n",
      "Initial state:  tensor([ 2.3021, -0.0077,  0.0000,  0.0000])\n",
      "avg. decision time:  1.0590906739234924\n",
      "obs. reward:  -170.9043\n",
      "act. reward:  -0.7287179\n"
     ]
    },
    {
     "name": "stderr",
     "output_type": "stream",
     "text": [
      "Network training: 100%|██████████| 10/10 [00:05<00:00,  1.85epoch(s)/s, Training loss MSE=0.17836507]\n"
     ]
    },
    {
     "name": "stdout",
     "output_type": "stream",
     "text": [
      "Iteration:  15\n",
      "Initial state:  tensor([ 2.2029, -0.0545,  0.0000,  0.0000])\n",
      "avg. decision time:  1.059050796031952\n",
      "obs. reward:  -168.13918\n",
      "act. reward:  -0.6130048\n"
     ]
    },
    {
     "name": "stderr",
     "output_type": "stream",
     "text": [
      "Network training: 100%|██████████| 10/10 [00:06<00:00,  1.55epoch(s)/s, Training loss MSE=0.16777985]\n"
     ]
    },
    {
     "name": "stdout",
     "output_type": "stream",
     "text": [
      "Iteration:  16\n",
      "Initial state:  tensor([2.3728, 0.0531, 0.0000, 0.0000])\n",
      "avg. decision time:  1.0587249064445496\n",
      "obs. reward:  -153.23819\n",
      "act. reward:  -1.2799208\n"
     ]
    },
    {
     "name": "stderr",
     "output_type": "stream",
     "text": [
      "Network training: 100%|██████████| 10/10 [00:06<00:00,  1.46epoch(s)/s, Training loss MSE=0.1586837]\n"
     ]
    },
    {
     "name": "stdout",
     "output_type": "stream",
     "text": [
      "Iteration:  17\n",
      "Initial state:  tensor([2.4619, 0.0556, 0.0000, 0.0000])\n",
      "avg. decision time:  1.0655535888671874\n",
      "obs. reward:  -377.7911\n",
      "act. reward:  -1.8229475\n"
     ]
    },
    {
     "name": "stderr",
     "output_type": "stream",
     "text": [
      "Network training: 100%|██████████| 10/10 [00:06<00:00,  1.47epoch(s)/s, Training loss MSE=0.15044053]\n"
     ]
    },
    {
     "name": "stdout",
     "output_type": "stream",
     "text": [
      "Iteration:  18\n",
      "Initial state:  tensor([2.2921, 0.0120, 0.0000, 0.0000])\n",
      "avg. decision time:  1.0627774095535278\n",
      "obs. reward:  -142.46646\n",
      "act. reward:  -1.3391259\n"
     ]
    },
    {
     "name": "stderr",
     "output_type": "stream",
     "text": [
      "Network training: 100%|██████████| 10/10 [00:07<00:00,  1.33epoch(s)/s, Training loss MSE=0.16801032]\n"
     ]
    },
    {
     "name": "stdout",
     "output_type": "stream",
     "text": [
      "Iteration:  19\n",
      "Initial state:  tensor([ 2.2571, -0.0859,  0.0000,  0.0000])\n",
      "avg. decision time:  1.0620311069488526\n",
      "obs. reward:  -128.99174\n",
      "act. reward:  -1.3122323\n"
     ]
    },
    {
     "name": "stderr",
     "output_type": "stream",
     "text": [
      "Network training: 100%|██████████| 10/10 [00:07<00:00,  1.28epoch(s)/s, Training loss MSE=0.13226116]\n"
     ]
    },
    {
     "name": "stdout",
     "output_type": "stream",
     "text": [
      "Iteration:  20\n",
      "Initial state:  tensor([2.5285, 0.1175, 0.0000, 0.0000])\n",
      "avg. decision time:  1.0609950256347656\n",
      "obs. reward:  -412.44278\n",
      "act. reward:  -0.6007303\n"
     ]
    },
    {
     "name": "stderr",
     "output_type": "stream",
     "text": [
      "Network training: 100%|██████████| 10/10 [00:08<00:00,  1.22epoch(s)/s, Training loss MSE=0.16191214]\n"
     ]
    },
    {
     "name": "stdout",
     "output_type": "stream",
     "text": [
      "Iteration:  21\n",
      "Initial state:  tensor([ 2.4068, -0.0160,  0.0000,  0.0000])\n",
      "avg. decision time:  1.0579274463653565\n",
      "obs. reward:  -158.08575\n",
      "act. reward:  -1.4608966\n"
     ]
    },
    {
     "name": "stderr",
     "output_type": "stream",
     "text": [
      "Network training: 100%|██████████| 10/10 [00:08<00:00,  1.16epoch(s)/s, Training loss MSE=0.120633796]\n"
     ]
    },
    {
     "name": "stdout",
     "output_type": "stream",
     "text": [
      "Iteration:  22\n",
      "Initial state:  tensor([ 2.4065, -0.0455,  0.0000,  0.0000])\n",
      "avg. decision time:  1.0604630184173585\n",
      "obs. reward:  -390.83142\n",
      "act. reward:  -0.835566\n"
     ]
    },
    {
     "name": "stderr",
     "output_type": "stream",
     "text": [
      "Network training: 100%|██████████| 10/10 [00:08<00:00,  1.11epoch(s)/s, Training loss MSE=0.12629934]\n"
     ]
    },
    {
     "name": "stdout",
     "output_type": "stream",
     "text": [
      "Iteration:  23\n",
      "Initial state:  tensor([2.3159, 0.0211, 0.0000, 0.0000])\n",
      "avg. decision time:  1.0596437978744506\n",
      "obs. reward:  -362.0114\n",
      "act. reward:  -0.8644611\n"
     ]
    },
    {
     "name": "stderr",
     "output_type": "stream",
     "text": [
      "Network training: 100%|██████████| 10/10 [00:09<00:00,  1.09epoch(s)/s, Training loss MSE=0.25985953]\n"
     ]
    },
    {
     "name": "stdout",
     "output_type": "stream",
     "text": [
      "Iteration:  24\n",
      "Initial state:  tensor([ 2.3395, -0.0471,  0.0000,  0.0000])\n",
      "avg. decision time:  1.0597773957252503\n",
      "obs. reward:  -181.90736\n",
      "act. reward:  -1.7703615\n"
     ]
    },
    {
     "name": "stderr",
     "output_type": "stream",
     "text": [
      "Network training: 100%|██████████| 10/10 [00:09<00:00,  1.02epoch(s)/s, Training loss MSE=0.11250999]\n"
     ]
    },
    {
     "name": "stdout",
     "output_type": "stream",
     "text": [
      "Iteration:  25\n",
      "Initial state:  tensor([2.2848, 0.2900, 0.0000, 0.0000])\n",
      "avg. decision time:  1.0625522661209106\n",
      "obs. reward:  -217.55939\n",
      "act. reward:  -0.4961949\n"
     ]
    },
    {
     "name": "stderr",
     "output_type": "stream",
     "text": [
      "Network training: 100%|██████████| 10/10 [00:09<00:00,  1.00epoch(s)/s, Training loss MSE=0.10636089]\n"
     ]
    },
    {
     "name": "stdout",
     "output_type": "stream",
     "text": [
      "Iteration:  26\n",
      "Initial state:  tensor([2.3987, 0.0404, 0.0000, 0.0000])\n",
      "avg. decision time:  1.0588381052017213\n",
      "obs. reward:  -190.47166\n",
      "act. reward:  -0.6313884\n"
     ]
    },
    {
     "name": "stderr",
     "output_type": "stream",
     "text": [
      "Network training: 100%|██████████| 10/10 [00:09<00:00,  1.09epoch(s)/s, Training loss MSE=0.10555202]\n"
     ]
    },
    {
     "name": "stdout",
     "output_type": "stream",
     "text": [
      "Iteration:  27\n",
      "Initial state:  tensor([2.3180, 0.1289, 0.0000, 0.0000])\n",
      "avg. decision time:  1.0597798705101014\n",
      "obs. reward:  -164.1628\n",
      "act. reward:  -0.9093745\n"
     ]
    },
    {
     "name": "stderr",
     "output_type": "stream",
     "text": [
      "Network training: 100%|██████████| 10/10 [00:10<00:00,  1.09s/epoch(s), Training loss MSE=0.11967724]\n"
     ]
    },
    {
     "name": "stdout",
     "output_type": "stream",
     "text": [
      "Iteration:  28\n",
      "Initial state:  tensor([2.2949, 0.1731, 0.0000, 0.0000])\n",
      "avg. decision time:  1.0615748858451843\n",
      "obs. reward:  -151.67079\n",
      "act. reward:  -2.355885\n"
     ]
    },
    {
     "name": "stderr",
     "output_type": "stream",
     "text": [
      "Network training: 100%|██████████| 10/10 [00:10<00:00,  1.03s/epoch(s), Training loss MSE=0.118684426]\n"
     ]
    },
    {
     "name": "stdout",
     "output_type": "stream",
     "text": [
      "Iteration:  29\n",
      "Initial state:  tensor([2.1610, 0.0196, 0.0000, 0.0000])\n",
      "avg. decision time:  1.0639710593223572\n",
      "obs. reward:  -738.48627\n",
      "act. reward:  -2.9476285\n"
     ]
    },
    {
     "name": "stderr",
     "output_type": "stream",
     "text": [
      "Network training: 100%|██████████| 10/10 [00:11<00:00,  1.16s/epoch(s), Training loss MSE=0.1472908] \n"
     ]
    },
    {
     "name": "stdout",
     "output_type": "stream",
     "text": [
      "Iteration:  30\n",
      "Initial state:  tensor([ 2.4362, -0.1190,  0.0000,  0.0000])\n",
      "avg. decision time:  1.060631115436554\n",
      "obs. reward:  -341.47882\n",
      "act. reward:  -1.0436728\n"
     ]
    },
    {
     "name": "stderr",
     "output_type": "stream",
     "text": [
      "Network training: 100%|██████████| 10/10 [00:11<00:00,  1.17s/epoch(s), Training loss MSE=0.13073988]\n"
     ]
    },
    {
     "name": "stdout",
     "output_type": "stream",
     "text": [
      "Iteration:  31\n",
      "Initial state:  tensor([ 2.4028, -0.0980,  0.0000,  0.0000])\n",
      "avg. decision time:  1.0636467456817627\n",
      "obs. reward:  -171.1099\n",
      "act. reward:  -0.9828957\n"
     ]
    },
    {
     "name": "stderr",
     "output_type": "stream",
     "text": [
      "Network training: 100%|██████████| 10/10 [00:11<00:00,  1.18s/epoch(s), Training loss MSE=0.101595156]\n"
     ]
    },
    {
     "name": "stdout",
     "output_type": "stream",
     "text": [
      "Iteration:  32\n",
      "Initial state:  tensor([2.2814, 0.2691, 0.0000, 0.0000])\n",
      "avg. decision time:  1.0577584433555602\n",
      "obs. reward:  -156.73325\n",
      "act. reward:  -1.2791296\n"
     ]
    },
    {
     "name": "stderr",
     "output_type": "stream",
     "text": [
      "Network training: 100%|██████████| 10/10 [00:12<00:00,  1.27s/epoch(s), Training loss MSE=0.11217432]\n"
     ]
    },
    {
     "name": "stdout",
     "output_type": "stream",
     "text": [
      "Iteration:  33\n",
      "Initial state:  tensor([2.2961, 0.0928, 0.0000, 0.0000])\n",
      "avg. decision time:  1.0581679296493531\n",
      "obs. reward:  -150.63873\n",
      "act. reward:  -1.1654125\n"
     ]
    },
    {
     "name": "stderr",
     "output_type": "stream",
     "text": [
      "Network training: 100%|██████████| 10/10 [00:13<00:00,  1.31s/epoch(s), Training loss MSE=0.10082671]\n"
     ]
    },
    {
     "name": "stdout",
     "output_type": "stream",
     "text": [
      "Iteration:  34\n",
      "Initial state:  tensor([2.1710, 0.0143, 0.0000, 0.0000])\n",
      "avg. decision time:  1.0580161905288696\n",
      "obs. reward:  -159.9448\n",
      "act. reward:  -0.9303857\n"
     ]
    },
    {
     "name": "stderr",
     "output_type": "stream",
     "text": [
      "Network training: 100%|██████████| 10/10 [00:13<00:00,  1.35s/epoch(s), Training loss MSE=0.0907356] \n"
     ]
    },
    {
     "name": "stdout",
     "output_type": "stream",
     "text": [
      "Iteration:  35\n",
      "Initial state:  tensor([2.3520, 0.1038, 0.0000, 0.0000])\n",
      "avg. decision time:  1.0593742108345032\n",
      "obs. reward:  -169.33055\n",
      "act. reward:  -1.0596367\n"
     ]
    },
    {
     "name": "stderr",
     "output_type": "stream",
     "text": [
      "Network training: 100%|██████████| 10/10 [00:13<00:00,  1.39s/epoch(s), Training loss MSE=0.09435275]\n"
     ]
    },
    {
     "name": "stdout",
     "output_type": "stream",
     "text": [
      "Iteration:  36\n",
      "Initial state:  tensor([ 2.3132, -0.0242,  0.0000,  0.0000])\n",
      "avg. decision time:  1.059630982875824\n",
      "obs. reward:  -415.6565\n",
      "act. reward:  -1.1110063\n"
     ]
    },
    {
     "name": "stderr",
     "output_type": "stream",
     "text": [
      "Network training: 100%|██████████| 10/10 [00:14<00:00,  1.42s/epoch(s), Training loss MSE=0.09833753]\n"
     ]
    },
    {
     "name": "stdout",
     "output_type": "stream",
     "text": [
      "Iteration:  37\n",
      "Initial state:  tensor([2.3848, 0.0678, 0.0000, 0.0000])\n",
      "avg. decision time:  1.0589438796043396\n",
      "obs. reward:  -157.21106\n",
      "act. reward:  -1.3810828\n"
     ]
    },
    {
     "name": "stderr",
     "output_type": "stream",
     "text": [
      "Network training: 100%|██████████| 10/10 [00:12<00:00,  1.29s/epoch(s), Training loss MSE=0.108456805]\n"
     ]
    },
    {
     "name": "stdout",
     "output_type": "stream",
     "text": [
      "Iteration:  38\n",
      "Initial state:  tensor([2.2417, 0.0376, 0.0000, 0.0000])\n",
      "avg. decision time:  1.0610349702835082\n",
      "obs. reward:  -139.48465\n",
      "act. reward:  -1.3513216\n"
     ]
    },
    {
     "name": "stderr",
     "output_type": "stream",
     "text": [
      "Network training: 100%|██████████| 10/10 [00:14<00:00,  1.48s/epoch(s), Training loss MSE=0.09381742]\n"
     ]
    },
    {
     "name": "stdout",
     "output_type": "stream",
     "text": [
      "Iteration:  39\n",
      "Initial state:  tensor([ 2.3811, -0.1105,  0.0000,  0.0000])\n",
      "avg. decision time:  1.0589198517799376\n",
      "obs. reward:  -183.97824\n",
      "act. reward:  -0.6711824\n"
     ]
    },
    {
     "name": "stderr",
     "output_type": "stream",
     "text": [
      "Network training: 100%|██████████| 10/10 [00:15<00:00,  1.53s/epoch(s), Training loss MSE=0.09211654]\n"
     ]
    },
    {
     "name": "stdout",
     "output_type": "stream",
     "text": [
      "Iteration:  40\n",
      "Initial state:  tensor([2.5147, 0.1816, 0.0000, 0.0000])\n",
      "avg. decision time:  1.0587244057655334\n",
      "obs. reward:  -357.31296\n",
      "act. reward:  -1.3209312\n"
     ]
    },
    {
     "name": "stderr",
     "output_type": "stream",
     "text": [
      "Network training: 100%|██████████| 10/10 [00:15<00:00,  1.58s/epoch(s), Training loss MSE=0.095173046]\n"
     ]
    },
    {
     "name": "stdout",
     "output_type": "stream",
     "text": [
      "Iteration:  41\n",
      "Initial state:  tensor([ 2.2383, -0.0091,  0.0000,  0.0000])\n",
      "avg. decision time:  1.066736319065094\n",
      "obs. reward:  -147.0964\n",
      "act. reward:  -1.225954\n"
     ]
    },
    {
     "name": "stderr",
     "output_type": "stream",
     "text": [
      "Network training: 100%|██████████| 10/10 [00:15<00:00,  1.59s/epoch(s), Training loss MSE=0.085389584]\n"
     ]
    },
    {
     "name": "stdout",
     "output_type": "stream",
     "text": [
      "Iteration:  42\n",
      "Initial state:  tensor([2.5130, 0.0274, 0.0000, 0.0000])\n",
      "avg. decision time:  1.0799378228187562\n",
      "obs. reward:  -201.44324\n",
      "act. reward:  -1.3019015\n"
     ]
    },
    {
     "name": "stderr",
     "output_type": "stream",
     "text": [
      "Network training: 100%|██████████| 10/10 [00:16<00:00,  1.64s/epoch(s), Training loss MSE=0.08667171]\n"
     ]
    },
    {
     "name": "stdout",
     "output_type": "stream",
     "text": [
      "Iteration:  43\n",
      "Initial state:  tensor([2.4952, 0.0317, 0.0000, 0.0000])\n",
      "avg. decision time:  1.059858500957489\n",
      "obs. reward:  -385.38956\n",
      "act. reward:  -0.63821775\n"
     ]
    },
    {
     "name": "stderr",
     "output_type": "stream",
     "text": [
      "Network training: 100%|██████████| 10/10 [00:16<00:00,  1.69s/epoch(s), Training loss MSE=0.08516527]\n"
     ]
    },
    {
     "name": "stdout",
     "output_type": "stream",
     "text": [
      "Iteration:  44\n",
      "Initial state:  tensor([2.3131, 0.0078, 0.0000, 0.0000])\n",
      "avg. decision time:  1.0614240336418153\n",
      "obs. reward:  -144.17091\n",
      "act. reward:  -1.4878505\n"
     ]
    },
    {
     "name": "stderr",
     "output_type": "stream",
     "text": [
      "Network training: 100%|██████████| 10/10 [00:17<00:00,  1.72s/epoch(s), Training loss MSE=0.08241067]\n"
     ]
    },
    {
     "name": "stdout",
     "output_type": "stream",
     "text": [
      "Iteration:  45\n",
      "Initial state:  tensor([ 2.4662, -0.0547,  0.0000,  0.0000])\n",
      "avg. decision time:  1.061978976726532\n",
      "obs. reward:  -155.36868\n",
      "act. reward:  -1.4085647\n"
     ]
    },
    {
     "name": "stderr",
     "output_type": "stream",
     "text": [
      "Network training: 100%|██████████| 10/10 [00:17<00:00,  1.75s/epoch(s), Training loss MSE=0.08249823]\n"
     ]
    },
    {
     "name": "stdout",
     "output_type": "stream",
     "text": [
      "Iteration:  46\n",
      "Initial state:  tensor([ 2.4133, -0.1969,  0.0000,  0.0000])\n",
      "avg. decision time:  1.061734573841095\n",
      "obs. reward:  -146.47314\n",
      "act. reward:  -1.2343905\n"
     ]
    },
    {
     "name": "stderr",
     "output_type": "stream",
     "text": [
      "Network training: 100%|██████████| 10/10 [00:17<00:00,  1.77s/epoch(s), Training loss MSE=0.07886603]\n"
     ]
    },
    {
     "name": "stdout",
     "output_type": "stream",
     "text": [
      "Iteration:  47\n",
      "Initial state:  tensor([2.2785, 0.0722, 0.0000, 0.0000])\n",
      "avg. decision time:  1.061692407131195\n",
      "obs. reward:  -149.49547\n",
      "act. reward:  -1.207087\n"
     ]
    },
    {
     "name": "stderr",
     "output_type": "stream",
     "text": [
      "Network training: 100%|██████████| 10/10 [00:18<00:00,  1.83s/epoch(s), Training loss MSE=0.08155724]\n"
     ]
    },
    {
     "name": "stdout",
     "output_type": "stream",
     "text": [
      "Iteration:  48\n",
      "Initial state:  tensor([2.1927, 0.1064, 0.0000, 0.0000])\n",
      "avg. decision time:  1.0620367550849914\n",
      "obs. reward:  -138.4759\n",
      "act. reward:  -1.567138\n"
     ]
    },
    {
     "name": "stderr",
     "output_type": "stream",
     "text": [
      "Network training: 100%|██████████| 10/10 [00:18<00:00,  1.87s/epoch(s), Training loss MSE=0.08158338]"
     ]
    },
    {
     "name": "stdout",
     "output_type": "stream",
     "text": [
      "Iteration:  49\n",
      "Initial state:  tensor([ 2.2197, -0.0383,  0.0000,  0.0000])\n",
      "avg. decision time:  1.062723400592804\n",
      "obs. reward:  -150.31306\n",
      "act. reward:  -1.4685755\n"
     ]
    },
    {
     "name": "stderr",
     "output_type": "stream",
     "text": [
      "\n"
     ]
    }
   ],
   "source": [
    "lip_reg = True\n",
    "\n",
    "if lip_reg:\n",
    "    controller.regularize(1)\n",
    "    file_name = savepath + 'data_pd_reg'\n",
    "else: \n",
    "    controller.regularize(0)\n",
    "    file_name = savepath + 'data_pd_noreg'\n",
    "    \n",
    "_ = learner.learn(50, verbose=True)\n",
    "learner.save_training_data(file_name)"
   ]
  },
  {
   "cell_type": "code",
   "execution_count": 28,
   "metadata": {
    "scrolled": false
   },
   "outputs": [
    {
     "name": "stdout",
     "output_type": "stream",
     "text": [
      "avg. decision time:  1.0578596544265748\n",
      "obs. reward:  -168.49129\n",
      "act. reward:  -0.9965003\n"
     ]
    }
   ],
   "source": [
    "traj, log = task.perform(task.goal, controller)\n",
    "act_seq = traj[:, nx:nx+na]\n",
    "initial_obs = traj[0, :nx]\n",
    "final_obs = traj[-1, :nx]"
   ]
  },
  {
   "cell_type": "code",
   "execution_count": 29,
   "metadata": {},
   "outputs": [
    {
     "name": "stdout",
     "output_type": "stream",
     "text": [
      "tensor(0.2103, grad_fn=<MeanBackward0>)\n",
      "tensor(0.0919, grad_fn=<StdBackward0>)\n"
     ]
    }
   ],
   "source": [
    "n_sample = 50\n",
    "traj_pred = dynamics.unroll(initial_obs, \n",
    "                            act_seq, \n",
    "                            n_sample)\n",
    "\n",
    "predicted_err = torch.norm(traj_pred[-1, :, :]-final_obs.expand(n_sample, -1), p=2, dim=1)\n",
    "print (predicted_err.mean())\n",
    "print (predicted_err.std())"
   ]
  },
  {
   "cell_type": "code",
   "execution_count": 30,
   "metadata": {},
   "outputs": [],
   "source": [
    "task_horizon = task.task_horizon\n",
    "\n",
    "traj_pred_mean = torch.mean(traj_pred, dim=1)\n",
    "traj_pred_std = torch.std(traj_pred, dim=1)\n",
    "traj_pred_mean = traj_pred_mean.detach().cpu().numpy()\n",
    "traj_pred_std = traj_pred_std.detach().cpu().numpy()\n",
    "traj = traj.detach().cpu().numpy()\n",
    "\n",
    "desired = task.cost.desired.repeat((task_horizon, 1))\n",
    "desired = desired.detach().cpu().numpy()"
   ]
  },
  {
   "cell_type": "code",
   "execution_count": 31,
   "metadata": {},
   "outputs": [],
   "source": [
    "font = {'family' : 'serif',\n",
    "        'size'   : 22}\n",
    "\n",
    "matplotlib.rc('font', **font)\n",
    "np.set_printoptions(precision=3, linewidth=200, suppress=True)"
   ]
  },
  {
   "cell_type": "code",
   "execution_count": 32,
   "metadata": {},
   "outputs": [],
   "source": [
    "# traj_pred_mean = np.load('traj_pred_mean.npy')\n",
    "# traj_pred_std = np.load('traj_pred_std.npy')\n",
    "# traj = np.load('traj.npy')"
   ]
  },
  {
   "cell_type": "code",
   "execution_count": 33,
   "metadata": {
    "scrolled": false
   },
   "outputs": [
    {
     "data": {
      "image/png": "[encoded data removed]",
      "text/plain": [
       "<Figure size 720x864 with 2 Axes>"
      ]
     },
     "metadata": {
      "needs_background": "light"
     },
     "output_type": "display_data"
    }
   ],
   "source": [
    "d = nq\n",
    "dt = dt_control\n",
    "fig, ax = plt.subplots(d, figsize=(10, d * 6))\n",
    "t = np.arange(0.0, task_horizon*dt, dt)\n",
    "dlb = traj_pred_mean - traj_pred_std\n",
    "ub = traj_pred_mean + traj_pred_std\n",
    "\n",
    "for i in range(d):\n",
    "    ax[i].plot(t, traj[:, i], lw=4, color='orange', label='actual')\n",
    "    ax[i].plot(t, traj_pred_mean[:, i], lw=4, color='b', label='predicted mean')\n",
    "    ax[i].plot(t, desired[:, i], lw=2, color='k', ls='-.', label='desired')\n",
    "    lb = traj_pred_mean - traj_pred_std\n",
    "    ub = traj_pred_mean + traj_pred_std\n",
    "    ax[i].fill_between(t, lb[:, i], ub[:, i], facecolor='blue',\n",
    "                alpha=0.2)\n",
    "    _ = ax[i].grid()\n",
    "    _ = ax[i].set_ylim([-3.2, 3.2])\n",
    "    ax[i].legend(loc='upper center', bbox_to_anchor=(0.5, 1.3),\n",
    "             ncol=3, fancybox=True, shadow=True)\n",
    "# fig.savefig('prediction_with_reg_150steps' + '.png', bbox_inches='tight')"
   ]
  },
  {
   "cell_type": "code",
   "execution_count": null,
   "metadata": {},
   "outputs": [],
   "source": []
  }
 ],
 "metadata": {
  "kernelspec": {
   "display_name": "Python 3",
   "language": "python",
   "name": "python3"
  },
  "language_info": {
   "codemirror_mode": {
    "name": "ipython",
    "version": 3
   },
   "file_extension": ".py",
   "mimetype": "text/x-python",
   "name": "python",
   "nbconvert_exporter": "python",
   "pygments_lexer": "ipython3",
   "version": "3.6.9"
  }
 },
 "nbformat": 4,
 "nbformat_minor": 2
}
