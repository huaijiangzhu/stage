{
 "cells": [
  {
   "cell_type": "code",
   "execution_count": 1,
   "metadata": {},
   "outputs": [],
   "source": [
    "%matplotlib inline\n",
    "%load_ext autoreload\n",
    "%autoreload 2"
   ]
  },
  {
   "cell_type": "code",
   "execution_count": 2,
   "metadata": {},
   "outputs": [],
   "source": [
    "import os\n",
    "import inspect\n",
    "currentdir = os.path.dirname(os.path.abspath(\n",
    "    inspect.getfile(inspect.currentframe())))\n",
    "parentdir = os.path.dirname(currentdir)\n",
    "os.sys.path.insert(1, parentdir+'/src')\n",
    "import torch\n",
    "import torch.nn.functional as F\n",
    "from torchvision import transforms\n",
    "import numpy as np\n",
    "import time\n",
    "from tqdm import trange\n",
    "import matplotlib.pyplot as plt\n",
    "import matplotlib"
   ]
  },
  {
   "cell_type": "code",
   "execution_count": 3,
   "metadata": {},
   "outputs": [],
   "source": [
    "import gym\n",
    "import pybullet as p\n",
    "import stage.envs\n",
    "from stage.tasks.twolink.reaching import TwoLinkReaching\n",
    "from stage.utils.nn import use_gpu\n",
    "use_gpu()"
   ]
  },
  {
   "cell_type": "code",
   "execution_count": 4,
   "metadata": {},
   "outputs": [],
   "source": [
    "savepath = parentdir + '/data/twolink/'"
   ]
  },
  {
   "cell_type": "code",
   "execution_count": 5,
   "metadata": {},
   "outputs": [],
   "source": [
    "task = TwoLinkReaching(render=False)\n",
    "\n",
    "# Read task parameters, should we use a separate class to wrap this?\n",
    "\n",
    "nq, nv, nu, nx = task.nq, task.nv, task.nu, task.nx\n",
    "dt_control, dt_env = task.dt_control, task.dt_env\n",
    "q_lb, q_ub = task.q_lb, task.q_ub\n",
    "v_lb, v_ub = -100*torch.ones_like(q_lb), 100*torch.ones_like(q_ub)"
   ]
  },
  {
   "cell_type": "code",
   "execution_count": 6,
   "metadata": {},
   "outputs": [],
   "source": [
    "# Setup action parameterization\n",
    "\n",
    "from stage.controllers.actor import Actor\n",
    "from stage.controllers.trivial import Identity\n",
    "from stage.controllers.pd import PD\n",
    "\n",
    "\n",
    "# na = 2\n",
    "# action_ub = torch.Tensor(task.env.action_space.high)\n",
    "# action_lb = torch.Tensor(task.env.action_space.low)\n",
    "# actor = Actor(na, Identity(nq, nv, nu), action_lb, action_ub)\n",
    "\n",
    "na = 4\n",
    "gain_ub = 50 * torch.ones((nq))\n",
    "gain_lb = 0. * torch.ones((nq))\n",
    "action_ub = torch.cat((gain_ub, q_ub))\n",
    "action_lb = torch.cat((gain_lb, q_lb))\n",
    "actor = Actor(na, PD(nq, nv, nu), action_lb, action_ub)\n",
    "\n",
    "task.cost.actor = actor "
   ]
  },
  {
   "cell_type": "code",
   "execution_count": 7,
   "metadata": {},
   "outputs": [],
   "source": [
    "# # Setup model learning\n",
    "\n",
    "from stage.dynamics.probabilistic_ensemble import ProbabilisticEnsemble, DefaultDx\n",
    "\n",
    "ensemble_size = 5\n",
    "nn_epochs = 10\n",
    "batch_size = 64\n",
    "    \n",
    "dynamics = ProbabilisticEnsemble(nq, nv, na, dt_control, \n",
    "                                 DefaultDx,\n",
    "                                 ensemble_size, \n",
    "                                 learning_rate = 0.001)\n",
    "\n",
    "dynamics.state_lb = torch.cat((q_lb, v_lb))\n",
    "dynamics.state_ub = torch.cat((q_ub, v_ub))"
   ]
  },
  {
   "cell_type": "code",
   "execution_count": 8,
   "metadata": {},
   "outputs": [],
   "source": [
    "# Setup controller\n",
    "\n",
    "from stage.controllers.pets import PETS\n",
    "\n",
    "plan_horizon = 30\n",
    "n_particles = 10\n",
    "pop_size = 400\n",
    "\n",
    "controller = PETS(dynamics, task.cost, actor,\n",
    "                  plan_horizon, n_particles, pop_size)"
   ]
  },
  {
   "cell_type": "code",
   "execution_count": 9,
   "metadata": {},
   "outputs": [],
   "source": [
    "# Setup learner\n",
    "\n",
    "from stage.learners.learn_and_control_model import LearnAndControlModel\n",
    "learner = LearnAndControlModel(task, dynamics, controller)"
   ]
  },
  {
   "cell_type": "code",
   "execution_count": 10,
   "metadata": {
    "scrolled": false
   },
   "outputs": [
    {
     "name": "stderr",
     "output_type": "stream",
     "text": [
      "Network training: 100%|██████████| 10/10 [00:00<00:00, 42.82epoch(s)/s, Training loss MSE=1.0080601]\n"
     ]
    },
    {
     "name": "stdout",
     "output_type": "stream",
     "text": [
      "Iteration:  0\n",
      "Initial state:  tensor([1.5708, 0.0000, 0.0000, 0.0000])\n",
      "avg. decision time:  0.004494695663452148\n",
      "obs. reward:  -132.50153\n",
      "act. reward:  -1.6512452\n"
     ]
    },
    {
     "name": "stderr",
     "output_type": "stream",
     "text": [
      "Network training: 100%|██████████| 10/10 [00:00<00:00, 14.15epoch(s)/s, Training loss MSE=0.37953788]\n"
     ]
    },
    {
     "name": "stdout",
     "output_type": "stream",
     "text": [
      "Iteration:  1\n",
      "Initial state:  tensor([1.5708, 0.0000, 0.0000, 0.0000])\n",
      "avg. decision time:  0.1321657729148865\n",
      "obs. reward:  -251.86148\n",
      "act. reward:  -0.07074903\n"
     ]
    },
    {
     "name": "stderr",
     "output_type": "stream",
     "text": [
      "Network training: 100%|██████████| 10/10 [00:00<00:00, 10.20epoch(s)/s, Training loss MSE=0.13999414]\n"
     ]
    },
    {
     "name": "stdout",
     "output_type": "stream",
     "text": [
      "Iteration:  2\n",
      "Initial state:  tensor([1.5708, 0.0000, 0.0000, 0.0000])\n",
      "avg. decision time:  0.13238260746002198\n",
      "obs. reward:  -179.57346\n",
      "act. reward:  -0.0682722\n"
     ]
    },
    {
     "name": "stderr",
     "output_type": "stream",
     "text": [
      "Network training: 100%|██████████| 10/10 [00:01<00:00,  7.80epoch(s)/s, Training loss MSE=0.081327]  \n"
     ]
    },
    {
     "name": "stdout",
     "output_type": "stream",
     "text": [
      "Iteration:  3\n",
      "Initial state:  tensor([1.5708, 0.0000, 0.0000, 0.0000])\n",
      "avg. decision time:  0.13284449577331542\n",
      "obs. reward:  -85.809166\n",
      "act. reward:  -0.091253705\n"
     ]
    },
    {
     "name": "stderr",
     "output_type": "stream",
     "text": [
      "Network training: 100%|██████████| 10/10 [00:01<00:00,  6.45epoch(s)/s, Training loss MSE=0.05730013]\n"
     ]
    },
    {
     "name": "stdout",
     "output_type": "stream",
     "text": [
      "Iteration:  4\n",
      "Initial state:  tensor([1.5708, 0.0000, 0.0000, 0.0000])\n",
      "avg. decision time:  0.1319610071182251\n",
      "obs. reward:  -53.2009\n",
      "act. reward:  -0.5100389\n"
     ]
    },
    {
     "name": "stderr",
     "output_type": "stream",
     "text": [
      "Network training: 100%|██████████| 10/10 [00:01<00:00,  5.49epoch(s)/s, Training loss MSE=0.046003286]\n"
     ]
    },
    {
     "name": "stdout",
     "output_type": "stream",
     "text": [
      "Iteration:  5\n",
      "Initial state:  tensor([1.5708, 0.0000, 0.0000, 0.0000])\n",
      "avg. decision time:  0.13201138019561767\n",
      "obs. reward:  -38.615715\n",
      "act. reward:  -0.59136623\n"
     ]
    },
    {
     "name": "stderr",
     "output_type": "stream",
     "text": [
      "Network training: 100%|██████████| 10/10 [00:02<00:00,  4.78epoch(s)/s, Training loss MSE=0.21715845]\n"
     ]
    },
    {
     "name": "stdout",
     "output_type": "stream",
     "text": [
      "Iteration:  6\n",
      "Initial state:  tensor([1.5708, 0.0000, 0.0000, 0.0000])\n",
      "avg. decision time:  0.13190078735351562\n",
      "obs. reward:  -706.36865\n",
      "act. reward:  -2.4060595\n"
     ]
    },
    {
     "name": "stderr",
     "output_type": "stream",
     "text": [
      "Network training: 100%|██████████| 10/10 [00:02<00:00,  4.38epoch(s)/s, Training loss MSE=0.24620216]\n"
     ]
    },
    {
     "name": "stdout",
     "output_type": "stream",
     "text": [
      "Iteration:  7\n",
      "Initial state:  tensor([1.5708, 0.0000, 0.0000, 0.0000])\n",
      "avg. decision time:  0.1320769190788269\n",
      "obs. reward:  -39.59103\n",
      "act. reward:  -1.4961373\n"
     ]
    },
    {
     "name": "stderr",
     "output_type": "stream",
     "text": [
      "Network training: 100%|██████████| 10/10 [00:02<00:00,  3.59epoch(s)/s, Training loss MSE=0.18148051]\n"
     ]
    },
    {
     "name": "stdout",
     "output_type": "stream",
     "text": [
      "Iteration:  8\n",
      "Initial state:  tensor([1.5708, 0.0000, 0.0000, 0.0000])\n",
      "avg. decision time:  0.13248190879821778\n",
      "obs. reward:  -36.33364\n",
      "act. reward:  -0.9357105\n"
     ]
    },
    {
     "name": "stderr",
     "output_type": "stream",
     "text": [
      "Network training: 100%|██████████| 10/10 [00:03<00:00,  3.21epoch(s)/s, Training loss MSE=0.16172029]\n"
     ]
    },
    {
     "name": "stdout",
     "output_type": "stream",
     "text": [
      "Iteration:  9\n",
      "Initial state:  tensor([1.5708, 0.0000, 0.0000, 0.0000])\n",
      "avg. decision time:  0.132100031375885\n",
      "obs. reward:  -39.37536\n",
      "act. reward:  -1.3295276\n"
     ]
    },
    {
     "name": "stderr",
     "output_type": "stream",
     "text": [
      "Network training: 100%|██████████| 10/10 [00:03<00:00,  2.94epoch(s)/s, Training loss MSE=0.15982148]\n"
     ]
    },
    {
     "name": "stdout",
     "output_type": "stream",
     "text": [
      "Iteration:  10\n",
      "Initial state:  tensor([1.5708, 0.0000, 0.0000, 0.0000])\n",
      "avg. decision time:  0.13299392700195312\n",
      "obs. reward:  -36.358833\n",
      "act. reward:  -1.13927\n"
     ]
    },
    {
     "name": "stderr",
     "output_type": "stream",
     "text": [
      "Network training: 100%|██████████| 10/10 [00:03<00:00,  2.71epoch(s)/s, Training loss MSE=0.20964111]\n"
     ]
    },
    {
     "name": "stdout",
     "output_type": "stream",
     "text": [
      "Iteration:  11\n",
      "Initial state:  tensor([1.5708, 0.0000, 0.0000, 0.0000])\n",
      "avg. decision time:  0.13315125465393066\n",
      "obs. reward:  -47.418957\n",
      "act. reward:  -2.1589136\n"
     ]
    },
    {
     "name": "stderr",
     "output_type": "stream",
     "text": [
      "Network training: 100%|██████████| 10/10 [00:03<00:00,  2.52epoch(s)/s, Training loss MSE=0.16194758]\n"
     ]
    },
    {
     "name": "stdout",
     "output_type": "stream",
     "text": [
      "Iteration:  12\n",
      "Initial state:  tensor([1.5708, 0.0000, 0.0000, 0.0000])\n",
      "avg. decision time:  0.1323881483078003\n",
      "obs. reward:  -37.243805\n",
      "act. reward:  -0.6224512\n"
     ]
    },
    {
     "name": "stderr",
     "output_type": "stream",
     "text": [
      "Network training: 100%|██████████| 10/10 [00:04<00:00,  2.33epoch(s)/s, Training loss MSE=0.17149088]\n"
     ]
    },
    {
     "name": "stdout",
     "output_type": "stream",
     "text": [
      "Iteration:  13\n",
      "Initial state:  tensor([1.5708, 0.0000, 0.0000, 0.0000])\n",
      "avg. decision time:  0.13285773754119873\n",
      "obs. reward:  -39.60755\n",
      "act. reward:  -1.5726008\n"
     ]
    },
    {
     "name": "stderr",
     "output_type": "stream",
     "text": [
      "Network training: 100%|██████████| 10/10 [00:04<00:00,  2.19epoch(s)/s, Training loss MSE=0.15086684]\n"
     ]
    },
    {
     "name": "stdout",
     "output_type": "stream",
     "text": [
      "Iteration:  14\n",
      "Initial state:  tensor([1.5708, 0.0000, 0.0000, 0.0000])\n",
      "avg. decision time:  0.13408786296844483\n",
      "obs. reward:  -51.33519\n",
      "act. reward:  -1.5665001\n"
     ]
    },
    {
     "name": "stderr",
     "output_type": "stream",
     "text": [
      "Network training: 100%|██████████| 10/10 [00:04<00:00,  2.04epoch(s)/s, Training loss MSE=0.16172062]\n"
     ]
    },
    {
     "name": "stdout",
     "output_type": "stream",
     "text": [
      "Iteration:  15\n",
      "Initial state:  tensor([1.5708, 0.0000, 0.0000, 0.0000])\n",
      "avg. decision time:  0.1325034999847412\n",
      "obs. reward:  -34.65627\n",
      "act. reward:  -1.3743278\n"
     ]
    },
    {
     "name": "stderr",
     "output_type": "stream",
     "text": [
      "Network training: 100%|██████████| 10/10 [00:05<00:00,  1.90epoch(s)/s, Training loss MSE=0.16605492]\n"
     ]
    },
    {
     "name": "stdout",
     "output_type": "stream",
     "text": [
      "Iteration:  16\n",
      "Initial state:  tensor([1.5708, 0.0000, 0.0000, 0.0000])\n",
      "avg. decision time:  0.13335055351257324\n",
      "obs. reward:  -29.403324\n",
      "act. reward:  -1.0762125\n"
     ]
    },
    {
     "name": "stderr",
     "output_type": "stream",
     "text": [
      "Network training: 100%|██████████| 10/10 [00:05<00:00,  1.80epoch(s)/s, Training loss MSE=0.15802106]\n"
     ]
    },
    {
     "name": "stdout",
     "output_type": "stream",
     "text": [
      "Iteration:  17\n",
      "Initial state:  tensor([1.5708, 0.0000, 0.0000, 0.0000])\n",
      "avg. decision time:  0.1322558832168579\n",
      "obs. reward:  -33.235683\n",
      "act. reward:  -0.9617128\n"
     ]
    },
    {
     "name": "stderr",
     "output_type": "stream",
     "text": [
      "Network training: 100%|██████████| 10/10 [00:05<00:00,  1.71epoch(s)/s, Training loss MSE=0.14308171]\n"
     ]
    },
    {
     "name": "stdout",
     "output_type": "stream",
     "text": [
      "Iteration:  18\n",
      "Initial state:  tensor([1.5708, 0.0000, 0.0000, 0.0000])\n",
      "avg. decision time:  0.1330364990234375\n",
      "obs. reward:  -35.067104\n",
      "act. reward:  -0.93850505\n"
     ]
    },
    {
     "name": "stderr",
     "output_type": "stream",
     "text": [
      "Network training: 100%|██████████| 10/10 [00:06<00:00,  1.62epoch(s)/s, Training loss MSE=0.17496903]\n"
     ]
    },
    {
     "name": "stdout",
     "output_type": "stream",
     "text": [
      "Iteration:  19\n",
      "Initial state:  tensor([1.5708, 0.0000, 0.0000, 0.0000])\n",
      "avg. decision time:  0.13576411485671996\n",
      "obs. reward:  -625.62964\n",
      "act. reward:  -3.4123638\n"
     ]
    },
    {
     "name": "stderr",
     "output_type": "stream",
     "text": [
      "Network training: 100%|██████████| 10/10 [00:06<00:00,  1.60epoch(s)/s, Training loss MSE=0.16260403]\n"
     ]
    },
    {
     "name": "stdout",
     "output_type": "stream",
     "text": [
      "Iteration:  20\n",
      "Initial state:  tensor([1.5708, 0.0000, 0.0000, 0.0000])\n",
      "avg. decision time:  0.1333806586265564\n",
      "obs. reward:  -29.975735\n",
      "act. reward:  -1.1548423\n"
     ]
    },
    {
     "name": "stderr",
     "output_type": "stream",
     "text": [
      "Network training: 100%|██████████| 10/10 [00:05<00:00,  1.68epoch(s)/s, Training loss MSE=0.15867572]\n"
     ]
    },
    {
     "name": "stdout",
     "output_type": "stream",
     "text": [
      "Iteration:  21\n",
      "Initial state:  tensor([1.5708, 0.0000, 0.0000, 0.0000])\n",
      "avg. decision time:  0.13281633853912353\n",
      "obs. reward:  -30.259453\n",
      "act. reward:  -1.0963708\n"
     ]
    },
    {
     "name": "stderr",
     "output_type": "stream",
     "text": [
      "Network training: 100%|██████████| 10/10 [00:06<00:00,  1.65epoch(s)/s, Training loss MSE=0.25647557]\n"
     ]
    },
    {
     "name": "stdout",
     "output_type": "stream",
     "text": [
      "Iteration:  22\n",
      "Initial state:  tensor([1.5708, 0.0000, 0.0000, 0.0000])\n",
      "avg. decision time:  0.1331962251663208\n",
      "obs. reward:  -426.5196\n",
      "act. reward:  -1.9558685\n"
     ]
    },
    {
     "name": "stderr",
     "output_type": "stream",
     "text": [
      "Network training: 100%|██████████| 10/10 [00:06<00:00,  1.56epoch(s)/s, Training loss MSE=0.24886198]\n"
     ]
    },
    {
     "name": "stdout",
     "output_type": "stream",
     "text": [
      "Iteration:  23\n",
      "Initial state:  tensor([1.5708, 0.0000, 0.0000, 0.0000])\n",
      "avg. decision time:  0.1331125259399414\n",
      "obs. reward:  -223.81424\n",
      "act. reward:  -8.520879\n"
     ]
    },
    {
     "name": "stderr",
     "output_type": "stream",
     "text": [
      "Network training: 100%|██████████| 10/10 [00:06<00:00,  1.51epoch(s)/s, Training loss MSE=0.38524914]\n"
     ]
    },
    {
     "name": "stdout",
     "output_type": "stream",
     "text": [
      "Iteration:  24\n",
      "Initial state:  tensor([1.5708, 0.0000, 0.0000, 0.0000])\n",
      "avg. decision time:  0.13373374938964844\n",
      "obs. reward:  -550.99207\n",
      "act. reward:  -5.854997\n"
     ]
    },
    {
     "name": "stderr",
     "output_type": "stream",
     "text": [
      "Network training: 100%|██████████| 10/10 [00:07<00:00,  1.31epoch(s)/s, Training loss MSE=0.4004879]\n"
     ]
    },
    {
     "name": "stdout",
     "output_type": "stream",
     "text": [
      "Iteration:  25\n",
      "Initial state:  tensor([1.5708, 0.0000, 0.0000, 0.0000])\n",
      "avg. decision time:  0.13378060817718507\n",
      "obs. reward:  -30.151487\n",
      "act. reward:  -1.0929213\n"
     ]
    },
    {
     "name": "stderr",
     "output_type": "stream",
     "text": [
      "Network training: 100%|██████████| 10/10 [00:08<00:00,  1.20epoch(s)/s, Training loss MSE=0.3675647]\n"
     ]
    },
    {
     "name": "stdout",
     "output_type": "stream",
     "text": [
      "Iteration:  26\n",
      "Initial state:  tensor([1.5708, 0.0000, 0.0000, 0.0000])\n",
      "avg. decision time:  0.13427972078323364\n",
      "obs. reward:  -35.91047\n",
      "act. reward:  -0.66737545\n"
     ]
    },
    {
     "name": "stderr",
     "output_type": "stream",
     "text": [
      "Network training: 100%|██████████| 10/10 [00:08<00:00,  1.16epoch(s)/s, Training loss MSE=0.36455774]\n"
     ]
    },
    {
     "name": "stdout",
     "output_type": "stream",
     "text": [
      "Iteration:  27\n",
      "Initial state:  tensor([1.5708, 0.0000, 0.0000, 0.0000])\n",
      "avg. decision time:  0.13390375137329102\n",
      "obs. reward:  -31.15445\n",
      "act. reward:  -1.0799117\n"
     ]
    },
    {
     "name": "stderr",
     "output_type": "stream",
     "text": [
      "Network training: 100%|██████████| 10/10 [00:08<00:00,  1.13epoch(s)/s, Training loss MSE=0.35539603]\n"
     ]
    },
    {
     "name": "stdout",
     "output_type": "stream",
     "text": [
      "Iteration:  28\n",
      "Initial state:  tensor([1.5708, 0.0000, 0.0000, 0.0000])\n",
      "avg. decision time:  0.13281394004821778\n",
      "obs. reward:  -39.878944\n",
      "act. reward:  -0.5941297\n"
     ]
    },
    {
     "name": "stderr",
     "output_type": "stream",
     "text": [
      "Network training: 100%|██████████| 10/10 [00:09<00:00,  1.10epoch(s)/s, Training loss MSE=0.27414674]\n"
     ]
    },
    {
     "name": "stdout",
     "output_type": "stream",
     "text": [
      "Iteration:  29\n",
      "Initial state:  tensor([1.5708, 0.0000, 0.0000, 0.0000])\n",
      "avg. decision time:  0.13332738161087035\n",
      "obs. reward:  -32.994743\n",
      "act. reward:  -0.98397523\n"
     ]
    },
    {
     "name": "stderr",
     "output_type": "stream",
     "text": [
      "Network training: 100%|██████████| 10/10 [00:08<00:00,  1.22epoch(s)/s, Training loss MSE=0.32910764]\n"
     ]
    },
    {
     "name": "stdout",
     "output_type": "stream",
     "text": [
      "Iteration:  30\n",
      "Initial state:  tensor([1.5708, 0.0000, 0.0000, 0.0000])\n",
      "avg. decision time:  0.13389832019805908\n",
      "obs. reward:  -29.227673\n",
      "act. reward:  -1.251234\n"
     ]
    },
    {
     "name": "stderr",
     "output_type": "stream",
     "text": [
      "Network training: 100%|██████████| 10/10 [00:09<00:00,  1.11epoch(s)/s, Training loss MSE=0.36769268]\n"
     ]
    },
    {
     "name": "stdout",
     "output_type": "stream",
     "text": [
      "Iteration:  31\n",
      "Initial state:  tensor([1.5708, 0.0000, 0.0000, 0.0000])\n",
      "avg. decision time:  0.13340336799621583\n",
      "obs. reward:  -64.0406\n",
      "act. reward:  -2.391863\n"
     ]
    },
    {
     "name": "stderr",
     "output_type": "stream",
     "text": [
      "Network training: 100%|██████████| 10/10 [00:10<00:00,  1.02s/epoch(s), Training loss MSE=0.2756074]\n"
     ]
    },
    {
     "name": "stdout",
     "output_type": "stream",
     "text": [
      "Iteration:  32\n",
      "Initial state:  tensor([1.5708, 0.0000, 0.0000, 0.0000])\n",
      "avg. decision time:  0.1345546793937683\n",
      "obs. reward:  -32.11465\n",
      "act. reward:  -0.9374857\n"
     ]
    },
    {
     "name": "stderr",
     "output_type": "stream",
     "text": [
      "Network training: 100%|██████████| 10/10 [00:10<00:00,  1.04s/epoch(s), Training loss MSE=0.26179132]\n"
     ]
    },
    {
     "name": "stdout",
     "output_type": "stream",
     "text": [
      "Iteration:  33\n",
      "Initial state:  tensor([1.5708, 0.0000, 0.0000, 0.0000])\n",
      "avg. decision time:  0.132911217212677\n",
      "obs. reward:  -33.839184\n",
      "act. reward:  -1.4144228\n"
     ]
    },
    {
     "name": "stderr",
     "output_type": "stream",
     "text": [
      "Network training: 100%|██████████| 10/10 [00:10<00:00,  1.07s/epoch(s), Training loss MSE=0.2665803]\n"
     ]
    },
    {
     "name": "stdout",
     "output_type": "stream",
     "text": [
      "Iteration:  34\n",
      "Initial state:  tensor([1.5708, 0.0000, 0.0000, 0.0000])\n",
      "avg. decision time:  0.1340569305419922\n",
      "obs. reward:  -30.191257\n",
      "act. reward:  -1.1580127\n"
     ]
    },
    {
     "name": "stderr",
     "output_type": "stream",
     "text": [
      "Network training: 100%|██████████| 10/10 [00:10<00:00,  1.06s/epoch(s), Training loss MSE=0.26557216]\n"
     ]
    },
    {
     "name": "stdout",
     "output_type": "stream",
     "text": [
      "Iteration:  35\n",
      "Initial state:  tensor([1.5708, 0.0000, 0.0000, 0.0000])\n",
      "avg. decision time:  0.1341519808769226\n",
      "obs. reward:  -32.73433\n",
      "act. reward:  -0.9981364\n"
     ]
    },
    {
     "name": "stderr",
     "output_type": "stream",
     "text": [
      "Network training: 100%|██████████| 10/10 [00:11<00:00,  1.15s/epoch(s), Training loss MSE=0.24376477]\n"
     ]
    },
    {
     "name": "stdout",
     "output_type": "stream",
     "text": [
      "Iteration:  36\n",
      "Initial state:  tensor([1.5708, 0.0000, 0.0000, 0.0000])\n",
      "avg. decision time:  0.13366199493408204\n",
      "obs. reward:  -31.850636\n",
      "act. reward:  -0.95501864\n"
     ]
    },
    {
     "name": "stderr",
     "output_type": "stream",
     "text": [
      "Network training: 100%|██████████| 10/10 [00:11<00:00,  1.18s/epoch(s), Training loss MSE=0.24854329]\n"
     ]
    },
    {
     "name": "stdout",
     "output_type": "stream",
     "text": [
      "Iteration:  37\n",
      "Initial state:  tensor([1.5708, 0.0000, 0.0000, 0.0000])\n",
      "avg. decision time:  0.1343931221961975\n",
      "obs. reward:  -39.965984\n",
      "act. reward:  -1.5594473\n"
     ]
    },
    {
     "name": "stderr",
     "output_type": "stream",
     "text": [
      "Network training: 100%|██████████| 10/10 [00:11<00:00,  1.19s/epoch(s), Training loss MSE=0.25167805]\n"
     ]
    },
    {
     "name": "stdout",
     "output_type": "stream",
     "text": [
      "Iteration:  38\n",
      "Initial state:  tensor([1.5708, 0.0000, 0.0000, 0.0000])\n",
      "avg. decision time:  0.13481511116027833\n",
      "obs. reward:  -30.102293\n",
      "act. reward:  -1.1255014\n"
     ]
    },
    {
     "name": "stderr",
     "output_type": "stream",
     "text": [
      "Network training: 100%|██████████| 10/10 [00:12<00:00,  1.23s/epoch(s), Training loss MSE=0.25161216]\n"
     ]
    },
    {
     "name": "stdout",
     "output_type": "stream",
     "text": [
      "Iteration:  39\n",
      "Initial state:  tensor([1.5708, 0.0000, 0.0000, 0.0000])\n",
      "avg. decision time:  0.1344720721244812\n",
      "obs. reward:  -59.363377\n",
      "act. reward:  -3.1438682\n"
     ]
    },
    {
     "name": "stderr",
     "output_type": "stream",
     "text": [
      "Network training: 100%|██████████| 10/10 [00:11<00:00,  1.15s/epoch(s), Training loss MSE=0.26261944]\n"
     ]
    },
    {
     "name": "stdout",
     "output_type": "stream",
     "text": [
      "Iteration:  40\n",
      "Initial state:  tensor([1.5708, 0.0000, 0.0000, 0.0000])\n",
      "avg. decision time:  0.1349068832397461\n",
      "obs. reward:  -52.55978\n",
      "act. reward:  -2.6462026\n"
     ]
    },
    {
     "name": "stderr",
     "output_type": "stream",
     "text": [
      "Network training: 100%|██████████| 10/10 [00:12<00:00,  1.28s/epoch(s), Training loss MSE=0.25983283]\n"
     ]
    },
    {
     "name": "stdout",
     "output_type": "stream",
     "text": [
      "Iteration:  41\n",
      "Initial state:  tensor([1.5708, 0.0000, 0.0000, 0.0000])\n",
      "avg. decision time:  0.1328574538230896\n",
      "obs. reward:  -32.814594\n",
      "act. reward:  -1.5724515\n"
     ]
    },
    {
     "name": "stderr",
     "output_type": "stream",
     "text": [
      "Network training: 100%|██████████| 10/10 [00:12<00:00,  1.30s/epoch(s), Training loss MSE=0.22610874]\n"
     ]
    },
    {
     "name": "stdout",
     "output_type": "stream",
     "text": [
      "Iteration:  42\n",
      "Initial state:  tensor([1.5708, 0.0000, 0.0000, 0.0000])\n",
      "avg. decision time:  0.1338421630859375\n",
      "obs. reward:  -34.74017\n",
      "act. reward:  -1.3669845\n"
     ]
    },
    {
     "name": "stderr",
     "output_type": "stream",
     "text": [
      "Network training: 100%|██████████| 10/10 [00:13<00:00,  1.35s/epoch(s), Training loss MSE=0.24513197]\n"
     ]
    },
    {
     "name": "stdout",
     "output_type": "stream",
     "text": [
      "Iteration:  43\n",
      "Initial state:  tensor([1.5708, 0.0000, 0.0000, 0.0000])\n",
      "avg. decision time:  0.13371490955352783\n",
      "obs. reward:  -28.376907\n",
      "act. reward:  -1.3056586\n"
     ]
    },
    {
     "name": "stderr",
     "output_type": "stream",
     "text": [
      "Network training: 100%|██████████| 10/10 [00:13<00:00,  1.36s/epoch(s), Training loss MSE=0.22362049]\n"
     ]
    },
    {
     "name": "stdout",
     "output_type": "stream",
     "text": [
      "Iteration:  44\n",
      "Initial state:  tensor([1.5708, 0.0000, 0.0000, 0.0000])\n",
      "avg. decision time:  0.13422957181930542\n",
      "obs. reward:  -30.586893\n",
      "act. reward:  -1.1631893\n"
     ]
    },
    {
     "name": "stderr",
     "output_type": "stream",
     "text": [
      "Network training: 100%|██████████| 10/10 [00:14<00:00,  1.43s/epoch(s), Training loss MSE=0.22658704]\n"
     ]
    },
    {
     "name": "stdout",
     "output_type": "stream",
     "text": [
      "Iteration:  45\n",
      "Initial state:  tensor([1.5708, 0.0000, 0.0000, 0.0000])\n",
      "avg. decision time:  0.13193602323532105\n",
      "obs. reward:  -27.50957\n",
      "act. reward:  -1.3695272\n"
     ]
    },
    {
     "name": "stderr",
     "output_type": "stream",
     "text": [
      "Network training: 100%|██████████| 10/10 [00:14<00:00,  1.43s/epoch(s), Training loss MSE=0.320312] \n"
     ]
    },
    {
     "name": "stdout",
     "output_type": "stream",
     "text": [
      "Iteration:  46\n",
      "Initial state:  tensor([1.5708, 0.0000, 0.0000, 0.0000])\n",
      "avg. decision time:  0.13357418775558472\n",
      "obs. reward:  -275.0449\n",
      "act. reward:  -10.496149\n"
     ]
    },
    {
     "name": "stderr",
     "output_type": "stream",
     "text": [
      "Network training: 100%|██████████| 10/10 [00:14<00:00,  1.46s/epoch(s), Training loss MSE=0.2713933]\n"
     ]
    },
    {
     "name": "stdout",
     "output_type": "stream",
     "text": [
      "Iteration:  47\n",
      "Initial state:  tensor([1.5708, 0.0000, 0.0000, 0.0000])\n",
      "avg. decision time:  0.1380738925933838\n",
      "obs. reward:  -29.532948\n",
      "act. reward:  -1.1962717\n"
     ]
    },
    {
     "name": "stderr",
     "output_type": "stream",
     "text": [
      "Network training: 100%|██████████| 10/10 [00:14<00:00,  1.47s/epoch(s), Training loss MSE=0.27144954]\n"
     ]
    },
    {
     "name": "stdout",
     "output_type": "stream",
     "text": [
      "Iteration:  48\n",
      "Initial state:  tensor([1.5708, 0.0000, 0.0000, 0.0000])\n",
      "avg. decision time:  0.1368146276473999\n",
      "obs. reward:  -28.669474\n",
      "act. reward:  -1.2722056\n"
     ]
    },
    {
     "name": "stderr",
     "output_type": "stream",
     "text": [
      "Network training: 100%|██████████| 10/10 [00:15<00:00,  1.54s/epoch(s), Training loss MSE=0.3006962]"
     ]
    },
    {
     "name": "stdout",
     "output_type": "stream",
     "text": [
      "Iteration:  49\n",
      "Initial state:  tensor([1.5708, 0.0000, 0.0000, 0.0000])\n",
      "avg. decision time:  0.1369020986557007\n",
      "obs. reward:  -28.354408\n",
      "act. reward:  -1.3291878\n"
     ]
    },
    {
     "name": "stderr",
     "output_type": "stream",
     "text": [
      "\n"
     ]
    }
   ],
   "source": [
    "controller.regularize(0)\n",
    "_ = learner.learn(50, verbose=True)\n",
    "learner.save_training_data(savepath+'data_pd_reg')"
   ]
  },
  {
   "cell_type": "code",
   "execution_count": 11,
   "metadata": {
    "scrolled": false
   },
   "outputs": [
    {
     "name": "stdout",
     "output_type": "stream",
     "text": [
      "avg. decision time:  0.13458198070526123\n",
      "obs. reward:  -141.44856\n",
      "act. reward:  -0.009575838\n"
     ]
    }
   ],
   "source": [
    "controller.regularize(0)\n",
    "traj, log = task.perform(task.goal, controller)\n",
    "act_seq = traj[:, nx:nx+na]\n",
    "initial_obs = traj[0, :nx]\n",
    "final_obs = traj[-1, :nx]"
   ]
  },
  {
   "cell_type": "code",
   "execution_count": 12,
   "metadata": {},
   "outputs": [
    {
     "name": "stdout",
     "output_type": "stream",
     "text": [
      "tensor(2.5022, grad_fn=<MeanBackward0>)\n",
      "tensor(3.1805, grad_fn=<StdBackward0>)\n"
     ]
    }
   ],
   "source": [
    "n_sample = 50\n",
    "traj_pred = dynamics.unroll(initial_obs, \n",
    "                            act_seq, \n",
    "                            n_sample)\n",
    "\n",
    "predicted_err = torch.norm(traj_pred[-1, :, :]-final_obs.expand(n_sample, -1), p=2, dim=1)\n",
    "print (predicted_err.mean())\n",
    "print (predicted_err.std())"
   ]
  },
  {
   "cell_type": "code",
   "execution_count": 13,
   "metadata": {},
   "outputs": [],
   "source": [
    "task_horizon = task.task_horizon\n",
    "\n",
    "traj_pred_mean = torch.mean(traj_pred, dim=1)\n",
    "traj_pred_std = torch.std(traj_pred, dim=1)\n",
    "traj_pred_mean = traj_pred_mean.detach().cpu().numpy()\n",
    "traj_pred_std = traj_pred_std.detach().cpu().numpy()\n",
    "traj = traj.detach().cpu().numpy()\n",
    "\n",
    "desired = task.cost.desired.repeat((task_horizon, 1))\n",
    "desired = desired.detach().cpu().numpy()"
   ]
  },
  {
   "cell_type": "code",
   "execution_count": 14,
   "metadata": {},
   "outputs": [],
   "source": [
    "font = {'family' : 'serif',\n",
    "        'size'   : 22}\n",
    "\n",
    "matplotlib.rc('font', **font)\n",
    "np.set_printoptions(precision=3, linewidth=200, suppress=True)"
   ]
  },
  {
   "cell_type": "code",
   "execution_count": 15,
   "metadata": {},
   "outputs": [],
   "source": [
    "# traj_pred_mean = np.load('traj_pred_mean.npy')\n",
    "# traj_pred_std = np.load('traj_pred_std.npy')\n",
    "# traj = np.load('traj.npy')"
   ]
  },
  {
   "cell_type": "code",
   "execution_count": 16,
   "metadata": {
    "scrolled": false
   },
   "outputs": [
    {
     "data": {
      "image/png": "[encoded data removed]",
      "text/plain": [
       "<Figure size 720x864 with 2 Axes>"
      ]
     },
     "metadata": {
      "needs_background": "light"
     },
     "output_type": "display_data"
    }
   ],
   "source": [
    "d = nq\n",
    "dt = dt_control\n",
    "fig, ax = plt.subplots(d, figsize=(10, d * 6))\n",
    "t = np.arange(0.0, task_horizon*dt, dt)\n",
    "dlb = traj_pred_mean - traj_pred_std\n",
    "ub = traj_pred_mean + traj_pred_std\n",
    "\n",
    "for i in range(d):\n",
    "    ax[i].plot(t, traj[:, i], lw=4, color='orange', label='actual')\n",
    "    ax[i].plot(t, traj_pred_mean[:, i], lw=4, color='b', label='predicted mean')\n",
    "    ax[i].plot(t, desired[:, i], lw=2, color='k', ls='-.', label='desired')\n",
    "    lb = traj_pred_mean - traj_pred_std\n",
    "    ub = traj_pred_mean + traj_pred_std\n",
    "    ax[i].fill_between(t, lb[:, i], ub[:, i], facecolor='blue',\n",
    "                alpha=0.2)\n",
    "    _ = ax[i].grid()\n",
    "    _ = ax[i].set_ylim([-3.2, 3.2])\n",
    "    ax[i].legend(loc='upper center', bbox_to_anchor=(0.5, 1.3),\n",
    "             ncol=3, fancybox=True, shadow=True)\n",
    "# fig.savefig('prediction_with_reg_150steps' + '.png', bbox_inches='tight')"
   ]
  },
  {
   "cell_type": "code",
   "execution_count": 17,
   "metadata": {},
   "outputs": [],
   "source": [
    "# import numpy as np\n",
    "# from stage.tasks.twolink.reaching import TwoLinkReaching\n",
    "# from stage.utils.nn import use_gpu\n",
    "# use_gpu()\n",
    "# savepath = parentdir + '/data/twolink/'\n",
    "# data_train = np.load(savepath+'data_pd_reg.npy')\n",
    "# task = TwoLinkReaching(render=True)\n",
    "# task.visualize_training_data(data_train, 0)"
   ]
  }
 ],
 "metadata": {
  "kernelspec": {
   "display_name": "Python 3",
   "language": "python",
   "name": "python3"
  },
  "language_info": {
   "codemirror_mode": {
    "name": "ipython",
    "version": 3
   },
   "file_extension": ".py",
   "mimetype": "text/x-python",
   "name": "python",
   "nbconvert_exporter": "python",
   "pygments_lexer": "ipython3",
   "version": "3.6.9"
  }
 },
 "nbformat": 4,
 "nbformat_minor": 2
}
