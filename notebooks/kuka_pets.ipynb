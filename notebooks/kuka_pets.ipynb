{
 "cells": [
  {
   "cell_type": "code",
   "execution_count": 1,
   "metadata": {},
   "outputs": [],
   "source": [
    "%matplotlib inline\n",
    "%load_ext autoreload\n",
    "%autoreload 2"
   ]
  },
  {
   "cell_type": "code",
   "execution_count": 2,
   "metadata": {},
   "outputs": [],
   "source": [
    "import os\n",
    "import inspect\n",
    "currentdir = os.path.dirname(os.path.abspath(\n",
    "    inspect.getfile(inspect.currentframe())))\n",
    "parentdir = os.path.dirname(currentdir)\n",
    "os.sys.path.insert(1, parentdir+'/src')\n",
    "import torch\n",
    "import torch.nn.functional as F\n",
    "from torchvision import transforms\n",
    "import numpy as np\n",
    "import time\n",
    "from tqdm import trange\n",
    "import matplotlib.pyplot as plt\n",
    "import matplotlib"
   ]
  },
  {
   "cell_type": "code",
   "execution_count": 3,
   "metadata": {},
   "outputs": [],
   "source": [
    "import gym\n",
    "import pybullet as p\n",
    "import stage.envs\n",
    "from stage.tasks.kuka.reaching import KukaReaching\n",
    "from stage.utils.nn import use_gpu\n",
    "use_gpu()"
   ]
  },
  {
   "cell_type": "code",
   "execution_count": 4,
   "metadata": {},
   "outputs": [],
   "source": [
    "font = {'family' : 'serif',\n",
    "        'size'   : 22}\n",
    "\n",
    "matplotlib.rc('font', **font)\n",
    "np.set_printoptions(precision=3, linewidth=200, suppress=True)"
   ]
  },
  {
   "cell_type": "code",
   "execution_count": 5,
   "metadata": {},
   "outputs": [],
   "source": [
    "savepath = parentdir + '/data/kuka/'"
   ]
  },
  {
   "cell_type": "code",
   "execution_count": 6,
   "metadata": {},
   "outputs": [],
   "source": [
    "# data_train = np.load(savepath+'data_pd_reg.npy')\n",
    "# task = KukaReaching(render=True)\n",
    "# task.visualize_training_data(data_train, 0)"
   ]
  },
  {
   "cell_type": "code",
   "execution_count": 7,
   "metadata": {},
   "outputs": [],
   "source": [
    "task = KukaReaching(render=False)\n",
    "\n",
    "# Read task parameters, should we use a separate class to wrap this?\n",
    "\n",
    "nq, nv, nu, nx = task.nq, task.nv, task.nu, task.nx\n",
    "dt_control, dt_env = task.dt_control, task.dt_env\n",
    "q_lb, q_ub = task.q_lb, task.q_ub\n",
    "v_lb, v_ub = -100 * torch.ones_like(q_lb), 100 * torch.ones_like(q_ub)"
   ]
  },
  {
   "cell_type": "code",
   "execution_count": 8,
   "metadata": {},
   "outputs": [],
   "source": [
    "# Setup action parameterization\n",
    "\n",
    "from stage.controllers.actor import Actor\n",
    "from stage.controllers.pd import PD\n",
    "\n",
    "na = 14\n",
    "gain_ub = torch.Tensor([30, 15, 30, 30, 5, 3, 0.1])\n",
    "gain_lb = 0. * torch.ones((nq))\n",
    "action_ub = torch.cat((gain_ub, q_ub))\n",
    "action_lb = torch.cat((gain_lb, q_lb))\n",
    "actor = Actor(PD(nx, nq, nv, nu), action_lb, action_ub)\n",
    "\n",
    "task.cost.actor = actor"
   ]
  },
  {
   "cell_type": "code",
   "execution_count": 9,
   "metadata": {},
   "outputs": [],
   "source": [
    "# Setup model learning\n",
    "\n",
    "from stage.dynamics.probabilistic_ensemble import ProbabilisticEnsemble, DefaultDx\n",
    "\n",
    "ensemble_size = 5 \n",
    "batch_size = 64\n",
    "epochs = 10\n",
    "dynamics = ProbabilisticEnsemble(nx, nq, nv, na, dt_control, \n",
    "                                 DefaultDx,\n",
    "                                 ensemble_size, \n",
    "                                 learning_rate=0.001)\n",
    "\n",
    "dynamics.state_lb = torch.cat((q_lb, v_lb))\n",
    "dynamics.state_ub = torch.cat((q_ub, v_ub))"
   ]
  },
  {
   "cell_type": "code",
   "execution_count": 10,
   "metadata": {},
   "outputs": [],
   "source": [
    "# Setup controller\n",
    "\n",
    "from stage.controllers.pets import PETS\n",
    "\n",
    "plan_horizon = 30\n",
    "n_particles = 20\n",
    "pop_size = 500\n",
    "assert n_particles % ensemble_size == 0\n",
    "\n",
    "controller = PETS(dynamics, task.cost, actor,\n",
    "                  plan_horizon, n_particles, pop_size)"
   ]
  },
  {
   "cell_type": "code",
   "execution_count": 11,
   "metadata": {},
   "outputs": [],
   "source": [
    "# Setup learner\n",
    "from stage.learners.learn_and_control_model import LearnAndControlModel\n",
    "learner = LearnAndControlModel(task, dynamics, controller, epochs, batch_size)"
   ]
  },
  {
   "cell_type": "code",
   "execution_count": 12,
   "metadata": {},
   "outputs": [
    {
     "name": "stdout",
     "output_type": "stream",
     "text": [
      "tensor([[ 0.4006, -0.5008, -0.0008]])\n",
      "tensor([[0.3931, 0.4873, 0.0099]])\n"
     ]
    }
   ],
   "source": [
    "q_start = torch.Tensor(task.q_start).unsqueeze(0)\n",
    "q_desired = task.cost.desired[:nq].unsqueeze(0)\n",
    "\n",
    "print (task.cost.fwk(q_start, 6)[:, :3, 3])\n",
    "print (task.cost.fwk(q_desired, 6)[:, :3, 3])"
   ]
  },
  {
   "cell_type": "code",
   "execution_count": 13,
   "metadata": {
    "scrolled": false
   },
   "outputs": [
    {
     "name": "stderr",
     "output_type": "stream",
     "text": [
      "Network training: 100%|██████████| 10/10 [00:00<00:00, 28.24epoch(s)/s, Training loss MSE=0.51114154]\n"
     ]
    },
    {
     "name": "stdout",
     "output_type": "stream",
     "text": [
      "Iteration:  0\n",
      "Initial state:  tensor([-0.7528,  1.4370, -0.2040, -1.1921, -0.0062,  0.2165,  0.0000,  0.0000,\n",
      "         0.0000,  0.0000,  0.0000,  0.0000,  0.0000,  0.0000])\n",
      "avg. decision time:  0.022229231198628744\n",
      "obs. reward:  -181.77191\n",
      "act. reward:  -0.1434254\n"
     ]
    },
    {
     "name": "stderr",
     "output_type": "stream",
     "text": [
      "Network training: 100%|██████████| 10/10 [00:00<00:00, 17.55epoch(s)/s, Training loss MSE=0.23057492]\n"
     ]
    },
    {
     "name": "stdout",
     "output_type": "stream",
     "text": [
      "Iteration:  1\n",
      "Initial state:  tensor([-0.7528,  1.4370, -0.2040, -1.1921, -0.0062,  0.2165,  0.0000,  0.0000,\n",
      "         0.0000,  0.0000,  0.0000,  0.0000,  0.0000,  0.0000])\n",
      "avg. decision time:  0.8284426641464233\n",
      "obs. reward:  -160.72969\n",
      "act. reward:  -0.019904384\n"
     ]
    },
    {
     "name": "stderr",
     "output_type": "stream",
     "text": [
      "Network training: 100%|██████████| 10/10 [00:00<00:00, 15.69epoch(s)/s, Training loss MSE=0.14244501]\n"
     ]
    },
    {
     "name": "stdout",
     "output_type": "stream",
     "text": [
      "Iteration:  2\n",
      "Initial state:  tensor([-0.7528,  1.4370, -0.2040, -1.1921, -0.0062,  0.2165,  0.0000,  0.0000,\n",
      "         0.0000,  0.0000,  0.0000,  0.0000,  0.0000,  0.0000])\n",
      "avg. decision time:  0.8224126927057902\n",
      "obs. reward:  -152.60977\n",
      "act. reward:  -0.018647227\n"
     ]
    },
    {
     "name": "stderr",
     "output_type": "stream",
     "text": [
      "Network training: 100%|██████████| 10/10 [00:01<00:00,  9.59epoch(s)/s, Training loss MSE=6.2450023]\n"
     ]
    },
    {
     "name": "stdout",
     "output_type": "stream",
     "text": [
      "Iteration:  3\n",
      "Initial state:  tensor([-0.7528,  1.4370, -0.2040, -1.1921, -0.0062,  0.2165,  0.0000,  0.0000,\n",
      "         0.0000,  0.0000,  0.0000,  0.0000,  0.0000,  0.0000])\n",
      "avg. decision time:  0.8200383281707764\n",
      "obs. reward:  -167.1413\n",
      "act. reward:  -3.7134311\n"
     ]
    },
    {
     "name": "stderr",
     "output_type": "stream",
     "text": [
      "Network training: 100%|██████████| 10/10 [00:00<00:00, 10.62epoch(s)/s, Training loss MSE=4.5369534]\n"
     ]
    },
    {
     "name": "stdout",
     "output_type": "stream",
     "text": [
      "Iteration:  4\n",
      "Initial state:  tensor([-0.7528,  1.4370, -0.2040, -1.1921, -0.0062,  0.2165,  0.0000,  0.0000,\n",
      "         0.0000,  0.0000,  0.0000,  0.0000,  0.0000,  0.0000])\n",
      "avg. decision time:  0.8376823584238688\n",
      "obs. reward:  -111.0223\n",
      "act. reward:  -0.011067368\n"
     ]
    },
    {
     "name": "stderr",
     "output_type": "stream",
     "text": [
      "Network training: 100%|██████████| 10/10 [00:01<00:00,  8.28epoch(s)/s, Training loss MSE=3.5373373]\n"
     ]
    },
    {
     "name": "stdout",
     "output_type": "stream",
     "text": [
      "Iteration:  5\n",
      "Initial state:  tensor([-0.7528,  1.4370, -0.2040, -1.1921, -0.0062,  0.2165,  0.0000,  0.0000,\n",
      "         0.0000,  0.0000,  0.0000,  0.0000,  0.0000,  0.0000])\n",
      "avg. decision time:  0.8416191260019938\n",
      "obs. reward:  -156.95583\n",
      "act. reward:  -0.02619524\n"
     ]
    },
    {
     "name": "stderr",
     "output_type": "stream",
     "text": [
      "Network training: 100%|██████████| 10/10 [00:01<00:00,  7.62epoch(s)/s, Training loss MSE=2.6710453]\n"
     ]
    },
    {
     "name": "stdout",
     "output_type": "stream",
     "text": [
      "Iteration:  6\n",
      "Initial state:  tensor([-0.7528,  1.4370, -0.2040, -1.1921, -0.0062,  0.2165,  0.0000,  0.0000,\n",
      "         0.0000,  0.0000,  0.0000,  0.0000,  0.0000,  0.0000])\n",
      "avg. decision time:  0.821108365058899\n",
      "obs. reward:  -83.10312\n",
      "act. reward:  -0.03031253\n"
     ]
    },
    {
     "name": "stderr",
     "output_type": "stream",
     "text": [
      "Network training: 100%|██████████| 10/10 [00:01<00:00,  6.64epoch(s)/s, Training loss MSE=2.1111145]\n"
     ]
    },
    {
     "name": "stdout",
     "output_type": "stream",
     "text": [
      "Iteration:  7\n",
      "Initial state:  tensor([-0.7528,  1.4370, -0.2040, -1.1921, -0.0062,  0.2165,  0.0000,  0.0000,\n",
      "         0.0000,  0.0000,  0.0000,  0.0000,  0.0000,  0.0000])\n",
      "avg. decision time:  0.8202528619766235\n",
      "obs. reward:  -87.4678\n",
      "act. reward:  -0.11369282\n"
     ]
    },
    {
     "name": "stderr",
     "output_type": "stream",
     "text": [
      "Network training: 100%|██████████| 10/10 [00:01<00:00,  5.82epoch(s)/s, Training loss MSE=1.6308869]\n"
     ]
    },
    {
     "name": "stdout",
     "output_type": "stream",
     "text": [
      "Iteration:  8\n",
      "Initial state:  tensor([-0.7528,  1.4370, -0.2040, -1.1921, -0.0062,  0.2165,  0.0000,  0.0000,\n",
      "         0.0000,  0.0000,  0.0000,  0.0000,  0.0000,  0.0000])\n",
      "avg. decision time:  0.8206944100062052\n",
      "obs. reward:  -139.91492\n",
      "act. reward:  -0.028872557\n"
     ]
    },
    {
     "name": "stderr",
     "output_type": "stream",
     "text": [
      "Network training: 100%|██████████| 10/10 [00:01<00:00,  5.22epoch(s)/s, Training loss MSE=1.2757989]\n"
     ]
    },
    {
     "name": "stdout",
     "output_type": "stream",
     "text": [
      "Iteration:  9\n",
      "Initial state:  tensor([-0.7528,  1.4370, -0.2040, -1.1921, -0.0062,  0.2165,  0.0000,  0.0000,\n",
      "         0.0000,  0.0000,  0.0000,  0.0000,  0.0000,  0.0000])\n",
      "avg. decision time:  0.8203487777709961\n",
      "obs. reward:  -109.615715\n",
      "act. reward:  -0.059917077\n"
     ]
    },
    {
     "name": "stderr",
     "output_type": "stream",
     "text": [
      "Network training: 100%|██████████| 10/10 [00:02<00:00,  4.77epoch(s)/s, Training loss MSE=1.0343509]\n"
     ]
    },
    {
     "name": "stdout",
     "output_type": "stream",
     "text": [
      "Iteration:  10\n",
      "Initial state:  tensor([-0.7528,  1.4370, -0.2040, -1.1921, -0.0062,  0.2165,  0.0000,  0.0000,\n",
      "         0.0000,  0.0000,  0.0000,  0.0000,  0.0000,  0.0000])\n",
      "avg. decision time:  0.8218205372492472\n",
      "obs. reward:  -63.432808\n",
      "act. reward:  -0.09708221\n"
     ]
    },
    {
     "name": "stderr",
     "output_type": "stream",
     "text": [
      "Network training: 100%|██████████| 10/10 [00:02<00:00,  4.37epoch(s)/s, Training loss MSE=1.0547646]\n"
     ]
    },
    {
     "name": "stdout",
     "output_type": "stream",
     "text": [
      "Iteration:  11\n",
      "Initial state:  tensor([-0.7528,  1.4370, -0.2040, -1.1921, -0.0062,  0.2165,  0.0000,  0.0000,\n",
      "         0.0000,  0.0000,  0.0000,  0.0000,  0.0000,  0.0000])\n",
      "avg. decision time:  0.8202023553848267\n",
      "obs. reward:  -75.36647\n",
      "act. reward:  -0.053777024\n"
     ]
    },
    {
     "name": "stderr",
     "output_type": "stream",
     "text": [
      "Network training: 100%|██████████| 10/10 [00:02<00:00,  3.70epoch(s)/s, Training loss MSE=2.0533507]\n"
     ]
    },
    {
     "name": "stdout",
     "output_type": "stream",
     "text": [
      "Iteration:  12\n",
      "Initial state:  tensor([-0.7528,  1.4370, -0.2040, -1.1921, -0.0062,  0.2165,  0.0000,  0.0000,\n",
      "         0.0000,  0.0000,  0.0000,  0.0000,  0.0000,  0.0000])\n",
      "avg. decision time:  0.8212772353490194\n",
      "obs. reward:  -125.10584\n",
      "act. reward:  -0.2449932\n"
     ]
    },
    {
     "name": "stderr",
     "output_type": "stream",
     "text": [
      "Network training: 100%|██████████| 10/10 [00:02<00:00,  3.51epoch(s)/s, Training loss MSE=1.6124961]\n"
     ]
    },
    {
     "name": "stdout",
     "output_type": "stream",
     "text": [
      "Iteration:  13\n",
      "Initial state:  tensor([-0.7528,  1.4370, -0.2040, -1.1921, -0.0062,  0.2165,  0.0000,  0.0000,\n",
      "         0.0000,  0.0000,  0.0000,  0.0000,  0.0000,  0.0000])\n",
      "avg. decision time:  0.819661808013916\n",
      "obs. reward:  -124.681755\n",
      "act. reward:  -0.08523935\n"
     ]
    },
    {
     "name": "stderr",
     "output_type": "stream",
     "text": [
      "Network training: 100%|██████████| 10/10 [00:02<00:00,  3.57epoch(s)/s, Training loss MSE=1.345995]\n"
     ]
    },
    {
     "name": "stdout",
     "output_type": "stream",
     "text": [
      "Iteration:  14\n",
      "Initial state:  tensor([-0.7528,  1.4370, -0.2040, -1.1921, -0.0062,  0.2165,  0.0000,  0.0000,\n",
      "         0.0000,  0.0000,  0.0000,  0.0000,  0.0000,  0.0000])\n",
      "avg. decision time:  0.8213972600301107\n",
      "obs. reward:  -107.2727\n",
      "act. reward:  -0.23435695\n"
     ]
    },
    {
     "name": "stderr",
     "output_type": "stream",
     "text": [
      "Network training: 100%|██████████| 10/10 [00:03<00:00,  3.07epoch(s)/s, Training loss MSE=1.5745294]\n"
     ]
    },
    {
     "name": "stdout",
     "output_type": "stream",
     "text": [
      "Iteration:  15\n",
      "Initial state:  tensor([-0.7528,  1.4370, -0.2040, -1.1921, -0.0062,  0.2165,  0.0000,  0.0000,\n",
      "         0.0000,  0.0000,  0.0000,  0.0000,  0.0000,  0.0000])\n",
      "avg. decision time:  0.8208436791102092\n",
      "obs. reward:  -175.34958\n",
      "act. reward:  -0.40793633\n"
     ]
    },
    {
     "name": "stderr",
     "output_type": "stream",
     "text": [
      "Network training: 100%|██████████| 10/10 [00:03<00:00,  2.96epoch(s)/s, Training loss MSE=1.7841519]\n"
     ]
    },
    {
     "name": "stdout",
     "output_type": "stream",
     "text": [
      "Iteration:  16\n",
      "Initial state:  tensor([-0.7528,  1.4370, -0.2040, -1.1921, -0.0062,  0.2165,  0.0000,  0.0000,\n",
      "         0.0000,  0.0000,  0.0000,  0.0000,  0.0000,  0.0000])\n",
      "avg. decision time:  0.8204531145095825\n",
      "obs. reward:  -169.19174\n",
      "act. reward:  -0.35918215\n"
     ]
    },
    {
     "name": "stderr",
     "output_type": "stream",
     "text": [
      "Network training: 100%|██████████| 10/10 [00:03<00:00,  2.78epoch(s)/s, Training loss MSE=1.6594919]\n"
     ]
    },
    {
     "name": "stdout",
     "output_type": "stream",
     "text": [
      "Iteration:  17\n",
      "Initial state:  tensor([-0.7528,  1.4370, -0.2040, -1.1921, -0.0062,  0.2165,  0.0000,  0.0000,\n",
      "         0.0000,  0.0000,  0.0000,  0.0000,  0.0000,  0.0000])\n",
      "avg. decision time:  0.8201716788609823\n",
      "obs. reward:  -139.66336\n",
      "act. reward:  -0.1422003\n"
     ]
    },
    {
     "name": "stderr",
     "output_type": "stream",
     "text": [
      "Network training: 100%|██████████| 10/10 [00:03<00:00,  2.93epoch(s)/s, Training loss MSE=1.7298838]\n"
     ]
    },
    {
     "name": "stdout",
     "output_type": "stream",
     "text": [
      "Iteration:  18\n",
      "Initial state:  tensor([-0.7528,  1.4370, -0.2040, -1.1921, -0.0062,  0.2165,  0.0000,  0.0000,\n",
      "         0.0000,  0.0000,  0.0000,  0.0000,  0.0000,  0.0000])\n",
      "avg. decision time:  0.8184786669413249\n",
      "obs. reward:  -145.01387\n",
      "act. reward:  -0.16421646\n"
     ]
    },
    {
     "name": "stderr",
     "output_type": "stream",
     "text": [
      "Network training: 100%|██████████| 10/10 [00:04<00:00,  2.37epoch(s)/s, Training loss MSE=2.2185903]\n"
     ]
    },
    {
     "name": "stdout",
     "output_type": "stream",
     "text": [
      "Iteration:  19\n",
      "Initial state:  tensor([-0.7528,  1.4370, -0.2040, -1.1921, -0.0062,  0.2165,  0.0000,  0.0000,\n",
      "         0.0000,  0.0000,  0.0000,  0.0000,  0.0000,  0.0000])\n",
      "avg. decision time:  0.8215623664855957\n",
      "obs. reward:  -115.057816\n",
      "act. reward:  -0.24800926\n"
     ]
    },
    {
     "name": "stderr",
     "output_type": "stream",
     "text": [
      "Network training: 100%|██████████| 10/10 [00:04<00:00,  2.18epoch(s)/s, Training loss MSE=2.32969] \n"
     ]
    },
    {
     "name": "stdout",
     "output_type": "stream",
     "text": [
      "Iteration:  20\n",
      "Initial state:  tensor([-0.7528,  1.4370, -0.2040, -1.1921, -0.0062,  0.2165,  0.0000,  0.0000,\n",
      "         0.0000,  0.0000,  0.0000,  0.0000,  0.0000,  0.0000])\n",
      "avg. decision time:  0.8220095952351888\n",
      "obs. reward:  -168.20699\n",
      "act. reward:  -0.46056655\n"
     ]
    },
    {
     "name": "stderr",
     "output_type": "stream",
     "text": [
      "Network training: 100%|██████████| 10/10 [00:04<00:00,  2.08epoch(s)/s, Training loss MSE=2.185462]\n"
     ]
    },
    {
     "name": "stdout",
     "output_type": "stream",
     "text": [
      "Iteration:  21\n",
      "Initial state:  tensor([-0.7528,  1.4370, -0.2040, -1.1921, -0.0062,  0.2165,  0.0000,  0.0000,\n",
      "         0.0000,  0.0000,  0.0000,  0.0000,  0.0000,  0.0000])\n",
      "avg. decision time:  0.8220351505279541\n",
      "obs. reward:  -155.68349\n",
      "act. reward:  -0.18521404\n"
     ]
    },
    {
     "name": "stderr",
     "output_type": "stream",
     "text": [
      "Network training: 100%|██████████| 10/10 [00:04<00:00,  2.32epoch(s)/s, Training loss MSE=2.0758567]\n"
     ]
    },
    {
     "name": "stdout",
     "output_type": "stream",
     "text": [
      "Iteration:  22\n",
      "Initial state:  tensor([-0.7528,  1.4370, -0.2040, -1.1921, -0.0062,  0.2165,  0.0000,  0.0000,\n",
      "         0.0000,  0.0000,  0.0000,  0.0000,  0.0000,  0.0000])\n",
      "avg. decision time:  0.821751618385315\n",
      "obs. reward:  -145.67966\n",
      "act. reward:  -0.13383412\n"
     ]
    },
    {
     "name": "stderr",
     "output_type": "stream",
     "text": [
      "Network training: 100%|██████████| 10/10 [00:04<00:00,  2.14epoch(s)/s, Training loss MSE=1.9915016]\n"
     ]
    },
    {
     "name": "stdout",
     "output_type": "stream",
     "text": [
      "Iteration:  23\n",
      "Initial state:  tensor([-0.7528,  1.4370, -0.2040, -1.1921, -0.0062,  0.2165,  0.0000,  0.0000,\n",
      "         0.0000,  0.0000,  0.0000,  0.0000,  0.0000,  0.0000])\n",
      "avg. decision time:  0.8216081730524699\n",
      "obs. reward:  -86.63938\n",
      "act. reward:  -0.19130562\n"
     ]
    },
    {
     "name": "stderr",
     "output_type": "stream",
     "text": [
      "Network training: 100%|██████████| 10/10 [00:05<00:00,  1.91epoch(s)/s, Training loss MSE=1.8797207]\n"
     ]
    },
    {
     "name": "stdout",
     "output_type": "stream",
     "text": [
      "Iteration:  24\n",
      "Initial state:  tensor([-0.7528,  1.4370, -0.2040, -1.1921, -0.0062,  0.2165,  0.0000,  0.0000,\n",
      "         0.0000,  0.0000,  0.0000,  0.0000,  0.0000,  0.0000])\n",
      "avg. decision time:  0.8203052552541097\n",
      "obs. reward:  -71.01087\n",
      "act. reward:  -0.2442984\n"
     ]
    },
    {
     "name": "stderr",
     "output_type": "stream",
     "text": [
      "Network training: 100%|██████████| 10/10 [00:04<00:00,  2.02epoch(s)/s, Training loss MSE=1.8600272]\n"
     ]
    },
    {
     "name": "stdout",
     "output_type": "stream",
     "text": [
      "Iteration:  25\n",
      "Initial state:  tensor([-0.7528,  1.4370, -0.2040, -1.1921, -0.0062,  0.2165,  0.0000,  0.0000,\n",
      "         0.0000,  0.0000,  0.0000,  0.0000,  0.0000,  0.0000])\n",
      "avg. decision time:  0.821362460454305\n",
      "obs. reward:  -119.565575\n",
      "act. reward:  -0.28629142\n"
     ]
    },
    {
     "name": "stderr",
     "output_type": "stream",
     "text": [
      "Network training: 100%|██████████| 10/10 [00:05<00:00,  1.77epoch(s)/s, Training loss MSE=1.8488501]\n"
     ]
    },
    {
     "name": "stdout",
     "output_type": "stream",
     "text": [
      "Iteration:  26\n",
      "Initial state:  tensor([-0.7528,  1.4370, -0.2040, -1.1921, -0.0062,  0.2165,  0.0000,  0.0000,\n",
      "         0.0000,  0.0000,  0.0000,  0.0000,  0.0000,  0.0000])\n",
      "avg. decision time:  0.821977079709371\n",
      "obs. reward:  -42.205956\n",
      "act. reward:  -0.22532621\n"
     ]
    },
    {
     "name": "stderr",
     "output_type": "stream",
     "text": [
      "Network training: 100%|██████████| 10/10 [00:06<00:00,  1.58epoch(s)/s, Training loss MSE=2.0937448]\n"
     ]
    },
    {
     "name": "stdout",
     "output_type": "stream",
     "text": [
      "Iteration:  27\n",
      "Initial state:  tensor([-0.7528,  1.4370, -0.2040, -1.1921, -0.0062,  0.2165,  0.0000,  0.0000,\n",
      "         0.0000,  0.0000,  0.0000,  0.0000,  0.0000,  0.0000])\n",
      "avg. decision time:  0.8219631719589233\n",
      "obs. reward:  -57.891212\n",
      "act. reward:  -0.15473944\n"
     ]
    },
    {
     "name": "stderr",
     "output_type": "stream",
     "text": [
      "Network training: 100%|██████████| 10/10 [00:05<00:00,  1.76epoch(s)/s, Training loss MSE=1.8650391]\n"
     ]
    },
    {
     "name": "stdout",
     "output_type": "stream",
     "text": [
      "Iteration:  28\n",
      "Initial state:  tensor([-0.7528,  1.4370, -0.2040, -1.1921, -0.0062,  0.2165,  0.0000,  0.0000,\n",
      "         0.0000,  0.0000,  0.0000,  0.0000,  0.0000,  0.0000])\n",
      "avg. decision time:  0.8229326407114664\n",
      "obs. reward:  -102.050735\n",
      "act. reward:  -0.030711588\n"
     ]
    },
    {
     "name": "stderr",
     "output_type": "stream",
     "text": [
      "Network training: 100%|██████████| 10/10 [00:05<00:00,  1.77epoch(s)/s, Training loss MSE=1.8015454]"
     ]
    },
    {
     "name": "stdout",
     "output_type": "stream",
     "text": [
      "Iteration:  29\n",
      "Initial state:  tensor([-0.7528,  1.4370, -0.2040, -1.1921, -0.0062,  0.2165,  0.0000,  0.0000,\n",
      "         0.0000,  0.0000,  0.0000,  0.0000,  0.0000,  0.0000])\n",
      "avg. decision time:  0.8208371082941691\n",
      "obs. reward:  -180.91792\n",
      "act. reward:  -0.19340628\n"
     ]
    },
    {
     "name": "stderr",
     "output_type": "stream",
     "text": [
      "\n"
     ]
    }
   ],
   "source": [
    "lip_reg = False\n",
    "\n",
    "if lip_reg:\n",
    "    controller.regularize(1)\n",
    "    file_name = savepath + 'data_pd_reg'\n",
    "else: \n",
    "    controller.regularize(0)\n",
    "    file_name = savepath + 'data_pd_noreg'\n",
    "    \n",
    "_ = learner.learn(50, verbose=True)\n",
    "learner.save_training_data(file_name)"
   ]
  },
  {
   "cell_type": "code",
   "execution_count": 28,
   "metadata": {},
   "outputs": [
    {
     "name": "stderr",
     "output_type": "stream",
     "text": [
      "Network training: 100%|██████████| 10/10 [00:06<00:00,  1.50epoch(s)/s, Training loss MSE=2.9480522]"
     ]
    },
    {
     "name": "stdout",
     "output_type": "stream",
     "text": [
      "Iteration:  0\n",
      "Initial state:  tensor([-0.7528,  1.4370, -0.2040, -1.1921, -0.0062,  0.2165,  0.0000,  0.0000,\n",
      "         0.0000,  0.0000,  0.0000,  0.0000,  0.0000,  0.0000])\n",
      "avg. decision time:  0.8230135822296143\n",
      "obs. reward:  -34.7302\n",
      "act. reward:  -0.24584657\n"
     ]
    },
    {
     "name": "stderr",
     "output_type": "stream",
     "text": [
      "\n"
     ]
    }
   ],
   "source": [
    "controller.regularize(0)\n",
    "_ = learner.learn(1, verbose=True)"
   ]
  },
  {
   "cell_type": "code",
   "execution_count": 29,
   "metadata": {},
   "outputs": [
    {
     "name": "stdout",
     "output_type": "stream",
     "text": [
      "avg. decision time:  0.8210671377182007\n",
      "obs. reward:  -25.92201\n",
      "act. reward:  -0.16930267\n"
     ]
    }
   ],
   "source": [
    "traj, log = task.perform(task.goal, controller)\n",
    "act_seq = traj[:, nx:nx+na]\n",
    "initial_obs = traj[0, :nx]\n",
    "final_obs = traj[-1, :nx]"
   ]
  },
  {
   "cell_type": "code",
   "execution_count": 30,
   "metadata": {},
   "outputs": [
    {
     "name": "stdout",
     "output_type": "stream",
     "text": [
      "tensor(15.4677, grad_fn=<MeanBackward0>)\n",
      "tensor(21.8611, grad_fn=<StdBackward0>)\n"
     ]
    }
   ],
   "source": [
    "n_sample = 50\n",
    "traj_pred = dynamics.unroll(initial_obs, \n",
    "                            act_seq, \n",
    "                            n_sample)\n",
    "\n",
    "predicted_err = torch.norm(traj_pred[-1, :, :]-final_obs.expand(n_sample, -1), p=2, dim=1)\n",
    "print (predicted_err.mean())\n",
    "print (predicted_err.std())"
   ]
  },
  {
   "cell_type": "code",
   "execution_count": 31,
   "metadata": {},
   "outputs": [],
   "source": [
    "task_horizon = task.task_horizon\n",
    "ee_pred = torch.zeros(task_horizon, n_sample, 3)\n",
    "ee = torch.zeros(task_horizon, 3)\n",
    "\n",
    "for n in range(task_horizon):\n",
    "    ee_pred[n] = task.cost.fwk(traj_pred[n,:,:nq], 6)[:, :3, 3]\n",
    "    ee[n] = task.cost.fwk(traj[n:n+1,:nq], 6)[:, :3, 3]"
   ]
  },
  {
   "cell_type": "code",
   "execution_count": 32,
   "metadata": {},
   "outputs": [],
   "source": [
    "ee_pred_mean = torch.mean(ee_pred, dim=1)\n",
    "ee_pred_std = torch.std(ee_pred, dim=1)\n",
    "\n",
    "ee_pred_mean_np = ee_pred_mean.detach().cpu().numpy()\n",
    "ee_pred_std_np = ee_pred_std.detach().cpu().numpy()\n",
    "ee_np = ee.detach().cpu().numpy()\n",
    "\n",
    "goal = task.cost.goal.repeat(task_horizon, 1)\n",
    "goal = goal.detach().cpu().numpy()"
   ]
  },
  {
   "cell_type": "code",
   "execution_count": 33,
   "metadata": {},
   "outputs": [
    {
     "data": {
      "image/png": "[encoded data removed]",
      "text/plain": [
       "<Figure size 720x1296 with 3 Axes>"
      ]
     },
     "metadata": {
      "needs_background": "light"
     },
     "output_type": "display_data"
    }
   ],
   "source": [
    "d = 3\n",
    "dt = dt_control\n",
    "fig, ax = plt.subplots(d, figsize=(10, d * 6))\n",
    "t = np.arange(0.0, task_horizon*dt, dt)\n",
    "dlb = ee_pred_mean_np - ee_pred_std_np\n",
    "ub = ee_pred_mean_np + ee_pred_std_np\n",
    "\n",
    "for i in range(d):\n",
    "    ax[i].plot(t, ee_np[:, i], lw=4, color='orange', label='actual')\n",
    "    ax[i].plot(t, ee_pred_mean_np[:, i], lw=4, color='b', label='predicted mean')\n",
    "    ax[i].plot(t, goal[:, i], lw=2, color='k', ls='-.', label='goal')\n",
    "    lb = ee_pred_mean_np - ee_pred_std_np\n",
    "    ub = ee_pred_mean_np + ee_pred_std_np\n",
    "    ax[i].fill_between(t, lb[:, i], ub[:, i], facecolor='blue',\n",
    "                alpha=0.2)\n",
    "    _ = ax[i].grid()\n",
    "#     _ = ax[i].set_ylim([-3.2, 3.2])\n",
    "#     ax[i].legend(loc='upper center', bbox_to_anchor=(0.5, 1.3),\n",
    "#              ncol=3, fancybox=True, shadow=True)\n",
    "# fig.savefig('prediction_with_reg_150steps' + '.png', bbox_inches='tight')"
   ]
  },
  {
   "cell_type": "code",
   "execution_count": 34,
   "metadata": {
    "scrolled": false
   },
   "outputs": [],
   "source": [
    "# traj_pred_mean = torch.mean(traj_pred, dim=1)\n",
    "# traj_pred_std = torch.std(traj_pred, dim=1)\n",
    "\n",
    "# traj_pred_mean_np = traj_pred_mean.detach().cpu().numpy()\n",
    "# traj_pred_std_np = traj_pred_std.detach().cpu().numpy()\n",
    "# traj_np = traj.detach().cpu().numpy()\n",
    "\n",
    "# desired = task.cost.desired.repeat((task_horizon, 1))\n",
    "# desired = desired.detach().cpu().numpy()\n",
    "\n",
    "# d = nq\n",
    "# dt = dt_control\n",
    "# fig, ax = plt.subplots(d, figsize=(10, d * 6))\n",
    "# t = np.arange(0.0, task_horizon*dt, dt)\n",
    "# dlb = traj_pred_mean_np - traj_pred_std_np\n",
    "# ub = traj_pred_mean_np + traj_pred_std_np\n",
    "\n",
    "# for i in range(d):\n",
    "#     ax[i].plot(t, traj_np[:, i], lw=4, color='orange', label='actual')\n",
    "#     ax[i].plot(t, traj_pred_mean_np[:, i], lw=4, color='b', label='predicted mean')\n",
    "#     ax[i].plot(t, desired[:, i], lw=2, color='k', ls='-.', label='desired')\n",
    "#     lb = traj_pred_mean_np - traj_pred_std_np\n",
    "#     ub = traj_pred_mean_np + traj_pred_std_np\n",
    "#     ax[i].fill_between(t, lb[:, i], ub[:, i], facecolor='blue',\n",
    "#                 alpha=0.2)\n",
    "#     _ = ax[i].grid()\n",
    "# #     _ = ax[i].set_ylim([-3.2, 3.2])\n",
    "# #     ax[i].legend(loc='upper center', bbox_to_anchor=(0.5, 1.3),\n",
    "# #              ncol=3, fancybox=True, shadow=True)\n",
    "# # fig.savefig('prediction_with_reg_150steps' + '.png', bbox_inches='tight')"
   ]
  },
  {
   "cell_type": "code",
   "execution_count": null,
   "metadata": {},
   "outputs": [],
   "source": []
  }
 ],
 "metadata": {
  "kernelspec": {
   "display_name": "Python 3",
   "language": "python",
   "name": "python3"
  },
  "language_info": {
   "codemirror_mode": {
    "name": "ipython",
    "version": 3
   },
   "file_extension": ".py",
   "mimetype": "text/x-python",
   "name": "python",
   "nbconvert_exporter": "python",
   "pygments_lexer": "ipython3",
   "version": "3.7.4"
  }
 },
 "nbformat": 4,
 "nbformat_minor": 2
}
