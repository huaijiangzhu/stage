{
 "cells": [
  {
   "cell_type": "code",
   "execution_count": 1,
   "metadata": {},
   "outputs": [],
   "source": [
    "%matplotlib inline\n",
    "%load_ext autoreload\n",
    "%autoreload 2"
   ]
  },
  {
   "cell_type": "code",
   "execution_count": 2,
   "metadata": {},
   "outputs": [],
   "source": [
    "import os\n",
    "import inspect\n",
    "currentdir = os.path.dirname(os.path.abspath(\n",
    "    inspect.getfile(inspect.currentframe())))\n",
    "parentdir = os.path.dirname(currentdir)\n",
    "os.sys.path.insert(1, parentdir+'/src')\n",
    "import torch\n",
    "import torch.nn.functional as F\n",
    "from torchvision import transforms\n",
    "import numpy as np\n",
    "import time\n",
    "from tqdm import trange\n",
    "import matplotlib.pyplot as plt\n",
    "import matplotlib"
   ]
  },
  {
   "cell_type": "code",
   "execution_count": 3,
   "metadata": {},
   "outputs": [],
   "source": [
    "import gym\n",
    "import pybullet as p\n",
    "import stage.envs\n",
    "from stage.tasks.onelink.reaching import OneLinkReaching\n",
    "from stage.utils.nn import use_gpu\n",
    "use_gpu()"
   ]
  },
  {
   "cell_type": "code",
   "execution_count": 4,
   "metadata": {},
   "outputs": [],
   "source": [
    "savepath = parentdir + '/data/onelink/'"
   ]
  },
  {
   "cell_type": "code",
   "execution_count": 5,
   "metadata": {},
   "outputs": [],
   "source": [
    "task = OneLinkReaching(render=False)\n",
    "\n",
    "# Read task parameters, should we use a separate class to wrap this?\n",
    "\n",
    "nx, nq, nv, nu = task.nx, task.nq, task.nv, task.nu\n",
    "dt_control, dt_env = task.dt_control, task.dt_env\n",
    "q_lb, q_ub = task.q_lb, task.q_ub"
   ]
  },
  {
   "cell_type": "code",
   "execution_count": 6,
   "metadata": {},
   "outputs": [],
   "source": [
    "# Setup action parameterization\n",
    "\n",
    "from stage.controllers.actor import Actor\n",
    "from stage.controllers.trivial import Identity\n",
    "from stage.controllers.pd import PD\n",
    "from stage.controllers.mlp import MLP\n",
    "\n",
    "# action_ub = torch.Tensor(task.env.action_space.high)\n",
    "# action_lb = torch.Tensor(task.env.action_space.low)\n",
    "# actor = Actor(na, Identity(nx, nq, nv, nu), action_lb, action_ub)\n",
    "\n",
    "gain_ub = 50 * torch.ones((nq))\n",
    "gain_lb = 0. * torch.ones((nq))\n",
    "action_ub = torch.cat((gain_ub, q_ub))\n",
    "action_lb = torch.cat((gain_lb, q_lb))\n",
    "actor = Actor(PD(nx, nq, nv, nu), action_lb, action_ub)\n",
    "na = actor.na\n",
    "\n",
    "# actor = Actor(MLP(nx, nq, nv, nu))\n",
    "# na = actor.na\n",
    "# actor.action_lb, actor.action_ub = -torch.ones(na), torch.ones(na)\n",
    "\n",
    "task.cost.actor = actor "
   ]
  },
  {
   "cell_type": "code",
   "execution_count": 7,
   "metadata": {},
   "outputs": [],
   "source": [
    "# Setup model learning\n",
    "\n",
    "from stage.dynamics.probabilistic_ensemble import ProbabilisticEnsemble, DefaultDx\n",
    "\n",
    "ensemble_size = 5\n",
    "nn_epochs = 10\n",
    "batch_size = 64\n",
    "    \n",
    "dynamics = ProbabilisticEnsemble(nx, nq, nv, na, dt_control, \n",
    "                                 DefaultDx,\n",
    "                                 ensemble_size, \n",
    "                                 learning_rate = 0.001)"
   ]
  },
  {
   "cell_type": "code",
   "execution_count": 8,
   "metadata": {},
   "outputs": [],
   "source": [
    "# Setup controller\n",
    "\n",
    "from stage.controllers.pets import PETS\n",
    "\n",
    "plan_horizon = 30\n",
    "n_particles = 10\n",
    "pop_size = 400\n",
    "assert n_particles % ensemble_size == 0\n",
    "\n",
    "controller = PETS(dynamics, task.cost, actor,\n",
    "                  plan_horizon, n_particles, pop_size)"
   ]
  },
  {
   "cell_type": "code",
   "execution_count": 9,
   "metadata": {},
   "outputs": [],
   "source": [
    "# Setup learner\n",
    "\n",
    "from stage.learners.learn_and_control_model import LearnAndControlModel\n",
    "learner = LearnAndControlModel(task, dynamics, controller)"
   ]
  },
  {
   "cell_type": "code",
   "execution_count": 10,
   "metadata": {
    "scrolled": false
   },
   "outputs": [
    {
     "name": "stderr",
     "output_type": "stream",
     "text": [
      "Network training: 100%|██████████| 10/10 [00:00<00:00, 30.72epoch(s)/s, Training loss MSE=0.0009178632]\n"
     ]
    },
    {
     "name": "stdout",
     "output_type": "stream",
     "text": [
      "Iteration:  0\n",
      "Initial state:  tensor([1.5708, 0.0000])\n",
      "avg. decision time:  0.005282340049743653\n",
      "obs. reward:  -228.72165\n",
      "act. reward:  -0.0004761278\n"
     ]
    },
    {
     "name": "stderr",
     "output_type": "stream",
     "text": [
      "Network training: 100%|██████████| 10/10 [00:00<00:00, 10.88epoch(s)/s, Training loss MSE=0.0053144475]\n"
     ]
    },
    {
     "name": "stdout",
     "output_type": "stream",
     "text": [
      "Iteration:  1\n",
      "Initial state:  tensor([1.5708, 0.0000])\n",
      "avg. decision time:  0.15722499132156373\n",
      "obs. reward:  -277.70322\n",
      "act. reward:  -0.00010741178\n"
     ]
    },
    {
     "name": "stderr",
     "output_type": "stream",
     "text": [
      "Network training: 100%|██████████| 10/10 [00:01<00:00,  7.46epoch(s)/s, Training loss MSE=0.0032334113]\n"
     ]
    },
    {
     "name": "stdout",
     "output_type": "stream",
     "text": [
      "Iteration:  2\n",
      "Initial state:  tensor([1.5708, 0.0000])\n",
      "avg. decision time:  0.15867835998535157\n",
      "obs. reward:  -233.38788\n",
      "act. reward:  -0.00010795538\n"
     ]
    },
    {
     "name": "stderr",
     "output_type": "stream",
     "text": [
      "Network training: 100%|██████████| 10/10 [00:01<00:00,  6.17epoch(s)/s, Training loss MSE=0.00047031528]\n"
     ]
    },
    {
     "name": "stdout",
     "output_type": "stream",
     "text": [
      "Iteration:  3\n",
      "Initial state:  tensor([1.5708, 0.0000])\n",
      "avg. decision time:  0.15766765832901\n",
      "obs. reward:  -232.31067\n",
      "act. reward:  -4.6137207e-05\n"
     ]
    },
    {
     "name": "stderr",
     "output_type": "stream",
     "text": [
      "Network training: 100%|██████████| 10/10 [00:01<00:00,  5.06epoch(s)/s, Training loss MSE=8.01633e-05] \n"
     ]
    },
    {
     "name": "stdout",
     "output_type": "stream",
     "text": [
      "Iteration:  4\n",
      "Initial state:  tensor([1.5708, 0.0000])\n",
      "avg. decision time:  0.1592770004272461\n",
      "obs. reward:  -253.2622\n",
      "act. reward:  -7.6264354e-05\n"
     ]
    },
    {
     "name": "stderr",
     "output_type": "stream",
     "text": [
      "Network training: 100%|██████████| 10/10 [00:02<00:00,  4.23epoch(s)/s, Training loss MSE=7.680491e-05]\n"
     ]
    },
    {
     "name": "stdout",
     "output_type": "stream",
     "text": [
      "Iteration:  5\n",
      "Initial state:  tensor([1.5708, 0.0000])\n",
      "avg. decision time:  0.15922395944595336\n",
      "obs. reward:  -137.56006\n",
      "act. reward:  -0.00042804246\n"
     ]
    },
    {
     "name": "stderr",
     "output_type": "stream",
     "text": [
      "Network training: 100%|██████████| 10/10 [00:02<00:00,  3.67epoch(s)/s, Training loss MSE=5.910841e-05]\n"
     ]
    },
    {
     "name": "stdout",
     "output_type": "stream",
     "text": [
      "Iteration:  6\n",
      "Initial state:  tensor([1.5708, 0.0000])\n",
      "avg. decision time:  0.15939234733581542\n",
      "obs. reward:  -133.33708\n",
      "act. reward:  -0.0005128687\n"
     ]
    },
    {
     "name": "stderr",
     "output_type": "stream",
     "text": [
      "Network training: 100%|██████████| 10/10 [00:02<00:00,  3.66epoch(s)/s, Training loss MSE=7.622252e-05]\n"
     ]
    },
    {
     "name": "stdout",
     "output_type": "stream",
     "text": [
      "Iteration:  7\n",
      "Initial state:  tensor([1.5708, 0.0000])\n",
      "avg. decision time:  0.15979021549224853\n",
      "obs. reward:  -149.28407\n",
      "act. reward:  -0.00023124013\n"
     ]
    },
    {
     "name": "stderr",
     "output_type": "stream",
     "text": [
      "Network training: 100%|██████████| 10/10 [00:03<00:00,  2.76epoch(s)/s, Training loss MSE=5.2716423e-05]\n"
     ]
    },
    {
     "name": "stdout",
     "output_type": "stream",
     "text": [
      "Iteration:  8\n",
      "Initial state:  tensor([1.5708, 0.0000])\n",
      "avg. decision time:  0.158820059299469\n",
      "obs. reward:  -100.694984\n",
      "act. reward:  -0.0011549458\n"
     ]
    },
    {
     "name": "stderr",
     "output_type": "stream",
     "text": [
      "Network training: 100%|██████████| 10/10 [00:03<00:00,  2.56epoch(s)/s, Training loss MSE=7.366042e-05]"
     ]
    },
    {
     "name": "stdout",
     "output_type": "stream",
     "text": [
      "Iteration:  9\n",
      "Initial state:  tensor([1.5708, 0.0000])\n",
      "avg. decision time:  0.16228952407836914\n",
      "obs. reward:  -117.91503\n",
      "act. reward:  -0.0008454842\n"
     ]
    },
    {
     "name": "stderr",
     "output_type": "stream",
     "text": [
      "\n"
     ]
    }
   ],
   "source": [
    "controller.regularize(0)\n",
    "_ = learner.learn(10, verbose=True)\n",
    "learner.save_training_data(savepath+'data_pd_reg')"
   ]
  },
  {
   "cell_type": "code",
   "execution_count": 11,
   "metadata": {},
   "outputs": [
    {
     "name": "stdout",
     "output_type": "stream",
     "text": [
      "avg. decision time:  0.1616082549095154\n",
      "obs. reward:  -6559.362\n",
      "act. reward:  -16.720232\n"
     ]
    }
   ],
   "source": [
    "controller.regularize(0)\n",
    "traj, log = task.perform(task.goal, controller)\n",
    "act_seq = traj[:, nx:nx+na]\n",
    "initial_obs = traj[0, :nx]\n",
    "final_obs = traj[-1, :nx]"
   ]
  },
  {
   "cell_type": "code",
   "execution_count": 12,
   "metadata": {},
   "outputs": [
    {
     "name": "stdout",
     "output_type": "stream",
     "text": [
      "tensor(93.1496, grad_fn=<MeanBackward0>)\n",
      "tensor(1.1697, grad_fn=<StdBackward0>)\n"
     ]
    }
   ],
   "source": [
    "n_sample = 50\n",
    "traj_pred = dynamics.unroll(initial_obs, \n",
    "                            act_seq, \n",
    "                            n_sample)\n",
    "if n_sample > 0:\n",
    "    predicted_err = torch.norm(traj_pred[-1, :, :]-final_obs.expand(n_sample, -1), p=2, dim=1)\n",
    "    print (predicted_err.mean())\n",
    "    print (predicted_err.std())\n",
    "else:\n",
    "    predicted_err = torch.norm(traj_pred[-1, :, :]-final_obs, p=2, dim=1)\n",
    "    print (predicted_err)"
   ]
  },
  {
   "cell_type": "code",
   "execution_count": 13,
   "metadata": {},
   "outputs": [],
   "source": [
    "task_horizon = task.task_horizon\n",
    "\n",
    "traj_pred_mean = torch.mean(traj_pred, dim=1)\n",
    "traj_pred_std = torch.std(traj_pred, dim=1)\n",
    "traj_pred_mean = traj_pred_mean.detach().cpu().numpy()\n",
    "traj_pred_std = traj_pred_std.detach().cpu().numpy()\n",
    "traj = traj.detach().cpu().numpy()\n",
    "\n",
    "desired = task.cost.desired.repeat((task_horizon, 1))\n",
    "desired = desired.detach().cpu().numpy()"
   ]
  },
  {
   "cell_type": "code",
   "execution_count": 14,
   "metadata": {},
   "outputs": [],
   "source": [
    "font = {'family' : 'serif',\n",
    "        'size'   : 22}\n",
    "\n",
    "matplotlib.rc('font', **font)\n",
    "np.set_printoptions(precision=3, linewidth=200, suppress=True)"
   ]
  },
  {
   "cell_type": "code",
   "execution_count": 15,
   "metadata": {
    "scrolled": false
   },
   "outputs": [
    {
     "data": {
      "image/png": "[encoded data removed]",
      "text/plain": [
       "<Figure size 720x432 with 1 Axes>"
      ]
     },
     "metadata": {
      "needs_background": "light"
     },
     "output_type": "display_data"
    }
   ],
   "source": [
    "d = nq\n",
    "dt = dt_control\n",
    "fig, ax = plt.subplots(d, figsize=(10, d * 6))\n",
    "t = np.arange(0.0, task_horizon*dt, dt)\n",
    "dlb = traj_pred_mean - traj_pred_std\n",
    "ub = traj_pred_mean + traj_pred_std\n",
    "\n",
    "for i in range(d):\n",
    "    ax.plot(t, traj[:, i], lw=4, color='orange', label='actual')\n",
    "    ax.plot(t, traj_pred_mean[:, i], lw=4, color='b', label='predicted mean')\n",
    "    ax.plot(t, desired[:, i], lw=2, color='k', ls='-.', label='desired')\n",
    "    lb = traj_pred_mean - traj_pred_std\n",
    "    ub = traj_pred_mean + traj_pred_std\n",
    "    ax.fill_between(t, lb[:, i], ub[:, i], facecolor='blue',\n",
    "                alpha=0.2)\n",
    "    _ = ax.grid()\n",
    "    _ = ax.set_ylim([-3.2, 3.2])\n",
    "    ax.legend(loc='upper center', bbox_to_anchor=(0.5, 1.3),\n",
    "             ncol=3, fancybox=True, shadow=True)\n",
    "# fig.savefig('prediction_with_reg_150steps' + '.png', bbox_inches='tight')"
   ]
  }
 ],
 "metadata": {
  "kernelspec": {
   "display_name": "Python 3",
   "language": "python",
   "name": "python3"
  },
  "language_info": {
   "codemirror_mode": {
    "name": "ipython",
    "version": 3
   },
   "file_extension": ".py",
   "mimetype": "text/x-python",
   "name": "python",
   "nbconvert_exporter": "python",
   "pygments_lexer": "ipython3",
   "version": "3.6.9"
  }
 },
 "nbformat": 4,
 "nbformat_minor": 2
}
