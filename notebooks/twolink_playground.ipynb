{
 "cells": [
  {
   "cell_type": "code",
   "execution_count": 1,
   "metadata": {},
   "outputs": [],
   "source": [
    "%matplotlib inline\n",
    "%load_ext autoreload\n",
    "%autoreload 2"
   ]
  },
  {
   "cell_type": "code",
   "execution_count": 2,
   "metadata": {},
   "outputs": [],
   "source": [
    "import os\n",
    "import inspect\n",
    "currentdir = os.path.dirname(os.path.abspath(\n",
    "    inspect.getfile(inspect.currentframe())))\n",
    "parentdir = os.path.dirname(currentdir)\n",
    "os.sys.path.insert(1, parentdir+'/src')\n",
    "import torch\n",
    "import torch.nn.functional as F\n",
    "from torchvision import transforms\n",
    "import numpy as np\n",
    "import time\n",
    "from tqdm import trange\n",
    "import matplotlib.pyplot as plt\n",
    "import matplotlib"
   ]
  },
  {
   "cell_type": "code",
   "execution_count": 3,
   "metadata": {},
   "outputs": [],
   "source": [
    "import gym\n",
    "import pybullet as p\n",
    "import stage.envs\n",
    "from stage.tasks.twolink.reaching import TwoLinkReaching\n",
    "from stage.utils.nn import use_gpu\n",
    "use_gpu()"
   ]
  },
  {
   "cell_type": "code",
   "execution_count": 4,
   "metadata": {},
   "outputs": [],
   "source": [
    "savepath = parentdir + '/data/twolink/'"
   ]
  },
  {
   "cell_type": "code",
   "execution_count": 5,
   "metadata": {},
   "outputs": [],
   "source": [
    "task = TwoLinkReaching(render=False)\n",
    "\n",
    "# Read task parameters, should we use a separate class to wrap this?\n",
    "\n",
    "nq, nv, nu, nx = task.nq, task.nv, task.nu, task.nx\n",
    "dt_control, dt_env = task.dt_control, task.dt_env\n",
    "q_lb, q_ub = task.q_lb, task.q_ub"
   ]
  },
  {
   "cell_type": "code",
   "execution_count": 6,
   "metadata": {},
   "outputs": [],
   "source": [
    "# Setup action parameterization\n",
    "\n",
    "from stage.controllers.actor import Actor\n",
    "from stage.controllers.trivial import Identity\n",
    "from stage.controllers.pd import PD\n",
    "\n",
    "\n",
    "# na = 2\n",
    "# action_ub = torch.Tensor(task.env.action_space.high)\n",
    "# action_lb = torch.Tensor(task.env.action_space.low)\n",
    "\n",
    "# actor = Actor(na, Identity(nq, nv, nu), action_lb, action_ub)\n",
    "\n",
    "na = 4\n",
    "gain_ub = 50 * torch.ones((nq))\n",
    "gain_lb = 0. * torch.ones((nq))\n",
    "\n",
    "action_ub = torch.cat((gain_ub, q_ub))\n",
    "action_lb = torch.cat((gain_lb, q_lb))\n",
    "\n",
    "actor = Actor(na, PD(nq, nv, nu), action_lb, action_ub)"
   ]
  },
  {
   "cell_type": "code",
   "execution_count": 7,
   "metadata": {},
   "outputs": [],
   "source": [
    "# Setup model learning\n",
    "\n",
    "# from stage.dynamics.mlp import MLPDynEnsemble, DefaultDx\n",
    "from stage.dynamics.probabilistic_ensemble import ProbabilisticEnsemble, DefaultDx\n",
    "\n",
    "\n",
    "ensemble_size = 5\n",
    "nn_epochs = 10\n",
    "batch_size = 64\n",
    "    \n",
    "# dynamics = MLPDynEnsemble(ensemble_size, nx, nq, nv, na, dt_control, DefaultDx)\n",
    "dynamics = ProbabilisticEnsemble(nq, nv, na, dt_control, \n",
    "                                 DefaultDx,\n",
    "                                 ensemble_size, \n",
    "                                 learning_rate = 0.001)"
   ]
  },
  {
   "cell_type": "code",
   "execution_count": 8,
   "metadata": {},
   "outputs": [],
   "source": [
    "# Setup controller\n",
    "from stage.controllers.trivial import RandomController\n",
    "\n",
    "controller = RandomController(nx, actor)"
   ]
  },
  {
   "cell_type": "code",
   "execution_count": 9,
   "metadata": {},
   "outputs": [],
   "source": [
    "# Setup learner\n",
    "\n",
    "from stage.learners.learn_and_control_model import LearnAndControlModel\n",
    "learner = LearnAndControlModel(task, dynamics, controller)"
   ]
  },
  {
   "cell_type": "code",
   "execution_count": 10,
   "metadata": {
    "scrolled": false
   },
   "outputs": [
    {
     "name": "stderr",
     "output_type": "stream",
     "text": [
      "Network training: 100%|██████████| 10/10 [00:00<00:00, 21.99epoch(s)/s, Training loss MSE=0.7230576]\n"
     ]
    },
    {
     "name": "stdout",
     "output_type": "stream",
     "text": [
      "Iteration:  0\n",
      "avg. decision time:  0.004405312538146973\n",
      "obs. reward:  -318.40973\n",
      "act. reward:  -1.0960972\n"
     ]
    },
    {
     "name": "stderr",
     "output_type": "stream",
     "text": [
      "Network training: 100%|██████████| 10/10 [00:01<00:00,  7.19epoch(s)/s, Training loss MSE=0.73987085]\n"
     ]
    },
    {
     "name": "stdout",
     "output_type": "stream",
     "text": [
      "Iteration:  1\n",
      "avg. decision time:  0.004728305339813233\n",
      "obs. reward:  -224.91487\n",
      "act. reward:  -1.3823042\n"
     ]
    },
    {
     "name": "stderr",
     "output_type": "stream",
     "text": [
      "Network training: 100%|██████████| 10/10 [00:01<00:00,  5.12epoch(s)/s, Training loss MSE=0.43013883]\n"
     ]
    },
    {
     "name": "stdout",
     "output_type": "stream",
     "text": [
      "Iteration:  2\n",
      "avg. decision time:  0.004859273433685303\n",
      "obs. reward:  -245.45967\n",
      "act. reward:  -1.3276756\n"
     ]
    },
    {
     "name": "stderr",
     "output_type": "stream",
     "text": [
      "Network training: 100%|██████████| 10/10 [00:01<00:00,  5.85epoch(s)/s, Training loss MSE=0.26986524]\n"
     ]
    },
    {
     "name": "stdout",
     "output_type": "stream",
     "text": [
      "Iteration:  3\n",
      "avg. decision time:  0.0047537612915039065\n",
      "obs. reward:  -221.50081\n",
      "act. reward:  -1.0783279\n"
     ]
    },
    {
     "name": "stderr",
     "output_type": "stream",
     "text": [
      "Network training: 100%|██████████| 10/10 [00:03<00:00,  3.20epoch(s)/s, Training loss MSE=0.21581532]\n"
     ]
    },
    {
     "name": "stdout",
     "output_type": "stream",
     "text": [
      "Iteration:  4\n",
      "avg. decision time:  0.0047918248176574705\n",
      "obs. reward:  -312.63757\n",
      "act. reward:  -0.91435754\n"
     ]
    },
    {
     "name": "stderr",
     "output_type": "stream",
     "text": [
      "Network training: 100%|██████████| 10/10 [00:03<00:00,  2.79epoch(s)/s, Training loss MSE=0.29607442]\n"
     ]
    },
    {
     "name": "stdout",
     "output_type": "stream",
     "text": [
      "Iteration:  5\n",
      "avg. decision time:  0.004826149940490723\n",
      "obs. reward:  -247.50487\n",
      "act. reward:  -1.2651376\n"
     ]
    },
    {
     "name": "stderr",
     "output_type": "stream",
     "text": [
      "Network training: 100%|██████████| 10/10 [00:04<00:00,  2.38epoch(s)/s, Training loss MSE=0.24852681]\n"
     ]
    },
    {
     "name": "stdout",
     "output_type": "stream",
     "text": [
      "Iteration:  6\n",
      "avg. decision time:  0.004887819290161133\n",
      "obs. reward:  -222.29575\n",
      "act. reward:  -1.211608\n"
     ]
    },
    {
     "name": "stderr",
     "output_type": "stream",
     "text": [
      "Network training: 100%|██████████| 10/10 [00:04<00:00,  2.10epoch(s)/s, Training loss MSE=0.2683723]\n"
     ]
    },
    {
     "name": "stdout",
     "output_type": "stream",
     "text": [
      "Iteration:  7\n",
      "avg. decision time:  0.004744060039520263\n",
      "obs. reward:  -199.00705\n",
      "act. reward:  -1.30006\n"
     ]
    },
    {
     "name": "stderr",
     "output_type": "stream",
     "text": [
      "Network training: 100%|██████████| 10/10 [00:05<00:00,  1.81epoch(s)/s, Training loss MSE=0.26362988]\n"
     ]
    },
    {
     "name": "stdout",
     "output_type": "stream",
     "text": [
      "Iteration:  8\n",
      "avg. decision time:  0.004724752902984619\n",
      "obs. reward:  -305.52057\n",
      "act. reward:  -1.2477485\n"
     ]
    },
    {
     "name": "stderr",
     "output_type": "stream",
     "text": [
      "Network training: 100%|██████████| 10/10 [00:06<00:00,  1.64epoch(s)/s, Training loss MSE=0.24206348]"
     ]
    },
    {
     "name": "stdout",
     "output_type": "stream",
     "text": [
      "Iteration:  9\n",
      "avg. decision time:  0.004682917594909668\n",
      "obs. reward:  -225.69661\n",
      "act. reward:  -1.1114298\n"
     ]
    },
    {
     "name": "stderr",
     "output_type": "stream",
     "text": [
      "\n"
     ]
    }
   ],
   "source": [
    "_ = learner.learn(10, verbose=True)\n",
    "learner.save_training_data(savepath+'data_pd_reg')"
   ]
  },
  {
   "cell_type": "code",
   "execution_count": 11,
   "metadata": {},
   "outputs": [
    {
     "name": "stdout",
     "output_type": "stream",
     "text": [
      "avg. decision time:  0.004561283588409424\n",
      "obs. reward:  -184.42328\n",
      "act. reward:  -1.2456077\n"
     ]
    }
   ],
   "source": [
    "traj, log = task.perform(task.goal, controller)\n",
    "act_seq = traj[:, nx:nx+na]\n",
    "initial_obs = traj[0, :nx]\n",
    "final_obs = traj[-1, :nx]"
   ]
  },
  {
   "cell_type": "code",
   "execution_count": 12,
   "metadata": {},
   "outputs": [
    {
     "name": "stdout",
     "output_type": "stream",
     "text": [
      "tensor(2.3186, grad_fn=<MeanBackward0>)\n",
      "tensor(4.7130, grad_fn=<StdBackward0>)\n"
     ]
    }
   ],
   "source": [
    "n_sample = 50\n",
    "traj_pred = dynamics.unroll(initial_obs, \n",
    "                            act_seq, \n",
    "                            n_sample)\n",
    "\n",
    "predicted_err = torch.norm(traj_pred[-1, :, :]-final_obs.expand(n_sample, -1), p=2, dim=1)\n",
    "print (predicted_err.mean())\n",
    "print (predicted_err.std())"
   ]
  },
  {
   "cell_type": "code",
   "execution_count": 13,
   "metadata": {},
   "outputs": [],
   "source": [
    "task_horizon = task.task_horizon\n",
    "\n",
    "traj_pred_mean = torch.mean(traj_pred, dim=1)\n",
    "traj_pred_std = torch.std(traj_pred, dim=1)\n",
    "traj_pred_mean = traj_pred_mean.detach().cpu().numpy()\n",
    "traj_pred_std = traj_pred_std.detach().cpu().numpy()\n",
    "traj = traj.detach().cpu().numpy()\n",
    "\n",
    "desired = task.step_cost.desired.repeat((task_horizon, 1))\n",
    "desired = desired.detach().cpu().numpy()"
   ]
  },
  {
   "cell_type": "code",
   "execution_count": 14,
   "metadata": {},
   "outputs": [],
   "source": [
    "font = {'family' : 'serif',\n",
    "        'size'   : 22}\n",
    "\n",
    "matplotlib.rc('font', **font)\n",
    "np.set_printoptions(precision=3, linewidth=200, suppress=True)"
   ]
  },
  {
   "cell_type": "code",
   "execution_count": 15,
   "metadata": {},
   "outputs": [],
   "source": [
    "# traj_pred_mean = np.load('traj_pred_mean.npy')\n",
    "# traj_pred_std = np.load('traj_pred_std.npy')\n",
    "# traj = np.load('traj.npy')"
   ]
  },
  {
   "cell_type": "code",
   "execution_count": 17,
   "metadata": {
    "scrolled": false
   },
   "outputs": [
    {
     "data": {
      "image/png": "[encoded data removed]",
      "text/plain": [
       "<Figure size 720x864 with 2 Axes>"
      ]
     },
     "metadata": {
      "needs_background": "light"
     },
     "output_type": "display_data"
    }
   ],
   "source": [
    "d = nq\n",
    "dt = dt_control\n",
    "fig, ax = plt.subplots(d, figsize=(10, d * 6))\n",
    "t = np.arange(0.0, task_horizon*dt, dt)\n",
    "dlb = traj_pred_mean - traj_pred_std\n",
    "ub = traj_pred_mean + traj_pred_std\n",
    "\n",
    "for i in range(d):\n",
    "    ax[i].plot(t, traj[:, i], lw=4, color='orange', label='actual')\n",
    "    ax[i].plot(t, traj_pred_mean[:, i], lw=4, color='b', label='predicted mean')\n",
    "    ax[i].plot(t, desired[:, i], lw=2, color='k', ls='-.', label='desired')\n",
    "    lb = traj_pred_mean - traj_pred_std\n",
    "    ub = traj_pred_mean + traj_pred_std\n",
    "    ax[i].fill_between(t, lb[:, i], ub[:, i], facecolor='blue',\n",
    "                alpha=0.2)\n",
    "    _ = ax[i].grid()\n",
    "    _ = ax[i].set_ylim([-3.2, 3.2])\n",
    "    ax[i].legend(loc='upper center', bbox_to_anchor=(0.5, 1.3),\n",
    "             ncol=3, fancybox=True, shadow=True)\n",
    "# fig.savefig('prediction_with_reg_150steps' + '.png', bbox_inches='tight')"
   ]
  },
  {
   "cell_type": "code",
   "execution_count": null,
   "metadata": {},
   "outputs": [],
   "source": []
  }
 ],
 "metadata": {
  "kernelspec": {
   "display_name": "Python 3",
   "language": "python",
   "name": "python3"
  },
  "language_info": {
   "codemirror_mode": {
    "name": "ipython",
    "version": 3
   },
   "file_extension": ".py",
   "mimetype": "text/x-python",
   "name": "python",
   "nbconvert_exporter": "python",
   "pygments_lexer": "ipython3",
   "version": "3.6.8"
  }
 },
 "nbformat": 4,
 "nbformat_minor": 2
}
