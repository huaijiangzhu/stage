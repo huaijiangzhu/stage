{
 "cells": [
  {
   "cell_type": "code",
   "execution_count": null,
   "metadata": {},
   "outputs": [],
   "source": [
    "%matplotlib inline\n",
    "%load_ext autoreload\n",
    "%autoreload 2"
   ]
  },
  {
   "cell_type": "code",
   "execution_count": null,
   "metadata": {},
   "outputs": [],
   "source": [
    "import os\n",
    "import inspect\n",
    "currentdir = os.path.dirname(os.path.abspath(\n",
    "    inspect.getfile(inspect.currentframe())))\n",
    "parentdir = os.path.dirname(currentdir)\n",
    "os.sys.path.insert(1, parentdir+'/src')\n",
    "import torch\n",
    "import torch.nn as nn\n",
    "import torch.nn.functional as F\n",
    "from torchvision import transforms\n",
    "import numpy as np\n",
    "import time\n",
    "from tqdm import trange\n",
    "import matplotlib.pyplot as plt\n",
    "import matplotlib"
   ]
  },
  {
   "cell_type": "code",
   "execution_count": null,
   "metadata": {},
   "outputs": [],
   "source": [
    "import gym\n",
    "import pybullet as p\n",
    "import stage.envs\n",
    "from stage.tasks.twolink.reaching import TwoLinkReaching\n",
    "from stage.utils.nn import use_gpu\n",
    "use_gpu()"
   ]
  },
  {
   "cell_type": "code",
   "execution_count": null,
   "metadata": {},
   "outputs": [],
   "source": [
    "X = 2\n",
    "A = 1\n",
    "XA = X + A"
   ]
  },
  {
   "cell_type": "code",
   "execution_count": null,
   "metadata": {},
   "outputs": [],
   "source": [
    "class Integrator(nn.Module):\n",
    "    \n",
    "    def __init__(self):\n",
    "        super().__init__()\n",
    "        self.dt = 0.01\n",
    "        self.X = 2\n",
    "        self.A = 1\n",
    "    def forward(self, x, a):\n",
    "        x_ = torch.zeros_like(x)\n",
    "        q, v = x[:, 0:1], x[:, 1:]\n",
    "        q = q + self.dt * v\n",
    "        v = v + self.dt * a\n",
    "        x_[:, 0:1] = q\n",
    "        x_[:, 1:] = v\n",
    "        return x_\n",
    "    def unroll(self, x, a_seq, horizon=None):\n",
    "        B, L, A = a_seq.shape        \n",
    "        if horizon is None:\n",
    "            horizon = L\n",
    "        S = torch.zeros(B, horizon, X + A)\n",
    "        for n in range(horizon):\n",
    "            a = a_seq[:, n, :]\n",
    "            x = self.forward(x, a)\n",
    "            xa = torch.cat((x,a), dim=1)\n",
    "            S[:, n, :] = xa\n",
    "\n",
    "        return S"
   ]
  },
  {
   "cell_type": "code",
   "execution_count": null,
   "metadata": {},
   "outputs": [],
   "source": [
    "class Cost(nn.Module):\n",
    "    def __init__(self):\n",
    "        super().__init__()\n",
    "        self.dt = 0.01    \n",
    "    def forward(self, x, a):\n",
    "        return x[:, 0:1] ** 2 + 1e-6*a[:, 0:1]"
   ]
  },
  {
   "cell_type": "code",
   "execution_count": null,
   "metadata": {},
   "outputs": [],
   "source": [
    "sys = Integrator()\n",
    "cost = Cost()\n",
    "x = torch.randn(1, X)"
   ]
  },
  {
   "cell_type": "markdown",
   "metadata": {},
   "source": [
    "### Single shooting"
   ]
  },
  {
   "cell_type": "code",
   "execution_count": null,
   "metadata": {},
   "outputs": [],
   "source": [
    "H = 90\n",
    "K = 10000\n",
    "E = 100\n",
    "mean = torch.zeros(H, A)\n",
    "var = (200**2)/16*torch.ones(H, A)\n",
    "\n",
    "clamp = lambda x: torch.max(torch.min(x, 100*torch.ones_like(x)), -100*torch.ones_like(x))\n",
    "for i in range(10):\n",
    "    samples = mean.repeat(K, 1, 1) + var.repeat(K, 1, 1) * torch.randn(K, H, A)\n",
    "    samples = clamp(samples)\n",
    "    \n",
    "    S = sys.unroll(x.expand(K, X), samples)\n",
    "    Sx = S[:, :, :X].view(-1, X)\n",
    "    Sa = S[:, :, X:X+A].view(-1, A)\n",
    "    J = cost(Sx, Sa)\n",
    "    J = J.view(K, -1)\n",
    "    J = torch.sum(J, dim=1)\n",
    "    \n",
    "    elites = samples[torch.argsort(J)][:E]\n",
    "    new_mean = torch.mean(elites, dim=0)\n",
    "    new_var = torch.var(elites, dim=0)\n",
    "\n",
    "    mean = 0.1 * mean + 0.9 * new_mean\n",
    "    var = 0.1 * var + 0.9 * new_var\n",
    "    \n",
    "    if torch.max(var) < 0.001:\n",
    "        break\n",
    "    \n",
    "actions = mean.unsqueeze(0)"
   ]
  },
  {
   "cell_type": "code",
   "execution_count": null,
   "metadata": {},
   "outputs": [],
   "source": [
    "S = sys.unroll(x, actions)\n",
    "Sx = S[:, :, :X].view(-1, X)\n",
    "Sx = Sx.detach().cpu().numpy()\n",
    "plt.plot(Sx[:, 0])"
   ]
  },
  {
   "cell_type": "markdown",
   "metadata": {},
   "source": [
    "### Multiple shooting"
   ]
  },
  {
   "cell_type": "code",
   "execution_count": null,
   "metadata": {
    "scrolled": false
   },
   "outputs": [],
   "source": [
    "K = 100000\n",
    "EX = 100\n",
    "EA = 1000\n",
    "H = 90\n",
    "L = 45\n",
    "M = int(H/L)\n",
    "\n",
    "mean_x = torch.zeros(M, X)\n",
    "var_x = (10**2)/16*torch.ones(M, X)\n",
    "mean_a = torch.zeros(H, A)\n",
    "var_a = (200**2)/16*torch.ones(H, A)\n",
    "\n",
    "clamp_a = lambda a: torch.max(torch.min(a, 100*torch.ones_like(a)), -100*torch.ones_like(a))\n",
    "clamp_x = lambda x: torch.max(torch.min(x, 5*torch.ones_like(x)), -5*torch.ones_like(x))\n",
    "\n",
    "for i in range(10):\n",
    "    samples_x = mean_x.repeat(K, 1, 1) + var_x.repeat(K, 1, 1) * torch.randn(K, M, X)\n",
    "    samples_a = mean_a.repeat(K, 1, 1) + var_a.repeat(K, 1, 1) * torch.randn(K, H, A)\n",
    "    samples_x = clamp_x(samples_x)\n",
    "    samples_a = clamp_a(samples_a)\n",
    "    \n",
    "    samples_x[:, 0, :] = x.expand(K, X)  \n",
    "    J = torch.zeros(K)\n",
    "    G = torch.zeros(K)\n",
    "    \n",
    "    for m in range(M):\n",
    "        x0 = samples_x[:, m, :]\n",
    "        S = sys.unroll(x0, samples_a[:, m*L:, :], L)\n",
    "        \n",
    "        if m < M - 1:\n",
    "            gap = S[:, -1, :X] -  samples_x[:, m + 1, :]\n",
    "            gap_cost = L * torch.norm(gap, p=2, dim=1)**2\n",
    "            \n",
    "        else:\n",
    "            gap_cost = 0 * torch.norm(gap, p=2, dim=1)**2\n",
    "        \n",
    "        Sx = S[:, :, :X].view(-1, X)\n",
    "        Sa = S[:, :, X:X+A].view(-1, A)\n",
    "\n",
    "        Jm = cost(Sx, Sa)\n",
    "        Jm = Jm.view(K, -1)\n",
    "        Jm = torch.sum(Jm, dim=1)\n",
    "        J += Jm\n",
    "        G += gap_cost\n",
    "                \n",
    "    elites_x = samples_x[torch.argsort(J+G)][:EX]\n",
    "    new_mean_x = torch.mean(elites_x, dim=0)\n",
    "    new_var_x = torch.var(elites_x, dim=0)\n",
    "\n",
    "    mean_x = 0.1 * mean_x + 0.9 * new_mean_x\n",
    "    var_x = 0.1 * var_x + 0.9 * new_var_x\n",
    "\n",
    "    elites_a = samples_a[torch.argsort(J+G)][:EA]\n",
    "    new_mean_a = torch.mean(elites_a, dim=0)\n",
    "    new_var_a = torch.var(elites_a, dim=0)\n",
    "\n",
    "    mean_a = 0.1 * mean_a + 0.9 * new_mean_a\n",
    "    var_a = 0.1 * var_a + 0.9 * new_var_a\n",
    "\n",
    "    if torch.max(var_x) < 0.001 and torch.max(var_a) < 0.001:\n",
    "        break\n",
    "    \n",
    "actions = mean_a.unsqueeze(0)\n",
    "states = mean_x.unsqueeze(0)"
   ]
  },
  {
   "cell_type": "code",
   "execution_count": null,
   "metadata": {},
   "outputs": [],
   "source": [
    "Sx = []\n",
    "for m in range(M):\n",
    "        S = sys.unroll(states[:, m, :], actions[:, m*L:, :], L)\n",
    "        Sx.append(S[:, :, :X].view(-1, X))\n",
    "Sx = torch.stack(Sx)\n",
    "Sx = Sx.view(H, -1).detach().cpu().numpy()\n",
    "plt.plot(Sx[:, 0])"
   ]
  },
  {
   "cell_type": "code",
   "execution_count": null,
   "metadata": {},
   "outputs": [],
   "source": [
    "S = sys.unroll(states[:, 0, :], actions)\n",
    "Sx = S[:, :, :X].view(-1, X)\n",
    "Sx = Sx.detach().cpu().numpy()\n",
    "plt.plot(Sx[:, 0])"
   ]
  }
 ],
 "metadata": {
  "kernelspec": {
   "display_name": "Python 3",
   "language": "python",
   "name": "python3"
  },
  "language_info": {
   "codemirror_mode": {
    "name": "ipython",
    "version": 3
   },
   "file_extension": ".py",
   "mimetype": "text/x-python",
   "name": "python",
   "nbconvert_exporter": "python",
   "pygments_lexer": "ipython3",
   "version": "3.6.9"
  }
 },
 "nbformat": 4,
 "nbformat_minor": 2
}
