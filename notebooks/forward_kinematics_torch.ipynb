{
 "cells": [
  {
   "cell_type": "code",
   "execution_count": 13,
   "metadata": {},
   "outputs": [],
   "source": [
    "from dotmap import DotMap"
   ]
  },
  {
   "cell_type": "code",
   "execution_count": 14,
   "metadata": {},
   "outputs": [],
   "source": [
    "import torch\n",
    "import numpy"
   ]
  },
  {
   "cell_type": "code",
   "execution_count": null,
   "metadata": {},
   "outputs": [],
   "source": [
    "from nn import beye, bsm"
   ]
  },
  {
   "cell_type": "code",
   "execution_count": 16,
   "metadata": {},
   "outputs": [],
   "source": [
    "def cross_product_matrix(v):\n",
    "    nb, dim = v.shape\n",
    "    assert dim==3\n",
    "    v1, v2, v3 = v[:, 0:1], v[:, 1:2], v[:, 2:3]\n",
    "    v_hat = torch.cat((torch.zeros(nb, 1), -v3, v2, \n",
    "                       v3, torch.zeros(nb, 1), -v1, \n",
    "                       -v2, v1, torch.zeros(nb, 1)), dim=1)\n",
    "    v_hat = v_hat.reshape(nb, 3, 3)\n",
    "    return v_hat"
   ]
  },
  {
   "cell_type": "code",
   "execution_count": 25,
   "metadata": {},
   "outputs": [],
   "source": [
    "def rodrigues_formula(w, th):\n",
    "    if w.ndimension() == 1:\n",
    "        w = w.unsqueeze(0)\n",
    "    if th.ndimension() == 1:\n",
    "        th = th.unsqueeze(0)\n",
    "        th = th.reshape(-1, 1)\n",
    "    nb, dim = w.shape\n",
    "    assert dim==3\n",
    "    w_hat = cross_product_matrix(w)\n",
    "    w_norm = torch.norm(w, dim=1, keepdim=True)\n",
    "    exp_wth = beye(nb, 3, 3)\n",
    "    exp_wth += bsm(torch.sin(w_norm * th) / w_norm, w_hat)\n",
    "    w_hat_squared = torch.bmm(w_hat, w_hat)\n",
    "    exp_wth += bsm((1-torch.cos(w_norm * th)) / (w_norm ** 2), w_hat_squared)\n",
    "    return exp_wth"
   ]
  },
  {
   "cell_type": "code",
   "execution_count": 21,
   "metadata": {},
   "outputs": [],
   "source": [
    "def Rx(th):\n",
    "    th = th.reshape(-1,1)\n",
    "    nb, _ = th.shape\n",
    "    axis = torch.Tensor([1,0,0]).repeat(nb, 1)\n",
    "    return rodrigues_formula(axis, th)\n",
    "def Ry(th):\n",
    "    th.reshape(-1,1)\n",
    "    nb, _ = th.shape\n",
    "    axis = torch.Tensor([0,1,0]).repeat(nb, 1)\n",
    "    return rodrigues_formula(axis, th)\n",
    "def Rz(th):\n",
    "    th.reshape(-1,1)\n",
    "    nb, _ = th.shape\n",
    "    axis = torch.Tensor([0,0,1]).repeat(nb, 1)\n",
    "    return rodrigues_formula(axis, th)"
   ]
  },
  {
   "cell_type": "code",
   "execution_count": 31,
   "metadata": {},
   "outputs": [],
   "source": [
    "def rpy_to_rotation_matrix(rpy):\n",
    "    roll, pitch, yaw = rpy[:, 0:1], rpy[:, 1:2], rpy[:, 2:3]\n",
    "    R = torch.bmm(Rz(yaw), torch.bmm(Ry(pitch), Rx(roll)))\n",
    "    return R"
   ]
  },
  {
   "cell_type": "code",
   "execution_count": 347,
   "metadata": {},
   "outputs": [],
   "source": [
    "class ForwardKinematics(nn.Module):\n",
    "    \n",
    "    def __init__(self, nq, xyz, rpy, axis, xyz_links):\n",
    "        super().__init__()\n",
    "        self.nq, self.axis = nq, axis\n",
    "        self.joints = self.joint_frame_chain(xyz, rpy)\n",
    "        self.links = self.link_frame_chain(xyz_links)\n",
    "        \n",
    "    def forward(self, q, idx):\n",
    "        nb, nq = q.shape[0:2]\n",
    "        q = q.reshape(-1,1)\n",
    "        axis = self.axis.repeat(nb, 1)\n",
    "        Tq = joint_rotation(axis, q)\n",
    "        T = torch.bmm(self.joints.repeat(nb, 1, 1), Tq)\n",
    "        T = T.reshape(nb, -1, 4, 4)\n",
    "        T_world = beye(nb, 4, 4)\n",
    "        for j in range(nq):\n",
    "            T_world = torch.bmm(T_world, T[:, j, :, :])\n",
    "        T_local = self.links[idx, :, :]\n",
    "        T_local = T_local.unsqueeze(0).repeat(nb, 1, 1)\n",
    "        T = torch.bmm(T_world, T_local)\n",
    "        return T\n",
    "        \n",
    "    def joint_frame_chain(self, xyz, rpy):\n",
    "        if xyz.ndimension() == 1:\n",
    "            xyz = xyz.unsqueeze(0)\n",
    "        if rpy.ndimension() == 1:\n",
    "            rpy = rpy.unsqueeze(0)\n",
    "        R = rpy_to_rotation_matrix(rpy)\n",
    "        xyz = xyz.unsqueeze(-1)\n",
    "        rpy = rpy.unsqueeze(-1)\n",
    "        T = torch.cat((R, xyz), dim=-1)\n",
    "        T = flatten_non_batch(T)\n",
    "        nb = T.shape[0]\n",
    "        last_row = torch.Tensor([0,0,0,1]).repeat(nb, 1)\n",
    "        T = torch.cat((T, last_row), dim=-1).reshape(-1, 4, 4)\n",
    "        return T\n",
    "        \n",
    "    def link_frame_chain(self, xyz, rpy=None):\n",
    "        if rpy is None:\n",
    "            rpy = torch.zeros_like(xyz)\n",
    "\n",
    "        if xyz.ndimension() == 1:\n",
    "            xyz = xyz.unsqueeze(0)\n",
    "        if rpy.ndimension() == 1:\n",
    "            rpy = rpy.unsqueeze(0)\n",
    "\n",
    "        R = rpy_to_rotation_matrix(rpy)\n",
    "        xyz = xyz.unsqueeze(-1)\n",
    "        rpy = rpy.unsqueeze(-1)\n",
    "        T = torch.cat((R, xyz), dim=-1)\n",
    "        T = flatten_non_batch(T)\n",
    "        nb = T.shape[0]\n",
    "        last_row = torch.Tensor([0,0,0,1]).repeat(nb, 1)\n",
    "        T = torch.cat((T, last_row), dim=-1).reshape(-1, 4, 4)\n",
    "        return T\n",
    "    \n",
    "    def joint_rotation(self, axis, q):\n",
    "        if axis.ndimension() == 1:\n",
    "            axis = axis.unsqueeze(0)\n",
    "        T = rodrigues_formula(axis, q)\n",
    "        nb = T.shape[0]\n",
    "        last_col = torch.Tensor([0,0,0]).reshape(-1,1).unsqueeze(0).repeat(nb, 1, 1)\n",
    "        T = torch.cat((T, last_col), dim=-1)\n",
    "        T = flatten_non_batch(T)\n",
    "        last_row = torch.Tensor([0,0,0,1]).repeat(nb, 1)\n",
    "        T = torch.cat((T, last_row), dim=-1).reshape(-1, 4, 4)\n",
    "        return T    "
   ]
  },
  {
   "cell_type": "code",
   "execution_count": 348,
   "metadata": {},
   "outputs": [],
   "source": [
    "# ## two-link \n",
    "# xyz = torch.Tensor([[0, 0, 0.075], \n",
    "#                     [1.05, 0, 0]])\n",
    "# rpy = torch.Tensor([[0, -pi/2, 0], \n",
    "#                     [0, 0, 0]])\n",
    "# axis = torch.Tensor([[0, 1, 0], \n",
    "#                      [0, 1, 0]])\n",
    "# xyz_links = torch.Tensor([[0.5, 0, 0],\n",
    "#                          [0.5 , 0, 0]])\n",
    "\n",
    "# twolink_fwk = ForwardKinematics(2, xyz, rpy, axis, xyz_links)\n",
    "# q = torch.Tensor([[0.25, 0.75], [0.25*pi, 0.75*pi]])\n",
    "# link_world = twolink_fwk(q, 1)"
   ]
  },
  {
   "cell_type": "code",
   "execution_count": 355,
   "metadata": {},
   "outputs": [],
   "source": [
    "## kuka\n",
    "\n",
    "xyz = torch.Tensor([[0, 0, 0.1575],\n",
    "                    [0, 0, 0.2025],\n",
    "                    [0.2045, 0, 0],\n",
    "                    [0, 0, 0.2155],\n",
    "                    [0, 0.1845, 0],\n",
    "                    [0, -0.06070, 0.21550],\n",
    "                    [0.08100, 0.00000, 0.06070]])\n",
    "rpy = torch.Tensor([[0, 0, 0],\n",
    "                    [2.3561944901923457, -1.5707962635746238, 2.3561944901923457],\n",
    "                    [1.5707963267948948, -4.371139000186238E-8, 1.5707963705062866],\n",
    "                    [1.5707963705062866, 0, 0],\n",
    "                    [-1.5707963705062866, 0, 0],\n",
    "                    [2.3561944901923457, -1.5707962635746238, 2.3561944901923457],\n",
    "                    [1.5707963267948948, -4.371139000186238E-8, 1.5707963705062866]])\n",
    "\n",
    "axis = torch.Tensor([0, 0, 1]).repeat(7,1)\n",
    "\n",
    "xyz_links = torch.Tensor([-0.05000, 0.00400, 0.12700]).repeat(7, 1)"
   ]
  },
  {
   "cell_type": "code",
   "execution_count": 356,
   "metadata": {},
   "outputs": [],
   "source": [
    "kuka_fwk = ForwardKinematics(7, xyz, rpy, axis, xyz_links)"
   ]
  },
  {
   "cell_type": "code",
   "execution_count": 361,
   "metadata": {},
   "outputs": [],
   "source": [
    "q = torch.stack((torch.zeros(7), torch.ones(7)))"
   ]
  },
  {
   "cell_type": "code",
   "execution_count": 364,
   "metadata": {},
   "outputs": [],
   "source": [
    "link_world = kuka_fwk(q, 6)"
   ]
  },
  {
   "cell_type": "code",
   "execution_count": null,
   "metadata": {},
   "outputs": [],
   "source": []
  }
 ],
 "metadata": {
  "kernelspec": {
   "display_name": "Python 3",
   "language": "python",
   "name": "python3"
  },
  "language_info": {
   "codemirror_mode": {
    "name": "ipython",
    "version": 3
   },
   "file_extension": ".py",
   "mimetype": "text/x-python",
   "name": "python",
   "nbconvert_exporter": "python",
   "pygments_lexer": "ipython3",
   "version": "3.7.2"
  }
 },
 "nbformat": 4,
 "nbformat_minor": 2
}
