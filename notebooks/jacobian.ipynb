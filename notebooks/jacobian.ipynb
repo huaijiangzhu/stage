{
 "cells": [
  {
   "cell_type": "code",
   "execution_count": 1,
   "metadata": {},
   "outputs": [],
   "source": [
    "%matplotlib inline\n",
    "%load_ext autoreload\n",
    "%autoreload 2"
   ]
  },
  {
   "cell_type": "code",
   "execution_count": 2,
   "metadata": {},
   "outputs": [],
   "source": [
    "import os\n",
    "import inspect\n",
    "currentdir = os.path.dirname(os.path.abspath(\n",
    "    inspect.getfile(inspect.currentframe())))\n",
    "parentdir = os.path.dirname(currentdir)\n",
    "os.sys.path.insert(1, parentdir+'/src')\n",
    "import torch\n",
    "import torch.nn as nn\n",
    "from torchvision import transforms\n",
    "import numpy as np\n",
    "import time\n",
    "from tqdm import trange\n",
    "import matplotlib.pyplot as plt\n",
    "import matplotlib"
   ]
  },
  {
   "cell_type": "code",
   "execution_count": 3,
   "metadata": {},
   "outputs": [],
   "source": [
    "from stage.utils.jacobian import Jacobian\n",
    "from stage.utils.nn import flatten_non_batch"
   ]
  },
  {
   "cell_type": "code",
   "execution_count": 4,
   "metadata": {},
   "outputs": [],
   "source": [
    "x = torch.Tensor([[1,0,0], [0,1,1]])\n",
    "x.requires_grad = True\n",
    "A = torch.Tensor([[[1,2,3],[4,5,6],[7,8,9]]])\n",
    "A = A.expand(x.shape[0], *A.shape[1:])\n",
    "Ax = torch.matmul(A, x.view(-1, 3, 1))\n",
    "xAx = torch.matmul(x.view(-1, 1, 3), Ax)\n",
    "xAx = flatten_non_batch(xAx)\n",
    "y = 0.5 * xAx"
   ]
  },
  {
   "cell_type": "code",
   "execution_count": 5,
   "metadata": {},
   "outputs": [
    {
     "name": "stdout",
     "output_type": "stream",
     "text": [
      "0.010175466537475586\n",
      "0.0011212825775146484\n"
     ]
    }
   ],
   "source": [
    "jac = Jacobian()\n",
    "import time\n",
    "start = time.time()\n",
    "dydx = jac(y, x)\n",
    "dydx = flatten_non_batch(dydx)\n",
    "print (time.time() - start)\n",
    "start = time.time()\n",
    "dydxdx = jac(dydx, x)\n",
    "print (time.time() - start)"
   ]
  }
 ],
 "metadata": {
  "kernelspec": {
   "display_name": "Python 3",
   "language": "python",
   "name": "python3"
  },
  "language_info": {
   "codemirror_mode": {
    "name": "ipython",
    "version": 3
   },
   "file_extension": ".py",
   "mimetype": "text/x-python",
   "name": "python",
   "nbconvert_exporter": "python",
   "pygments_lexer": "ipython3",
   "version": "3.6.8"
  }
 },
 "nbformat": 4,
 "nbformat_minor": 2
}
